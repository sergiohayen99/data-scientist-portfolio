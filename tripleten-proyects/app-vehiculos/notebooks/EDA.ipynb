{
 "cells": [
  {
   "cell_type": "markdown",
   "metadata": {},
   "source": [
    "Importar librerías que se utilizarán en el proyecto."
   ]
  },
  {
   "cell_type": "code",
   "execution_count": null,
   "metadata": {
    "vscode": {
     "languageId": "plaintext"
    }
   },
   "outputs": [],
   "source": [
    "import pandas as pd\n",
    "import plotly.express as px"
   ]
  },
  {
   "cell_type": "markdown",
   "metadata": {},
   "source": [
    "Cargar base de datos a utilizar en el proyecto."
   ]
  },
  {
   "cell_type": "code",
   "execution_count": null,
   "metadata": {
    "vscode": {
     "languageId": "plaintext"
    }
   },
   "outputs": [],
   "source": [
    "car_data = pd.read_csv('vehicles_us.csv')"
   ]
  },
  {
   "cell_type": "markdown",
   "metadata": {},
   "source": [
    "Gráfica de barras del modelo de los vehículos."
   ]
  },
  {
   "cell_type": "code",
   "execution_count": null,
   "metadata": {
    "vscode": {
     "languageId": "plaintext"
    }
   },
   "outputs": [],
   "source": [
    "bar1 = px.bar(car_data, x = \"model\", y = \"count\", title = \"Modelo\", xlabel = \"Modelo\")\n",
    "bar1.show()"
   ]
  },
  {
   "cell_type": "markdown",
   "metadata": {},
   "source": [
    "Gráfica de barras del año del modelo de los vehículos."
   ]
  },
  {
   "cell_type": "code",
   "execution_count": null,
   "metadata": {
    "vscode": {
     "languageId": "plaintext"
    }
   },
   "outputs": [],
   "source": [
    "bar2 = px.bar(car_data, x = \"model_year\", y = \"count\", title = \"Año del modelo\", xlabel = \"Año\")\n",
    "bar2.show()"
   ]
  },
  {
   "cell_type": "markdown",
   "metadata": {},
   "source": [
    "Gráfica de barras de la condición en la que se encuentra cada vehículo."
   ]
  },
  {
   "cell_type": "code",
   "execution_count": null,
   "metadata": {
    "vscode": {
     "languageId": "plaintext"
    }
   },
   "outputs": [],
   "source": [
    "bar3 = px.bar(car_data, x = \"condition\", y = \"count\", title = \"Condición del vehículo\", xlabel = \"Condición\")\n",
    "bar3.show()"
   ]
  },
  {
   "cell_type": "markdown",
   "metadata": {},
   "source": [
    "Gráfica de barras del número de cilindros de los vehículos."
   ]
  },
  {
   "cell_type": "code",
   "execution_count": null,
   "metadata": {
    "vscode": {
     "languageId": "plaintext"
    }
   },
   "outputs": [],
   "source": [
    "bar4 = px.bar(car_data, x = \"cylinders\", y = \"count\", title = \"Número de cilindros\", xlabel = \"No. Cilindros\")\n",
    "bar4.show()"
   ]
  },
  {
   "cell_type": "markdown",
   "metadata": {},
   "source": [
    "Gráfica de barras del tipo de combustible que utiliza cada vehículo."
   ]
  },
  {
   "cell_type": "code",
   "execution_count": null,
   "metadata": {
    "vscode": {
     "languageId": "plaintext"
    }
   },
   "outputs": [],
   "source": [
    "bar5 = px.bar(car_data, x = \"fuel\", y = \"count\", title = \"Tipo de combustible\", xlabel = \"Combustible\")\n",
    "bar5.show()"
   ]
  },
  {
   "cell_type": "markdown",
   "metadata": {},
   "source": [
    "Gráfica de barras del tipo de transmisión de cada vehículo."
   ]
  },
  {
   "cell_type": "code",
   "execution_count": null,
   "metadata": {
    "vscode": {
     "languageId": "plaintext"
    }
   },
   "outputs": [],
   "source": [
    "bar6 = px.bar(car_data, x = \"transmission\", y = \"count\", title = \"Tipo de transmisión\", xlabel = \"Transmisión\")\n",
    "bar6.show()"
   ]
  },
  {
   "cell_type": "markdown",
   "metadata": {},
   "source": [
    "Gráfica de barras del tipo de vehículo."
   ]
  },
  {
   "cell_type": "code",
   "execution_count": null,
   "metadata": {
    "vscode": {
     "languageId": "plaintext"
    }
   },
   "outputs": [],
   "source": [
    "bar7 = px.bar(car_data, x = \"type\", y = \"count\", title = \"Tipo de vehículo\", xlabel = \"Tipo de vehículo\")\n",
    "bar7.show()"
   ]
  },
  {
   "cell_type": "markdown",
   "metadata": {},
   "source": [
    "Gráfica de barras del color de los vehículos."
   ]
  },
  {
   "cell_type": "code",
   "execution_count": null,
   "metadata": {
    "vscode": {
     "languageId": "plaintext"
    }
   },
   "outputs": [],
   "source": [
    "bar8 = px.bar(car_data, x = \"paint_color\", y = \"count\", title = \"Color del vehículo\", xlabel = \"Color\")\n",
    "bar8.show()"
   ]
  },
  {
   "cell_type": "markdown",
   "metadata": {},
   "source": [
    "Histograma de los precios de los vehículos."
   ]
  },
  {
   "cell_type": "code",
   "execution_count": null,
   "metadata": {
    "vscode": {
     "languageId": "plaintext"
    }
   },
   "outputs": [],
   "source": [
    "hist1 = px.hist(car_data, x = \"price\", title = \"Precio del vehículo\", xlabel = \"Precio\")\n",
    "hist1.show()"
   ]
  },
  {
   "cell_type": "markdown",
   "metadata": {},
   "source": [
    "Histograma de la cantidad de millas recorridas de los vehículos."
   ]
  },
  {
   "cell_type": "code",
   "execution_count": null,
   "metadata": {
    "vscode": {
     "languageId": "plaintext"
    }
   },
   "outputs": [],
   "source": [
    "hist2 = px.hist(car_data, x = \"odometer\", title = \"Nivel del odómetro\", xlabel = \"Odómetro\")\n",
    "hist2.show()"
   ]
  },
  {
   "cell_type": "markdown",
   "metadata": {},
   "source": [
    "Histograma del tiempo que lleva el vehículo en la lista."
   ]
  },
  {
   "cell_type": "code",
   "execution_count": null,
   "metadata": {
    "vscode": {
     "languageId": "plaintext"
    }
   },
   "outputs": [],
   "source": [
    "hist3 = px.hist(car_data, \"days_listed\", title = \"Número de dias en la lista\", xlabel = \"No. días\")\n",
    "hist3.show()"
   ]
  },
  {
   "cell_type": "markdown",
   "metadata": {},
   "source": [
    "Gráfico de dispersión entre el precio y el año del modelo de los vehículos."
   ]
  },
  {
   "cell_type": "code",
   "execution_count": null,
   "metadata": {
    "vscode": {
     "languageId": "plaintext"
    }
   },
   "outputs": [],
   "source": [
    "scatter1 = px.scatter(car_data, x = \"year\", y = \"price\", title = \"Comparativa entre el año del modelo y el precio de los vehículos\", xlabel = \"Modelo\", ylabel = \"Precio\")\n",
    "scatter1.show()"
   ]
  },
  {
   "cell_type": "markdown",
   "metadata": {},
   "source": [
    "Gráfico de dispersión entre el precio y el nivel del odómetro de los vehículos."
   ]
  },
  {
   "cell_type": "code",
   "execution_count": null,
   "metadata": {
    "vscode": {
     "languageId": "plaintext"
    }
   },
   "outputs": [],
   "source": [
    "scatter2 = px.scatter(car_data, x = \"odometer\", y = \"price\", title = \"Comparativa entre nivel del odómetro y el precio de los vehículos\", xlabel = \"Odómetro\", ylabel = \"Precio\")\n",
    "scatter2.show()"
   ]
  },
  {
   "cell_type": "markdown",
   "metadata": {},
   "source": [
    "Gráfico de dispersión entre el precio y el número de días que el vehículo ha estado en la lista."
   ]
  },
  {
   "cell_type": "code",
   "execution_count": null,
   "metadata": {
    "vscode": {
     "languageId": "plaintext"
    }
   },
   "outputs": [],
   "source": [
    "scatter3 = px.scatter(car_data, x = \"days_listed\", y = \"price\", title = \"Comparativa entre el numero de días en la lista y el precio de los vehículos\", xlabel = \"No. días\", ylabel = \"Precio\")\n",
    "scatter3.show()"
   ]
  }
 ],
 "metadata": {
  "language_info": {
   "name": "python"
  }
 },
 "nbformat": 4,
 "nbformat_minor": 2
}
