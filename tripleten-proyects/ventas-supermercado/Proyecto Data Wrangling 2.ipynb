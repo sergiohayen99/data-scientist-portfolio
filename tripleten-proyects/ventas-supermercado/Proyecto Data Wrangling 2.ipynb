{
 "cells": [
  {
   "cell_type": "markdown",
   "id": "3Xg_RQfnafXz",
   "metadata": {
    "id": "3Xg_RQfnafXz"
   },
   "source": [
    "# ¡Llena ese carrito!"
   ]
  },
  {
   "cell_type": "markdown",
   "id": "mhIvmmkW414q",
   "metadata": {
    "id": "mhIvmmkW414q"
   },
   "source": [
    "# Introducción\n",
    "\n",
    "Instacart es una plataforma de entregas de comestibles donde la clientela puede registrar un pedido y hacer que se lo entreguen, similar a Uber Eats y Door Dash.\n",
    "El conjunto de datos que te hemos proporcionado tiene modificaciones del original. Redujimos el tamaño del conjunto para que tus cálculos se hicieran más rápido e introdujimos valores ausentes y duplicados. Tuvimos cuidado de conservar las distribuciones de los datos originales cuando hicimos los cambios.\n",
    "\n",
    "Debes completar tres pasos. Para cada uno de ellos, escribe una breve introducción que refleje con claridad cómo pretendes resolver cada paso, y escribe párrafos explicatorios que justifiquen tus decisiones al tiempo que avanzas en tu solución.  También escribe una conclusión que resuma tus hallazgos y elecciones.\n"
   ]
  },
  {
   "cell_type": "markdown",
   "id": "3MbyzpOQZ5Or",
   "metadata": {
    "id": "3MbyzpOQZ5Or"
   },
   "source": [
    "## Diccionario de datos\n",
    "\n",
    "Hay cinco tablas en el conjunto de datos, y tendrás que usarlas todas para hacer el preprocesamiento de datos y el análisis exploratorio de datos. A continuación se muestra un diccionario de datos que enumera las columnas de cada tabla y describe los datos que contienen.\n",
    "\n",
    "- `instacart_orders.csv`: cada fila corresponde a un pedido en la aplicación Instacart.\n",
    "    - `'order_id'`: número de ID que identifica de manera única cada pedido.\n",
    "    - `'user_id'`: número de ID que identifica de manera única la cuenta de cada cliente.\n",
    "    - `'order_number'`: el número de veces que este cliente ha hecho un pedido.\n",
    "    - `'order_dow'`: día de la semana en que se hizo el pedido (0 si es domingo).\n",
    "    - `'order_hour_of_day'`: hora del día en que se hizo el pedido.\n",
    "    - `'days_since_prior_order'`: número de días transcurridos desde que este cliente hizo su pedido anterior.\n",
    "- `products.csv`: cada fila corresponde a un producto único que pueden comprar los clientes.\n",
    "    - `'product_id'`: número ID que identifica de manera única cada producto.\n",
    "    - `'product_name'`: nombre del producto.\n",
    "    - `'aisle_id'`: número ID que identifica de manera única cada categoría de pasillo de víveres.\n",
    "    - `'department_id'`: número ID que identifica de manera única cada departamento de víveres.\n",
    "- `order_products.csv`: cada fila corresponde a un artículo pedido en un pedido.\n",
    "    - `'order_id'`: número de ID que identifica de manera única cada pedido.\n",
    "    - `'product_id'`: número ID que identifica de manera única cada producto.\n",
    "    - `'add_to_cart_order'`: el orden secuencial en el que se añadió cada artículo en el carrito.\n",
    "    - `'reordered'`: 0 si el cliente nunca ha pedido este producto antes, 1 si lo ha pedido.\n",
    "- `aisles.csv`\n",
    "    - `'aisle_id'`: número ID que identifica de manera única cada categoría de pasillo de víveres.\n",
    "    - `'aisle'`: nombre del pasillo.\n",
    "- `departments.csv`\n",
    "    - `'department_id'`: número ID que identifica de manera única cada departamento de víveres.\n",
    "    - `'department'`: nombre del departamento."
   ]
  },
  {
   "cell_type": "markdown",
   "id": "n3Ha_cNSZ8lK",
   "metadata": {
    "id": "n3Ha_cNSZ8lK"
   },
   "source": [
    "# Paso 1. Descripción de los datos\n",
    "\n",
    "Lee los archivos de datos (`/datasets/instacart_orders.csv`, `/datasets/products.csv`, `/datasets/aisles.csv`, `/datasets/departments.csv` y `/datasets/order_products.csv`) con `pd.read_csv()` usando los parámetros adecuados para leer los datos correctamente. Verifica la información para cada DataFrame creado.\n"
   ]
  },
  {
   "cell_type": "markdown",
   "id": "OmlQPLlyaAfR",
   "metadata": {
    "id": "OmlQPLlyaAfR"
   },
   "source": [
    "## Plan de solución\n",
    "\n",
    "Escribe aquí tu plan de solución para el Paso 1. Descripción de los datos."
   ]
  },
  {
   "cell_type": "code",
   "execution_count": 1,
   "id": "fbf1adab",
   "metadata": {
    "id": "fbf1adab"
   },
   "outputs": [],
   "source": [
    "# importar librerías\n",
    "import pandas as pd\n",
    "import numpy as np\n",
    "from matplotlib import pyplot as plt"
   ]
  },
  {
   "cell_type": "code",
   "execution_count": 2,
   "id": "ad36396d",
   "metadata": {
    "id": "ad36396d"
   },
   "outputs": [],
   "source": [
    "# leer conjuntos de datos en los DataFrames\n",
    "df_orders = pd.read_csv(\"/datasets/instacart_orders.csv\", sep=\";\")\n",
    "df_products = pd.read_csv(\"/datasets/products.csv\", sep=\";\")\n",
    "df_aisles = pd.read_csv(\"/datasets/aisles.csv\", sep=\";\")\n",
    "df_departments = pd.read_csv(\"/datasets/departments.csv\", sep=\";\")\n",
    "df_order_products = pd.read_csv(\"/datasets/order_products.csv\", sep=\";\")"
   ]
  },
  {
   "cell_type": "code",
   "execution_count": 3,
   "id": "ad6a1efa",
   "metadata": {
    "id": "ad6a1efa"
   },
   "outputs": [
    {
     "name": "stdout",
     "output_type": "stream",
     "text": [
      "<class 'pandas.core.frame.DataFrame'>\n",
      "RangeIndex: 478967 entries, 0 to 478966\n",
      "Data columns (total 6 columns):\n",
      " #   Column                  Non-Null Count   Dtype  \n",
      "---  ------                  --------------   -----  \n",
      " 0   order_id                478967 non-null  int64  \n",
      " 1   user_id                 478967 non-null  int64  \n",
      " 2   order_number            478967 non-null  int64  \n",
      " 3   order_dow               478967 non-null  int64  \n",
      " 4   order_hour_of_day       478967 non-null  int64  \n",
      " 5   days_since_prior_order  450148 non-null  float64\n",
      "dtypes: float64(1), int64(5)\n",
      "memory usage: 21.9 MB\n",
      "\n"
     ]
    },
    {
     "data": {
      "text/html": [
       "<div>\n",
       "<style scoped>\n",
       "    .dataframe tbody tr th:only-of-type {\n",
       "        vertical-align: middle;\n",
       "    }\n",
       "\n",
       "    .dataframe tbody tr th {\n",
       "        vertical-align: top;\n",
       "    }\n",
       "\n",
       "    .dataframe thead th {\n",
       "        text-align: right;\n",
       "    }\n",
       "</style>\n",
       "<table border=\"1\" class=\"dataframe\">\n",
       "  <thead>\n",
       "    <tr style=\"text-align: right;\">\n",
       "      <th></th>\n",
       "      <th>order_id</th>\n",
       "      <th>user_id</th>\n",
       "      <th>order_number</th>\n",
       "      <th>order_dow</th>\n",
       "      <th>order_hour_of_day</th>\n",
       "      <th>days_since_prior_order</th>\n",
       "    </tr>\n",
       "  </thead>\n",
       "  <tbody>\n",
       "    <tr>\n",
       "      <th>0</th>\n",
       "      <td>1515936</td>\n",
       "      <td>183418</td>\n",
       "      <td>11</td>\n",
       "      <td>6</td>\n",
       "      <td>13</td>\n",
       "      <td>30.0</td>\n",
       "    </tr>\n",
       "    <tr>\n",
       "      <th>1</th>\n",
       "      <td>1690866</td>\n",
       "      <td>163593</td>\n",
       "      <td>5</td>\n",
       "      <td>5</td>\n",
       "      <td>12</td>\n",
       "      <td>9.0</td>\n",
       "    </tr>\n",
       "    <tr>\n",
       "      <th>2</th>\n",
       "      <td>1454967</td>\n",
       "      <td>39980</td>\n",
       "      <td>4</td>\n",
       "      <td>5</td>\n",
       "      <td>19</td>\n",
       "      <td>2.0</td>\n",
       "    </tr>\n",
       "    <tr>\n",
       "      <th>3</th>\n",
       "      <td>1768857</td>\n",
       "      <td>82516</td>\n",
       "      <td>56</td>\n",
       "      <td>0</td>\n",
       "      <td>20</td>\n",
       "      <td>10.0</td>\n",
       "    </tr>\n",
       "    <tr>\n",
       "      <th>4</th>\n",
       "      <td>3007858</td>\n",
       "      <td>196724</td>\n",
       "      <td>2</td>\n",
       "      <td>4</td>\n",
       "      <td>12</td>\n",
       "      <td>17.0</td>\n",
       "    </tr>\n",
       "  </tbody>\n",
       "</table>\n",
       "</div>"
      ],
      "text/plain": [
       "   order_id  user_id  order_number  order_dow  order_hour_of_day  \\\n",
       "0   1515936   183418            11          6                 13   \n",
       "1   1690866   163593             5          5                 12   \n",
       "2   1454967    39980             4          5                 19   \n",
       "3   1768857    82516            56          0                 20   \n",
       "4   3007858   196724             2          4                 12   \n",
       "\n",
       "   days_since_prior_order  \n",
       "0                    30.0  \n",
       "1                     9.0  \n",
       "2                     2.0  \n",
       "3                    10.0  \n",
       "4                    17.0  "
      ]
     },
     "execution_count": 3,
     "metadata": {},
     "output_type": "execute_result"
    }
   ],
   "source": [
    "# mostrar información del DataFrame\n",
    "df_orders.info()\n",
    "print()\n",
    "df_orders.head()"
   ]
  },
  {
   "cell_type": "code",
   "execution_count": 4,
   "id": "5130e05e",
   "metadata": {
    "id": "5130e05e"
   },
   "outputs": [
    {
     "name": "stdout",
     "output_type": "stream",
     "text": [
      "<class 'pandas.core.frame.DataFrame'>\n",
      "RangeIndex: 49694 entries, 0 to 49693\n",
      "Data columns (total 4 columns):\n",
      " #   Column         Non-Null Count  Dtype \n",
      "---  ------         --------------  ----- \n",
      " 0   product_id     49694 non-null  int64 \n",
      " 1   product_name   48436 non-null  object\n",
      " 2   aisle_id       49694 non-null  int64 \n",
      " 3   department_id  49694 non-null  int64 \n",
      "dtypes: int64(3), object(1)\n",
      "memory usage: 1.5+ MB\n",
      "\n"
     ]
    },
    {
     "data": {
      "text/html": [
       "<div>\n",
       "<style scoped>\n",
       "    .dataframe tbody tr th:only-of-type {\n",
       "        vertical-align: middle;\n",
       "    }\n",
       "\n",
       "    .dataframe tbody tr th {\n",
       "        vertical-align: top;\n",
       "    }\n",
       "\n",
       "    .dataframe thead th {\n",
       "        text-align: right;\n",
       "    }\n",
       "</style>\n",
       "<table border=\"1\" class=\"dataframe\">\n",
       "  <thead>\n",
       "    <tr style=\"text-align: right;\">\n",
       "      <th></th>\n",
       "      <th>product_id</th>\n",
       "      <th>product_name</th>\n",
       "      <th>aisle_id</th>\n",
       "      <th>department_id</th>\n",
       "    </tr>\n",
       "  </thead>\n",
       "  <tbody>\n",
       "    <tr>\n",
       "      <th>0</th>\n",
       "      <td>1</td>\n",
       "      <td>Chocolate Sandwich Cookies</td>\n",
       "      <td>61</td>\n",
       "      <td>19</td>\n",
       "    </tr>\n",
       "    <tr>\n",
       "      <th>1</th>\n",
       "      <td>2</td>\n",
       "      <td>All-Seasons Salt</td>\n",
       "      <td>104</td>\n",
       "      <td>13</td>\n",
       "    </tr>\n",
       "    <tr>\n",
       "      <th>2</th>\n",
       "      <td>3</td>\n",
       "      <td>Robust Golden Unsweetened Oolong Tea</td>\n",
       "      <td>94</td>\n",
       "      <td>7</td>\n",
       "    </tr>\n",
       "    <tr>\n",
       "      <th>3</th>\n",
       "      <td>4</td>\n",
       "      <td>Smart Ones Classic Favorites Mini Rigatoni Wit...</td>\n",
       "      <td>38</td>\n",
       "      <td>1</td>\n",
       "    </tr>\n",
       "    <tr>\n",
       "      <th>4</th>\n",
       "      <td>5</td>\n",
       "      <td>Green Chile Anytime Sauce</td>\n",
       "      <td>5</td>\n",
       "      <td>13</td>\n",
       "    </tr>\n",
       "  </tbody>\n",
       "</table>\n",
       "</div>"
      ],
      "text/plain": [
       "   product_id                                       product_name  aisle_id  \\\n",
       "0           1                         Chocolate Sandwich Cookies        61   \n",
       "1           2                                   All-Seasons Salt       104   \n",
       "2           3               Robust Golden Unsweetened Oolong Tea        94   \n",
       "3           4  Smart Ones Classic Favorites Mini Rigatoni Wit...        38   \n",
       "4           5                          Green Chile Anytime Sauce         5   \n",
       "\n",
       "   department_id  \n",
       "0             19  \n",
       "1             13  \n",
       "2              7  \n",
       "3              1  \n",
       "4             13  "
      ]
     },
     "execution_count": 4,
     "metadata": {},
     "output_type": "execute_result"
    }
   ],
   "source": [
    "# mostrar información del DataFrame\n",
    "df_products.info()\n",
    "print()\n",
    "df_products.head()"
   ]
  },
  {
   "cell_type": "code",
   "execution_count": 5,
   "id": "d8370c05",
   "metadata": {
    "id": "d8370c05"
   },
   "outputs": [
    {
     "name": "stdout",
     "output_type": "stream",
     "text": [
      "<class 'pandas.core.frame.DataFrame'>\n",
      "RangeIndex: 134 entries, 0 to 133\n",
      "Data columns (total 2 columns):\n",
      " #   Column    Non-Null Count  Dtype \n",
      "---  ------    --------------  ----- \n",
      " 0   aisle_id  134 non-null    int64 \n",
      " 1   aisle     134 non-null    object\n",
      "dtypes: int64(1), object(1)\n",
      "memory usage: 2.2+ KB\n",
      "\n"
     ]
    },
    {
     "data": {
      "text/html": [
       "<div>\n",
       "<style scoped>\n",
       "    .dataframe tbody tr th:only-of-type {\n",
       "        vertical-align: middle;\n",
       "    }\n",
       "\n",
       "    .dataframe tbody tr th {\n",
       "        vertical-align: top;\n",
       "    }\n",
       "\n",
       "    .dataframe thead th {\n",
       "        text-align: right;\n",
       "    }\n",
       "</style>\n",
       "<table border=\"1\" class=\"dataframe\">\n",
       "  <thead>\n",
       "    <tr style=\"text-align: right;\">\n",
       "      <th></th>\n",
       "      <th>aisle_id</th>\n",
       "      <th>aisle</th>\n",
       "    </tr>\n",
       "  </thead>\n",
       "  <tbody>\n",
       "    <tr>\n",
       "      <th>0</th>\n",
       "      <td>1</td>\n",
       "      <td>prepared soups salads</td>\n",
       "    </tr>\n",
       "    <tr>\n",
       "      <th>1</th>\n",
       "      <td>2</td>\n",
       "      <td>specialty cheeses</td>\n",
       "    </tr>\n",
       "    <tr>\n",
       "      <th>2</th>\n",
       "      <td>3</td>\n",
       "      <td>energy granola bars</td>\n",
       "    </tr>\n",
       "    <tr>\n",
       "      <th>3</th>\n",
       "      <td>4</td>\n",
       "      <td>instant foods</td>\n",
       "    </tr>\n",
       "    <tr>\n",
       "      <th>4</th>\n",
       "      <td>5</td>\n",
       "      <td>marinades meat preparation</td>\n",
       "    </tr>\n",
       "  </tbody>\n",
       "</table>\n",
       "</div>"
      ],
      "text/plain": [
       "   aisle_id                       aisle\n",
       "0         1       prepared soups salads\n",
       "1         2           specialty cheeses\n",
       "2         3         energy granola bars\n",
       "3         4               instant foods\n",
       "4         5  marinades meat preparation"
      ]
     },
     "execution_count": 5,
     "metadata": {},
     "output_type": "execute_result"
    }
   ],
   "source": [
    "# mostrar información del DataFrame\n",
    "df_aisles.info()\n",
    "print()\n",
    "df_aisles.head()"
   ]
  },
  {
   "cell_type": "code",
   "execution_count": 6,
   "id": "59e2090f",
   "metadata": {
    "id": "59e2090f"
   },
   "outputs": [
    {
     "name": "stdout",
     "output_type": "stream",
     "text": [
      "<class 'pandas.core.frame.DataFrame'>\n",
      "RangeIndex: 21 entries, 0 to 20\n",
      "Data columns (total 2 columns):\n",
      " #   Column         Non-Null Count  Dtype \n",
      "---  ------         --------------  ----- \n",
      " 0   department_id  21 non-null     int64 \n",
      " 1   department     21 non-null     object\n",
      "dtypes: int64(1), object(1)\n",
      "memory usage: 464.0+ bytes\n",
      "\n"
     ]
    },
    {
     "data": {
      "text/html": [
       "<div>\n",
       "<style scoped>\n",
       "    .dataframe tbody tr th:only-of-type {\n",
       "        vertical-align: middle;\n",
       "    }\n",
       "\n",
       "    .dataframe tbody tr th {\n",
       "        vertical-align: top;\n",
       "    }\n",
       "\n",
       "    .dataframe thead th {\n",
       "        text-align: right;\n",
       "    }\n",
       "</style>\n",
       "<table border=\"1\" class=\"dataframe\">\n",
       "  <thead>\n",
       "    <tr style=\"text-align: right;\">\n",
       "      <th></th>\n",
       "      <th>department_id</th>\n",
       "      <th>department</th>\n",
       "    </tr>\n",
       "  </thead>\n",
       "  <tbody>\n",
       "    <tr>\n",
       "      <th>0</th>\n",
       "      <td>1</td>\n",
       "      <td>frozen</td>\n",
       "    </tr>\n",
       "    <tr>\n",
       "      <th>1</th>\n",
       "      <td>2</td>\n",
       "      <td>other</td>\n",
       "    </tr>\n",
       "    <tr>\n",
       "      <th>2</th>\n",
       "      <td>3</td>\n",
       "      <td>bakery</td>\n",
       "    </tr>\n",
       "    <tr>\n",
       "      <th>3</th>\n",
       "      <td>4</td>\n",
       "      <td>produce</td>\n",
       "    </tr>\n",
       "    <tr>\n",
       "      <th>4</th>\n",
       "      <td>5</td>\n",
       "      <td>alcohol</td>\n",
       "    </tr>\n",
       "  </tbody>\n",
       "</table>\n",
       "</div>"
      ],
      "text/plain": [
       "   department_id department\n",
       "0              1     frozen\n",
       "1              2      other\n",
       "2              3     bakery\n",
       "3              4    produce\n",
       "4              5    alcohol"
      ]
     },
     "execution_count": 6,
     "metadata": {},
     "output_type": "execute_result"
    }
   ],
   "source": [
    "# mostrar información del DataFrame\n",
    "df_departments.info()\n",
    "print()\n",
    "df_departments.head()"
   ]
  },
  {
   "cell_type": "code",
   "execution_count": 7,
   "id": "6fc81694",
   "metadata": {
    "id": "6fc81694"
   },
   "outputs": [
    {
     "name": "stdout",
     "output_type": "stream",
     "text": [
      "<class 'pandas.core.frame.DataFrame'>\n",
      "RangeIndex: 4545007 entries, 0 to 4545006\n",
      "Data columns (total 4 columns):\n",
      " #   Column             Dtype  \n",
      "---  ------             -----  \n",
      " 0   order_id           int64  \n",
      " 1   product_id         int64  \n",
      " 2   add_to_cart_order  float64\n",
      " 3   reordered          int64  \n",
      "dtypes: float64(1), int64(3)\n",
      "memory usage: 138.7 MB\n",
      "\n"
     ]
    },
    {
     "data": {
      "text/html": [
       "<div>\n",
       "<style scoped>\n",
       "    .dataframe tbody tr th:only-of-type {\n",
       "        vertical-align: middle;\n",
       "    }\n",
       "\n",
       "    .dataframe tbody tr th {\n",
       "        vertical-align: top;\n",
       "    }\n",
       "\n",
       "    .dataframe thead th {\n",
       "        text-align: right;\n",
       "    }\n",
       "</style>\n",
       "<table border=\"1\" class=\"dataframe\">\n",
       "  <thead>\n",
       "    <tr style=\"text-align: right;\">\n",
       "      <th></th>\n",
       "      <th>order_id</th>\n",
       "      <th>product_id</th>\n",
       "      <th>add_to_cart_order</th>\n",
       "      <th>reordered</th>\n",
       "    </tr>\n",
       "  </thead>\n",
       "  <tbody>\n",
       "    <tr>\n",
       "      <th>0</th>\n",
       "      <td>2141543</td>\n",
       "      <td>11440</td>\n",
       "      <td>17.0</td>\n",
       "      <td>0</td>\n",
       "    </tr>\n",
       "    <tr>\n",
       "      <th>1</th>\n",
       "      <td>567889</td>\n",
       "      <td>1560</td>\n",
       "      <td>1.0</td>\n",
       "      <td>1</td>\n",
       "    </tr>\n",
       "    <tr>\n",
       "      <th>2</th>\n",
       "      <td>2261212</td>\n",
       "      <td>26683</td>\n",
       "      <td>1.0</td>\n",
       "      <td>1</td>\n",
       "    </tr>\n",
       "    <tr>\n",
       "      <th>3</th>\n",
       "      <td>491251</td>\n",
       "      <td>8670</td>\n",
       "      <td>35.0</td>\n",
       "      <td>1</td>\n",
       "    </tr>\n",
       "    <tr>\n",
       "      <th>4</th>\n",
       "      <td>2571142</td>\n",
       "      <td>1940</td>\n",
       "      <td>5.0</td>\n",
       "      <td>1</td>\n",
       "    </tr>\n",
       "  </tbody>\n",
       "</table>\n",
       "</div>"
      ],
      "text/plain": [
       "   order_id  product_id  add_to_cart_order  reordered\n",
       "0   2141543       11440               17.0          0\n",
       "1    567889        1560                1.0          1\n",
       "2   2261212       26683                1.0          1\n",
       "3    491251        8670               35.0          1\n",
       "4   2571142        1940                5.0          1"
      ]
     },
     "execution_count": 7,
     "metadata": {},
     "output_type": "execute_result"
    }
   ],
   "source": [
    "# mostrar información del DataFrame\n",
    "df_order_products.info()\n",
    "print()\n",
    "df_order_products.head()"
   ]
  },
  {
   "cell_type": "markdown",
   "id": "t75BD19oaR5f",
   "metadata": {
    "id": "t75BD19oaR5f"
   },
   "source": [
    "## Conclusiones\n",
    "\n",
    "El primer DataFrame (órdenes de compra) consta de 478,967 filas y seis columnas, de las cuales cinco del tipo de datos entero y una del tipo flotante. Se observan valores ausentes en una de las seis columnas, empero estos valores son mínimos comparados con las filas del DataFrame.\n",
    "\n",
    "El segundo DataFrame (productos) consta de 49694 filas y cuatro columnas, de las cuales tres del tipo de datos entero y una del tipo objeto. No hay presencia de valores ausentes en ninguna de las cuatro columnas.\n",
    "\n",
    "El tercer Dataframe (pasillos) consta de 134 filas y dos columnas, de las cuales una es de tipo de datos entero y la otra del tipo objeto. No hay presencia de valores ausentes en ninguna de las dos columnas.\n",
    "\n",
    "El cuarto DataFrame (departamentos) consta de 21 filas y dos columnas, de las cuales una es del tipo de datos entero y la otra del tipo objeto. No hay presencia de valores ausentes en ninguna de las dos columnas.\n",
    "\n",
    "El quinto DataFrame (artículos de un pedido) consta de 4,545,007 filas y 4 columnas, de las cuales tres son del tipo de datos entero y una del tipo flotante. No hay presencia de valores ausentes en ninguna de las cuatro columnas.\n",
    "\n",
    "En conclusión, las bases de datos están completas (salvo una donde los valores ausentes son mínimos en una columna), por lo que en primera instancia la información es apropiada para poder trabajar con ella. Es importante realizar una exploración más profunda de los datos para encontrar errores más puntuales, lo cual se realizará en la siguiente etapa de este proyecto."
   ]
  },
  {
   "cell_type": "markdown",
   "id": "8RJHqxVmaVsF",
   "metadata": {
    "id": "8RJHqxVmaVsF"
   },
   "source": [
    "# Paso 2. Preprocesamiento de los datos\n",
    "\n",
    "Preprocesa los datos de la siguiente manera:\n",
    "\n",
    "- Verifica y corrige los tipos de datos (por ejemplo, asegúrate de que las columnas de ID sean números enteros).\n",
    "- Identifica y completa los valores ausentes.\n",
    "- Identifica y elimina los valores duplicados.\n",
    "\n",
    "Asegúrate de explicar qué tipos de valores ausentes y duplicados encontraste, cómo los completaste o eliminaste y por qué usaste esos métodos. ¿Por qué crees que estos valores ausentes y duplicados pueden haber estado presentes en el conjunto de datos?"
   ]
  },
  {
   "cell_type": "markdown",
   "id": "p6poABZQaZYb",
   "metadata": {
    "id": "p6poABZQaZYb"
   },
   "source": [
    "## Plan de solución\n",
    "\n",
    "Escribe aquí tu plan para el Paso 2. Preprocesamiento de los datos."
   ]
  },
  {
   "cell_type": "markdown",
   "id": "07357848-dc64-4156-9cc3-01ff4365226d",
   "metadata": {
    "id": "07357848-dc64-4156-9cc3-01ff4365226d"
   },
   "source": [
    "## Encuentra y elimina los valores duplicados (y describe cómo tomaste tus decisiones)."
   ]
  },
  {
   "cell_type": "markdown",
   "id": "f179f0a9",
   "metadata": {
    "id": "f179f0a9"
   },
   "source": [
    "### `instacart_orders` data frame"
   ]
  },
  {
   "cell_type": "code",
   "execution_count": 8,
   "id": "b99297a5-405a-463d-8535-9adc3da4ad74",
   "metadata": {
    "id": "b99297a5-405a-463d-8535-9adc3da4ad74"
   },
   "outputs": [
    {
     "name": "stdout",
     "output_type": "stream",
     "text": [
      "15\n",
      "\n"
     ]
    },
    {
     "data": {
      "text/html": [
       "<div>\n",
       "<style scoped>\n",
       "    .dataframe tbody tr th:only-of-type {\n",
       "        vertical-align: middle;\n",
       "    }\n",
       "\n",
       "    .dataframe tbody tr th {\n",
       "        vertical-align: top;\n",
       "    }\n",
       "\n",
       "    .dataframe thead th {\n",
       "        text-align: right;\n",
       "    }\n",
       "</style>\n",
       "<table border=\"1\" class=\"dataframe\">\n",
       "  <thead>\n",
       "    <tr style=\"text-align: right;\">\n",
       "      <th></th>\n",
       "      <th>order_id</th>\n",
       "      <th>user_id</th>\n",
       "      <th>order_number</th>\n",
       "      <th>order_dow</th>\n",
       "      <th>order_hour_of_day</th>\n",
       "      <th>days_since_prior_order</th>\n",
       "    </tr>\n",
       "  </thead>\n",
       "  <tbody>\n",
       "    <tr>\n",
       "      <th>145574</th>\n",
       "      <td>794638</td>\n",
       "      <td>50898</td>\n",
       "      <td>24</td>\n",
       "      <td>3</td>\n",
       "      <td>2</td>\n",
       "      <td>2.0</td>\n",
       "    </tr>\n",
       "    <tr>\n",
       "      <th>223105</th>\n",
       "      <td>2160484</td>\n",
       "      <td>107525</td>\n",
       "      <td>16</td>\n",
       "      <td>3</td>\n",
       "      <td>2</td>\n",
       "      <td>30.0</td>\n",
       "    </tr>\n",
       "    <tr>\n",
       "      <th>230807</th>\n",
       "      <td>1918001</td>\n",
       "      <td>188546</td>\n",
       "      <td>14</td>\n",
       "      <td>3</td>\n",
       "      <td>2</td>\n",
       "      <td>16.0</td>\n",
       "    </tr>\n",
       "    <tr>\n",
       "      <th>266232</th>\n",
       "      <td>1782114</td>\n",
       "      <td>106752</td>\n",
       "      <td>1</td>\n",
       "      <td>3</td>\n",
       "      <td>2</td>\n",
       "      <td>NaN</td>\n",
       "    </tr>\n",
       "    <tr>\n",
       "      <th>273805</th>\n",
       "      <td>1112182</td>\n",
       "      <td>202304</td>\n",
       "      <td>84</td>\n",
       "      <td>3</td>\n",
       "      <td>2</td>\n",
       "      <td>6.0</td>\n",
       "    </tr>\n",
       "    <tr>\n",
       "      <th>284038</th>\n",
       "      <td>2845099</td>\n",
       "      <td>31189</td>\n",
       "      <td>11</td>\n",
       "      <td>3</td>\n",
       "      <td>2</td>\n",
       "      <td>7.0</td>\n",
       "    </tr>\n",
       "    <tr>\n",
       "      <th>311713</th>\n",
       "      <td>1021560</td>\n",
       "      <td>53767</td>\n",
       "      <td>3</td>\n",
       "      <td>3</td>\n",
       "      <td>2</td>\n",
       "      <td>9.0</td>\n",
       "    </tr>\n",
       "    <tr>\n",
       "      <th>321100</th>\n",
       "      <td>408114</td>\n",
       "      <td>68324</td>\n",
       "      <td>4</td>\n",
       "      <td>3</td>\n",
       "      <td>2</td>\n",
       "      <td>18.0</td>\n",
       "    </tr>\n",
       "    <tr>\n",
       "      <th>323900</th>\n",
       "      <td>1919531</td>\n",
       "      <td>191501</td>\n",
       "      <td>32</td>\n",
       "      <td>3</td>\n",
       "      <td>2</td>\n",
       "      <td>7.0</td>\n",
       "    </tr>\n",
       "    <tr>\n",
       "      <th>345917</th>\n",
       "      <td>2232988</td>\n",
       "      <td>82565</td>\n",
       "      <td>1</td>\n",
       "      <td>3</td>\n",
       "      <td>2</td>\n",
       "      <td>NaN</td>\n",
       "    </tr>\n",
       "    <tr>\n",
       "      <th>371905</th>\n",
       "      <td>391768</td>\n",
       "      <td>57671</td>\n",
       "      <td>19</td>\n",
       "      <td>3</td>\n",
       "      <td>2</td>\n",
       "      <td>10.0</td>\n",
       "    </tr>\n",
       "    <tr>\n",
       "      <th>394347</th>\n",
       "      <td>467134</td>\n",
       "      <td>63189</td>\n",
       "      <td>21</td>\n",
       "      <td>3</td>\n",
       "      <td>2</td>\n",
       "      <td>2.0</td>\n",
       "    </tr>\n",
       "    <tr>\n",
       "      <th>411408</th>\n",
       "      <td>1286742</td>\n",
       "      <td>183220</td>\n",
       "      <td>48</td>\n",
       "      <td>3</td>\n",
       "      <td>2</td>\n",
       "      <td>4.0</td>\n",
       "    </tr>\n",
       "    <tr>\n",
       "      <th>415163</th>\n",
       "      <td>2282673</td>\n",
       "      <td>86751</td>\n",
       "      <td>49</td>\n",
       "      <td>3</td>\n",
       "      <td>2</td>\n",
       "      <td>2.0</td>\n",
       "    </tr>\n",
       "    <tr>\n",
       "      <th>441599</th>\n",
       "      <td>2125197</td>\n",
       "      <td>14050</td>\n",
       "      <td>48</td>\n",
       "      <td>3</td>\n",
       "      <td>2</td>\n",
       "      <td>3.0</td>\n",
       "    </tr>\n",
       "  </tbody>\n",
       "</table>\n",
       "</div>"
      ],
      "text/plain": [
       "        order_id  user_id  order_number  order_dow  order_hour_of_day  \\\n",
       "145574    794638    50898            24          3                  2   \n",
       "223105   2160484   107525            16          3                  2   \n",
       "230807   1918001   188546            14          3                  2   \n",
       "266232   1782114   106752             1          3                  2   \n",
       "273805   1112182   202304            84          3                  2   \n",
       "284038   2845099    31189            11          3                  2   \n",
       "311713   1021560    53767             3          3                  2   \n",
       "321100    408114    68324             4          3                  2   \n",
       "323900   1919531   191501            32          3                  2   \n",
       "345917   2232988    82565             1          3                  2   \n",
       "371905    391768    57671            19          3                  2   \n",
       "394347    467134    63189            21          3                  2   \n",
       "411408   1286742   183220            48          3                  2   \n",
       "415163   2282673    86751            49          3                  2   \n",
       "441599   2125197    14050            48          3                  2   \n",
       "\n",
       "        days_since_prior_order  \n",
       "145574                     2.0  \n",
       "223105                    30.0  \n",
       "230807                    16.0  \n",
       "266232                     NaN  \n",
       "273805                     6.0  \n",
       "284038                     7.0  \n",
       "311713                     9.0  \n",
       "321100                    18.0  \n",
       "323900                     7.0  \n",
       "345917                     NaN  \n",
       "371905                    10.0  \n",
       "394347                     2.0  \n",
       "411408                     4.0  \n",
       "415163                     2.0  \n",
       "441599                     3.0  "
      ]
     },
     "execution_count": 8,
     "metadata": {},
     "output_type": "execute_result"
    }
   ],
   "source": [
    "# Revisa si hay pedidos duplicados\n",
    "print(df_orders.duplicated().sum())\n",
    "print()\n",
    "df_orders[df_orders.duplicated()]"
   ]
  },
  {
   "cell_type": "markdown",
   "id": "PEkwUX_gvt5A",
   "metadata": {
    "id": "PEkwUX_gvt5A"
   },
   "source": [
    "Se observan 15 duplicados, al parecer todos los duplicados coinciden en el mismo día y hora realizadas. "
   ]
  },
  {
   "cell_type": "code",
   "execution_count": 9,
   "id": "0d44de5d",
   "metadata": {
    "id": "0d44de5d"
   },
   "outputs": [
    {
     "name": "stdout",
     "output_type": "stream",
     "text": [
      "        order_id  user_id  order_number  order_dow  order_hour_of_day  \\\n",
      "4838     2766110   162084            41          3                  2   \n",
      "5156     2190225   138285            18          3                  2   \n",
      "15506     553049    58599            13          3                  2   \n",
      "18420     382357   120200            19          3                  2   \n",
      "24691     690242    77357             2          3                  2   \n",
      "...          ...      ...           ...        ...                ...   \n",
      "457013   3384021    14881             6          3                  2   \n",
      "458816    910166   164782            18          3                  2   \n",
      "459635   1680532   106435             6          3                  2   \n",
      "468324    222962    54979            59          3                  2   \n",
      "477526   2592344    46860            38          3                  2   \n",
      "\n",
      "        days_since_prior_order  \n",
      "4838                      16.0  \n",
      "5156                      11.0  \n",
      "15506                      7.0  \n",
      "18420                     11.0  \n",
      "24691                      9.0  \n",
      "...                        ...  \n",
      "457013                    30.0  \n",
      "458816                     4.0  \n",
      "459635                    21.0  \n",
      "468324                     3.0  \n",
      "477526                     3.0  \n",
      "\n",
      "[121 rows x 6 columns]\n",
      "\n",
      "15\n",
      "\n",
      "El 12.396694214876034% de los pedidos de los miércoles a las 2 de la mañana son duplicados.\n"
     ]
    }
   ],
   "source": [
    "# Basándote en tus hallazgos,\n",
    "# Verifica todos los pedidos que se hicieron el miércoles a las 2:00 a.m.\n",
    "print(df_orders[(df_orders[\"order_dow\"]==3)&(df_orders[\"order_hour_of_day\"]==2)])\n",
    "print()\n",
    "print(df_orders[(df_orders[\"order_dow\"]==3)&(df_orders[\"order_hour_of_day\"]==2)].duplicated().sum())\n",
    "print()\n",
    "print(\"El \" + str((15/121)*100) + \"% de los pedidos de los miércoles a las 2 de la mañana son duplicados.\")"
   ]
  },
  {
   "cell_type": "markdown",
   "id": "vu2OWyoqwOx5",
   "metadata": {
    "id": "vu2OWyoqwOx5"
   },
   "source": [
    "Se confirma que los duplicados son de pedidos del día miéroles a las 2 de la mañana. Sin embargo, solo el 12.3966% de los pedidos que fueron realizados en ese horario son duplicados. "
   ]
  },
  {
   "cell_type": "code",
   "execution_count": 10,
   "id": "480563c7",
   "metadata": {
    "id": "480563c7"
   },
   "outputs": [],
   "source": [
    "# Elimina los pedidos duplicados\n",
    "df_orders = df_orders.drop_duplicates().reset_index(drop=True)"
   ]
  },
  {
   "cell_type": "code",
   "execution_count": 11,
   "id": "0b2396a2",
   "metadata": {
    "id": "0b2396a2"
   },
   "outputs": [
    {
     "name": "stdout",
     "output_type": "stream",
     "text": [
      "0\n"
     ]
    }
   ],
   "source": [
    "# Vuelve a verificar si hay filas duplicadas\n",
    "print(df_orders.duplicated().sum())"
   ]
  },
  {
   "cell_type": "code",
   "execution_count": 12,
   "id": "f6113ef1",
   "metadata": {
    "id": "f6113ef1"
   },
   "outputs": [
    {
     "name": "stdout",
     "output_type": "stream",
     "text": [
      "478952\n",
      "\n",
      "1048576    1\n",
      "1073164    1\n",
      "1079311    1\n",
      "2129936    1\n",
      "402526     1\n",
      "          ..\n",
      "2117923    1\n",
      "2197455    1\n",
      "1152973    1\n",
      "47081      1\n",
      "2047       1\n",
      "Name: order_id, Length: 478952, dtype: int64\n"
     ]
    }
   ],
   "source": [
    "# Vuelve a verificar si hay IDs duplicados de pedidos\n",
    "print(df_orders[\"order_id\"].nunique())\n",
    "print()\n",
    "print(df_orders[\"order_id\"].value_counts().sort_values())"
   ]
  },
  {
   "cell_type": "markdown",
   "id": "5e8905ae",
   "metadata": {
    "id": "5e8905ae"
   },
   "source": [
    "Se observaron 15 ordenes duplicadas en el DataFrame de instacart_orders. Todos coinidieron en que fueron pedidos del día miercoles a las 2 de la mañana. Se utilizó el metodo drop_duplicates() para eliminarlos. "
   ]
  },
  {
   "cell_type": "markdown",
   "id": "45e6bc46",
   "metadata": {
    "id": "45e6bc46"
   },
   "source": [
    "### `products` data frame"
   ]
  },
  {
   "cell_type": "code",
   "execution_count": 13,
   "id": "5f526b5b-8175-46fa-a0fd-441767d50e64",
   "metadata": {
    "id": "5f526b5b-8175-46fa-a0fd-441767d50e64"
   },
   "outputs": [
    {
     "name": "stdout",
     "output_type": "stream",
     "text": [
      "0\n"
     ]
    }
   ],
   "source": [
    "# Verifica si hay filas totalmente duplicadas\n",
    "print(df_products.duplicated().sum())"
   ]
  },
  {
   "cell_type": "code",
   "execution_count": 14,
   "id": "88daa4f4",
   "metadata": {
    "id": "88daa4f4"
   },
   "outputs": [
    {
     "name": "stdout",
     "output_type": "stream",
     "text": [
      "49694\n",
      "\n",
      "2049     1\n",
      "32       1\n",
      "49176    1\n",
      "24588    1\n",
      "6147     1\n",
      "        ..\n",
      "10235    1\n",
      "8188     1\n",
      "6141     1\n",
      "1983     1\n",
      "2047     1\n",
      "Name: product_id, Length: 49694, dtype: int64\n"
     ]
    }
   ],
   "source": [
    "# Verifica si hay IDs duplicadas de productos\n",
    "print(df_products[\"product_id\"].nunique())\n",
    "print()\n",
    "print(df_products[\"product_id\"].value_counts().sort_values())"
   ]
  },
  {
   "cell_type": "code",
   "execution_count": 15,
   "id": "c773f0bf",
   "metadata": {
    "id": "c773f0bf"
   },
   "outputs": [
    {
     "name": "stdout",
     "output_type": "stream",
     "text": [
      "1361\n"
     ]
    }
   ],
   "source": [
    "# Revisa si hay nombres duplicados de productos (convierte los nombres a letras mayúsculas para compararlos mejor)\n",
    "df_products[\"product_name\"] = df_products[\"product_name\"].str.upper()\n",
    "print(df_products[\"product_name\"].duplicated().sum())"
   ]
  },
  {
   "cell_type": "code",
   "execution_count": 16,
   "id": "01efd02e",
   "metadata": {
    "id": "01efd02e"
   },
   "outputs": [
    {
     "data": {
      "text/plain": [
       "GREEN TEA WITH GINSENG AND HONEY                                        3\n",
       "PROACTIVE HEALTH INDOOR WEIGHT & HAIRBALL CARE WITH CHICKEN CAT FOOD    2\n",
       "COSMIC BROWNIES WITH CHOCOLATE CHIP CANDY                               2\n",
       "FIRE ROASTED DICED TOMATOES WITH GARLIC                                 2\n",
       "SPREADABLE BUTTER WITH CANOLA OIL                                       2\n",
       "                                                                       ..\n",
       "KIDS STRAWBERRY BANANA LOW-FAT YOGURT 25% LESS SUGAR                    1\n",
       "ORIGINAL ROASTED & SALTED SUNFLOWER SEEDS                               1\n",
       "PIBB XTRA SODA                                                          1\n",
       "VANILLA CRISP ENERGY BAR                                                1\n",
       "STAR WARS MACARONI & CHEESE                                             1\n",
       "Name: product_name, Length: 48332, dtype: int64"
      ]
     },
     "execution_count": 16,
     "metadata": {},
     "output_type": "execute_result"
    }
   ],
   "source": [
    "# Revisa si hay nombres duplicados de productos no faltantes\n",
    "df_products[\"product_name\"].value_counts()\n",
    "    "
   ]
  },
  {
   "cell_type": "markdown",
   "id": "9da8d293",
   "metadata": {
    "id": "9da8d293"
   },
   "source": [
    "No se observaron filas duplicadas en el DataFrame de products. Sin embargo, se observaron 1,361 nombres duplicados en la columna de product_name. Esto se debe a que hay productos registrados con dos o más IDs. Para observar esto, se transformaron todos los nombres de los productos a mayúsculas, ya que habia disparidad en la sintaxis de los productos."
   ]
  },
  {
   "cell_type": "markdown",
   "id": "60f30db1",
   "metadata": {
    "id": "60f30db1"
   },
   "source": [
    "### `departments` data frame"
   ]
  },
  {
   "cell_type": "code",
   "execution_count": 17,
   "id": "fb410ad4-0fbf-4b80-bb09-23fdea79afe3",
   "metadata": {
    "id": "fb410ad4-0fbf-4b80-bb09-23fdea79afe3"
   },
   "outputs": [
    {
     "name": "stdout",
     "output_type": "stream",
     "text": [
      "0\n"
     ]
    }
   ],
   "source": [
    "# Revisa si hay filas totalmente duplicadas\n",
    "print(df_departments.duplicated().sum())"
   ]
  },
  {
   "cell_type": "code",
   "execution_count": 18,
   "id": "332b12bb",
   "metadata": {
    "id": "332b12bb"
   },
   "outputs": [
    {
     "name": "stdout",
     "output_type": "stream",
     "text": [
      "21\n",
      "\n",
      "1     1\n",
      "12    1\n",
      "20    1\n",
      "19    1\n",
      "18    1\n",
      "17    1\n",
      "16    1\n",
      "15    1\n",
      "14    1\n",
      "13    1\n",
      "11    1\n",
      "2     1\n",
      "10    1\n",
      "9     1\n",
      "8     1\n",
      "7     1\n",
      "6     1\n",
      "5     1\n",
      "4     1\n",
      "3     1\n",
      "21    1\n",
      "Name: department_id, dtype: int64\n"
     ]
    }
   ],
   "source": [
    "# Revisa si hay IDs duplicadas de productos\n",
    "print(df_departments[\"department_id\"].nunique())\n",
    "print()\n",
    "print(df_departments[\"department_id\"].value_counts())"
   ]
  },
  {
   "cell_type": "markdown",
   "id": "bd30d78e",
   "metadata": {
    "id": "bd30d78e"
   },
   "source": [
    "No se observan duplicados en el DataFrame de departments."
   ]
  },
  {
   "cell_type": "markdown",
   "id": "889349c1",
   "metadata": {
    "id": "889349c1"
   },
   "source": [
    "### `aisles` data frame"
   ]
  },
  {
   "cell_type": "code",
   "execution_count": 19,
   "id": "9da89fb9-4679-40f5-ad0d-c34df753a3f8",
   "metadata": {
    "id": "9da89fb9-4679-40f5-ad0d-c34df753a3f8"
   },
   "outputs": [
    {
     "name": "stdout",
     "output_type": "stream",
     "text": [
      "0\n"
     ]
    }
   ],
   "source": [
    "# Revisa si hay filas totalmente duplicadas\n",
    "print(df_aisles.duplicated().sum())"
   ]
  },
  {
   "cell_type": "code",
   "execution_count": 20,
   "id": "da7c2822",
   "metadata": {
    "id": "da7c2822"
   },
   "outputs": [
    {
     "name": "stdout",
     "output_type": "stream",
     "text": [
      "134\n",
      "\n",
      "1      1\n",
      "5      1\n",
      "6      1\n",
      "7      1\n",
      "8      1\n",
      "      ..\n",
      "132    1\n",
      "133    1\n",
      "119    1\n",
      "120    1\n",
      "134    1\n",
      "Name: aisle_id, Length: 134, dtype: int64\n"
     ]
    }
   ],
   "source": [
    "# Revisa si hay IDs duplicadas de productos\n",
    "print(df_aisles[\"aisle_id\"].nunique())\n",
    "print()\n",
    "print(df_aisles[\"aisle_id\"].value_counts().sort_values())"
   ]
  },
  {
   "cell_type": "markdown",
   "id": "ac63826f",
   "metadata": {
    "id": "ac63826f"
   },
   "source": [
    "No se observan duplicados en el DataFrame de aisles."
   ]
  },
  {
   "cell_type": "markdown",
   "id": "274cd06a",
   "metadata": {
    "id": "274cd06a"
   },
   "source": [
    "### `order_products` data frame"
   ]
  },
  {
   "cell_type": "code",
   "execution_count": 21,
   "id": "52326689-84a8-4b8f-a881-7c68780f62c9",
   "metadata": {
    "id": "52326689-84a8-4b8f-a881-7c68780f62c9"
   },
   "outputs": [
    {
     "name": "stdout",
     "output_type": "stream",
     "text": [
      "0\n"
     ]
    }
   ],
   "source": [
    "# Revisa si hay filas totalmente duplicadas\n",
    "print(df_order_products.duplicated().sum())"
   ]
  },
  {
   "cell_type": "code",
   "execution_count": 22,
   "id": "7b861391",
   "metadata": {
    "id": "7b861391"
   },
   "outputs": [
    {
     "name": "stdout",
     "output_type": "stream",
     "text": [
      "450046\n",
      "\n",
      "61355      127\n",
      "3308010    115\n",
      "2136777    108\n",
      "171934     104\n",
      "1959075     98\n",
      "          ... \n",
      "54659        1\n",
      "210431       1\n",
      "1717983      1\n",
      "1136563      1\n",
      "8196         1\n",
      "Name: order_id, Length: 450046, dtype: int64\n",
      "\n"
     ]
    },
    {
     "data": {
      "text/html": [
       "<div>\n",
       "<style scoped>\n",
       "    .dataframe tbody tr th:only-of-type {\n",
       "        vertical-align: middle;\n",
       "    }\n",
       "\n",
       "    .dataframe tbody tr th {\n",
       "        vertical-align: top;\n",
       "    }\n",
       "\n",
       "    .dataframe thead th {\n",
       "        text-align: right;\n",
       "    }\n",
       "</style>\n",
       "<table border=\"1\" class=\"dataframe\">\n",
       "  <thead>\n",
       "    <tr style=\"text-align: right;\">\n",
       "      <th></th>\n",
       "      <th>order_id</th>\n",
       "      <th>product_id</th>\n",
       "      <th>add_to_cart_order</th>\n",
       "      <th>reordered</th>\n",
       "    </tr>\n",
       "  </thead>\n",
       "  <tbody>\n",
       "    <tr>\n",
       "      <th>2834230</th>\n",
       "      <td>4</td>\n",
       "      <td>26434</td>\n",
       "      <td>2.0</td>\n",
       "      <td>1</td>\n",
       "    </tr>\n",
       "    <tr>\n",
       "      <th>1420535</th>\n",
       "      <td>4</td>\n",
       "      <td>10054</td>\n",
       "      <td>5.0</td>\n",
       "      <td>1</td>\n",
       "    </tr>\n",
       "    <tr>\n",
       "      <th>2507695</th>\n",
       "      <td>4</td>\n",
       "      <td>17616</td>\n",
       "      <td>10.0</td>\n",
       "      <td>1</td>\n",
       "    </tr>\n",
       "    <tr>\n",
       "      <th>1295279</th>\n",
       "      <td>4</td>\n",
       "      <td>39758</td>\n",
       "      <td>3.0</td>\n",
       "      <td>1</td>\n",
       "    </tr>\n",
       "    <tr>\n",
       "      <th>1299531</th>\n",
       "      <td>4</td>\n",
       "      <td>32645</td>\n",
       "      <td>12.0</td>\n",
       "      <td>1</td>\n",
       "    </tr>\n",
       "    <tr>\n",
       "      <th>...</th>\n",
       "      <td>...</td>\n",
       "      <td>...</td>\n",
       "      <td>...</td>\n",
       "      <td>...</td>\n",
       "    </tr>\n",
       "    <tr>\n",
       "      <th>1718460</th>\n",
       "      <td>3421071</td>\n",
       "      <td>21791</td>\n",
       "      <td>2.0</td>\n",
       "      <td>0</td>\n",
       "    </tr>\n",
       "    <tr>\n",
       "      <th>1692878</th>\n",
       "      <td>3421071</td>\n",
       "      <td>32293</td>\n",
       "      <td>4.0</td>\n",
       "      <td>1</td>\n",
       "    </tr>\n",
       "    <tr>\n",
       "      <th>1505667</th>\n",
       "      <td>3421077</td>\n",
       "      <td>27966</td>\n",
       "      <td>1.0</td>\n",
       "      <td>0</td>\n",
       "    </tr>\n",
       "    <tr>\n",
       "      <th>4417991</th>\n",
       "      <td>3421077</td>\n",
       "      <td>45007</td>\n",
       "      <td>2.0</td>\n",
       "      <td>0</td>\n",
       "    </tr>\n",
       "    <tr>\n",
       "      <th>4000108</th>\n",
       "      <td>3421077</td>\n",
       "      <td>27845</td>\n",
       "      <td>4.0</td>\n",
       "      <td>0</td>\n",
       "    </tr>\n",
       "  </tbody>\n",
       "</table>\n",
       "<p>4094961 rows × 4 columns</p>\n",
       "</div>"
      ],
      "text/plain": [
       "         order_id  product_id  add_to_cart_order  reordered\n",
       "2834230         4       26434                2.0          1\n",
       "1420535         4       10054                5.0          1\n",
       "2507695         4       17616               10.0          1\n",
       "1295279         4       39758                3.0          1\n",
       "1299531         4       32645               12.0          1\n",
       "...           ...         ...                ...        ...\n",
       "1718460   3421071       21791                2.0          0\n",
       "1692878   3421071       32293                4.0          1\n",
       "1505667   3421077       27966                1.0          0\n",
       "4417991   3421077       45007                2.0          0\n",
       "4000108   3421077       27845                4.0          0\n",
       "\n",
       "[4094961 rows x 4 columns]"
      ]
     },
     "execution_count": 22,
     "metadata": {},
     "output_type": "execute_result"
    }
   ],
   "source": [
    "# Vuelve a verificar si hay cualquier otro duplicado engañoso\n",
    "print(df_order_products[\"order_id\"].nunique())\n",
    "print()\n",
    "print(df_order_products[\"order_id\"].value_counts())\n",
    "print()\n",
    "df_order_products[df_order_products[\"order_id\"].duplicated()].sort_values(\"order_id\")"
   ]
  },
  {
   "cell_type": "markdown",
   "id": "0b890492",
   "metadata": {
    "id": "0b890492"
   },
   "source": [
    "Se observan varios duplicados en la columna order_id del DataFrame order_products. Sin embargo, es normal ya que indica que se agregaron múltiples artículos a las órdenes de compra."
   ]
  },
  {
   "cell_type": "markdown",
   "id": "1e46de76",
   "metadata": {
    "id": "1e46de76"
   },
   "source": [
    "## Encuentra y elimina los valores ausentes\n",
    "\n",
    "Al trabajar con valores duplicados, pudimos observar que también nos falta investigar valores ausentes:\n",
    "\n",
    "* La columna `'product_name'` de la tabla products.\n",
    "* La columna `'days_since_prior_order'` de la tabla orders.\n",
    "* La columna `'add_to_cart_order'` de la tabla order_productos."
   ]
  },
  {
   "cell_type": "markdown",
   "id": "c0aebd78",
   "metadata": {
    "id": "c0aebd78"
   },
   "source": [
    "### `products` data frame"
   ]
  },
  {
   "cell_type": "code",
   "execution_count": 23,
   "id": "fe4a8b0f",
   "metadata": {
    "id": "fe4a8b0f"
   },
   "outputs": [
    {
     "name": "stdout",
     "output_type": "stream",
     "text": [
      "1258\n"
     ]
    }
   ],
   "source": [
    "# Encuentra los valores ausentes en la columna 'product_name'\n",
    "print(df_products[\"product_name\"].isna().sum())"
   ]
  },
  {
   "cell_type": "markdown",
   "id": "-A6x1AbJhjkp",
   "metadata": {
    "id": "-A6x1AbJhjkp"
   },
   "source": [
    "Existen 1,258 valores ausentes en la columna product_name del DataFrame products"
   ]
  },
  {
   "cell_type": "code",
   "execution_count": 24,
   "id": "e96167bc",
   "metadata": {
    "id": "e96167bc"
   },
   "outputs": [
    {
     "name": "stdout",
     "output_type": "stream",
     "text": [
      "37       100\n",
      "71       100\n",
      "109      100\n",
      "296      100\n",
      "416      100\n",
      "        ... \n",
      "49552    100\n",
      "49574    100\n",
      "49640    100\n",
      "49663    100\n",
      "49668    100\n",
      "Name: aisle_id, Length: 1258, dtype: int64\n"
     ]
    }
   ],
   "source": [
    "#  ¿Todos los nombres de productos ausentes están relacionados con el pasillo con ID 100?\n",
    "print(df_products[df_products[\"product_name\"].isna()][\"aisle_id\"])"
   ]
  },
  {
   "cell_type": "markdown",
   "id": "WRpIfXRphpSL",
   "metadata": {
    "id": "WRpIfXRphpSL"
   },
   "source": [
    "Todos los valores ausentes de la columna product_name están relacionados con el pasillo con ID 100."
   ]
  },
  {
   "cell_type": "code",
   "execution_count": 25,
   "id": "8fd0a541",
   "metadata": {
    "id": "8fd0a541"
   },
   "outputs": [
    {
     "name": "stdout",
     "output_type": "stream",
     "text": [
      "37       21\n",
      "71       21\n",
      "109      21\n",
      "296      21\n",
      "416      21\n",
      "         ..\n",
      "49552    21\n",
      "49574    21\n",
      "49640    21\n",
      "49663    21\n",
      "49668    21\n",
      "Name: department_id, Length: 1258, dtype: int64\n"
     ]
    }
   ],
   "source": [
    "# ¿Todos los nombres de productos ausentes están relacionados con el departamento con ID 21?\n",
    "print(df_products[df_products[\"product_name\"].isna()][\"department_id\"])"
   ]
  },
  {
   "cell_type": "markdown",
   "id": "qDpdYn1Fht_I",
   "metadata": {
    "id": "qDpdYn1Fht_I"
   },
   "source": [
    "De igual manera, todos los valores ausentes de la columna product_name estan relacionados en el departamento con ID 21."
   ]
  },
  {
   "cell_type": "code",
   "execution_count": 26,
   "id": "325c3464",
   "metadata": {
    "id": "325c3464"
   },
   "outputs": [
    {
     "name": "stdout",
     "output_type": "stream",
     "text": [
      "       aisle_id  department_id\n",
      "37          100             21\n",
      "71          100             21\n",
      "109         100             21\n",
      "296         100             21\n",
      "416         100             21\n",
      "...         ...            ...\n",
      "49552       100             21\n",
      "49574       100             21\n",
      "49640       100             21\n",
      "49663       100             21\n",
      "49668       100             21\n",
      "\n",
      "[1258 rows x 2 columns]\n"
     ]
    }
   ],
   "source": [
    "# Usa las tablas department y aisle para revisar los datos del pasillo con ID 100 y el departamento con ID 21.\n",
    "print(df_products[df_products[\"product_name\"].isna()][[\"aisle_id\",\"department_id\"]])"
   ]
  },
  {
   "cell_type": "markdown",
   "id": "nqhSTUPhhvEJ",
   "metadata": {
    "id": "nqhSTUPhhvEJ"
   },
   "source": [
    "Efectivamente, los datos ausentes estan presentes en el pasillo con ID 100 y el departamento con ID 21."
   ]
  },
  {
   "cell_type": "code",
   "execution_count": 27,
   "id": "6b295120",
   "metadata": {
    "id": "6b295120"
   },
   "outputs": [
    {
     "name": "stdout",
     "output_type": "stream",
     "text": [
      "\n",
      "       aisle_id  department_id\n",
      "37          100             21\n",
      "71          100             21\n",
      "109         100             21\n",
      "296         100             21\n",
      "416         100             21\n",
      "...         ...            ...\n",
      "49552       100             21\n",
      "49574       100             21\n",
      "49640       100             21\n",
      "49663       100             21\n",
      "49668       100             21\n",
      "\n",
      "[1258 rows x 2 columns]\n"
     ]
    }
   ],
   "source": [
    "# Completa los nombres de productos ausentes con 'Unknown'\n",
    "df_products[\"product_name\"] = df_products[\"product_name\"].fillna(\"Unknown\")\n",
    "print()\n",
    "print(df_products[df_products[\"product_name\"]==\"Unknown\"][[\"aisle_id\",\"department_id\"]])"
   ]
  },
  {
   "cell_type": "markdown",
   "id": "fc70e5ad",
   "metadata": {
    "id": "fc70e5ad"
   },
   "source": [
    "Se encontraron 1,258 valores ausentes en la columna product_name. Para poder trabajar con la base de datos de manera efectiva, se optó por establecer todos estos productos con la etiqueta \"unknown\"."
   ]
  },
  {
   "cell_type": "markdown",
   "id": "7eb45c86",
   "metadata": {
    "id": "7eb45c86"
   },
   "source": [
    "### `orders` data frame"
   ]
  },
  {
   "cell_type": "code",
   "execution_count": 28,
   "id": "93e41d96",
   "metadata": {
    "id": "93e41d96"
   },
   "outputs": [
    {
     "name": "stdout",
     "output_type": "stream",
     "text": [
      "28817\n"
     ]
    }
   ],
   "source": [
    "# Encuentra los valores ausentes\n",
    "print(df_orders[\"days_since_prior_order\"].isna().sum())"
   ]
  },
  {
   "cell_type": "code",
   "execution_count": 29,
   "id": "166e5a86",
   "metadata": {
    "id": "166e5a86"
   },
   "outputs": [
    {
     "data": {
      "text/plain": [
       "0"
      ]
     },
     "execution_count": 29,
     "metadata": {},
     "output_type": "execute_result"
    }
   ],
   "source": [
    "# ¿Hay algún valor ausente que no sea el primer pedido del cliente?\n",
    "df_orders[df_orders[\"days_since_prior_order\"]!=0][\"user_id\"].isna().sum()"
   ]
  },
  {
   "cell_type": "markdown",
   "id": "4e23d089",
   "metadata": {
    "id": "4e23d089"
   },
   "source": [
    "No se observan valores ausentes que no sean primeros pedidos del cliente. Para corroborar esto, se filtró la columna user_id cuando el valor en la columna days_since_prior_order es diferente a cero."
   ]
  },
  {
   "cell_type": "markdown",
   "id": "69dc9ca4",
   "metadata": {
    "id": "69dc9ca4"
   },
   "source": [
    "### `order_products` data frame"
   ]
  },
  {
   "cell_type": "code",
   "execution_count": 30,
   "id": "b8240253",
   "metadata": {
    "id": "b8240253"
   },
   "outputs": [
    {
     "name": "stdout",
     "output_type": "stream",
     "text": [
      "836\n"
     ]
    }
   ],
   "source": [
    "# Encuentra los valores ausentes\n",
    "print(df_order_products[\"add_to_cart_order\"].isna().sum())"
   ]
  },
  {
   "cell_type": "code",
   "execution_count": 31,
   "id": "9a78e5ee",
   "metadata": {
    "id": "9a78e5ee"
   },
   "outputs": [
    {
     "name": "stdout",
     "output_type": "stream",
     "text": [
      "El valor mínimo de la columna es: 1.0\n",
      "\n",
      "El valor máximo de la columna es: 64.0\n"
     ]
    }
   ],
   "source": [
    "# ¿Cuáles son los valores mínimos y máximos en esta columna?\n",
    "print(\"El valor mínimo de la columna es: \" + str(df_order_products[\"add_to_cart_order\"].min()))\n",
    "print()\n",
    "print(\"El valor máximo de la columna es: \" + str(df_order_products[\"add_to_cart_order\"].max()))"
   ]
  },
  {
   "cell_type": "markdown",
   "id": "-Z2Ja215jW78",
   "metadata": {
    "id": "-Z2Ja215jW78"
   },
   "source": [
    "Se encontraron 836 valores ausentes en la columna \"add_to_cart_order\" del DataSet order_products. Tambien se encontró que el valor mínimo de la columna es 1 (lo cual es lógico ya que un pedido consta de mínimo un artículo agregado) y el valor máximo es 64."
   ]
  },
  {
   "cell_type": "code",
   "execution_count": 32,
   "id": "ab9d0c2b",
   "metadata": {
    "id": "ab9d0c2b"
   },
   "outputs": [],
   "source": [
    "# Guarda todas las IDs de pedidos que tengan un valor ausente en 'add_to_cart_order'\n",
    "id_con_valores_ausentes = df_order_products[df_order_products[\"add_to_cart_order\"].isna()][\"order_id\"]"
   ]
  },
  {
   "cell_type": "code",
   "execution_count": 33,
   "id": "54c31695",
   "metadata": {
    "id": "54c31695"
   },
   "outputs": [
    {
     "name": "stdout",
     "output_type": "stream",
     "text": [
      "13176    25\n",
      "21137    21\n",
      "24852    20\n",
      "27966    20\n",
      "26209    18\n",
      "         ..\n",
      "9493      1\n",
      "40214     1\n",
      "25885     1\n",
      "25466     1\n",
      "12260     1\n",
      "Name: product_id, Length: 3039, dtype: int64\n",
      "\n",
      "El valor mínimo del conteo en el número de product_id en cada pedido es: 65\n"
     ]
    }
   ],
   "source": [
    "# ¿Todos los pedidos con valores ausentes tienen más de 64 productos?\n",
    "# Agrupa todos los pedidos con datos ausentes por su ID de pedido.\n",
    "# Cuenta el número de 'product_id' en cada pedido y revisa el valor mínimo del conteo.\n",
    "print(df_order_products[df_order_products[\"order_id\"].isin(id_con_valores_ausentes)][\"product_id\"].value_counts())\n",
    "print()\n",
    "#print(\"El valor mínimo del conteo en el número de product_id en cada pedido es: \" + str(df_order_products[df_order_products[\"order_id\"].isin(id_con_valores_ausentes)][\"product_id\"].min()))\n",
    "print(\"El valor mínimo del conteo en el número de product_id en cada pedido es: \" + str(df_order_products[df_order_products['order_id'].isin(id_con_valores_ausentes)].groupby(['order_id'])['product_id'].count().min()))"
   ]
  },
  {
   "cell_type": "code",
   "execution_count": 34,
   "id": "7a987d08",
   "metadata": {
    "id": "7a987d08"
   },
   "outputs": [
    {
     "name": "stdout",
     "output_type": "stream",
     "text": [
      "<class 'pandas.core.frame.DataFrame'>\n",
      "RangeIndex: 4545007 entries, 0 to 4545006\n",
      "Data columns (total 4 columns):\n",
      " #   Column             Dtype\n",
      "---  ------             -----\n",
      " 0   order_id           int64\n",
      " 1   product_id         int64\n",
      " 2   add_to_cart_order  int64\n",
      " 3   reordered          int64\n",
      "dtypes: int64(4)\n",
      "memory usage: 138.7 MB\n"
     ]
    }
   ],
   "source": [
    "# Remplaza los valores ausentes en la columna 'add_to_cart? con 999 y convierte la columna al tipo entero.\n",
    "df_order_products[\"add_to_cart_order\"] = df_order_products[\"add_to_cart_order\"].fillna(999)\n",
    "df_order_products[\"add_to_cart_order\"] = df_order_products[\"add_to_cart_order\"].astype(\"int\")\n",
    "df_order_products.info()"
   ]
  },
  {
   "cell_type": "markdown",
   "id": "RnplPFY1gSrb",
   "metadata": {
    "id": "RnplPFY1gSrb"
   },
   "source": [
    "## Conclusiones\n",
    "\n",
    "Para limpiar las bases de datos se realizaron dos procesos. Por un lado se verificó que no hubiera presencia de duplicados, tanto explicitos como implícitos, y en caso de haberlos, verificar si eran normales o un error en la base de datos. Por otro lado, se buscó la presencia de valores ausentes en los datos, ya que estos valores suelen causar ruido en las conclusiones obtenidas si no se trabaja con ellos de la manera debida.\n"
   ]
  },
  {
   "cell_type": "markdown",
   "id": "UjrOIwTcz3ri",
   "metadata": {
    "id": "UjrOIwTcz3ri"
   },
   "source": [
    "# Paso 3. Análisis de los datos\n",
    "\n",
    "Una vez los datos estén procesados y listos, haz el siguiente análisis:"
   ]
  },
  {
   "cell_type": "markdown",
   "id": "turkish-kidney",
   "metadata": {
    "id": "turkish-kidney"
   },
   "source": [
    "# [A] Fácil (deben completarse todos para aprobar)\n",
    "\n",
    "1. Verifica que los valores en las columnas `'order_hour_of_day'` y `'order_dow'` en la tabla orders sean razonables (es decir, `'order_hour_of_day'` oscile entre 0 y 23 y `'order_dow'` oscile entre 0 y 6).\n",
    "2. Crea un gráfico que muestre el número de personas que hacen pedidos dependiendo de la hora del día.\n",
    "3. Crea un gráfico que muestre qué día de la semana la gente hace sus compras.\n",
    "4. Crea un gráfico que muestre el tiempo que la gente espera hasta hacer su siguiente pedido, y comenta sobre los valores mínimos y máximos."
   ]
  },
  {
   "cell_type": "markdown",
   "id": "short-capability",
   "metadata": {
    "id": "short-capability"
   },
   "source": [
    "### [A1] Verifica que los valores sean sensibles"
   ]
  },
  {
   "cell_type": "code",
   "execution_count": 35,
   "id": "growing-fruit",
   "metadata": {
    "id": "growing-fruit"
   },
   "outputs": [
    {
     "name": "stdout",
     "output_type": "stream",
     "text": [
      "El valor mínimo de la columna order_hour_of_day es: 0\n",
      "El valor máximo de la columna order_hour_of_day es: 23\n"
     ]
    }
   ],
   "source": [
    "max_order_hour_of_day = df_orders[\"order_hour_of_day\"].max()\n",
    "min_order_hour_of_day = df_orders[\"order_hour_of_day\"].min()\n",
    "print(\"El valor mínimo de la columna order_hour_of_day es: \" + str(min_order_hour_of_day))\n",
    "print(\"El valor máximo de la columna order_hour_of_day es: \" + str(max_order_hour_of_day))"
   ]
  },
  {
   "cell_type": "code",
   "execution_count": 36,
   "id": "accessory-malaysia",
   "metadata": {
    "id": "accessory-malaysia"
   },
   "outputs": [
    {
     "name": "stdout",
     "output_type": "stream",
     "text": [
      "El valor mínimo de la columna order_dow es: 0\n",
      "El valor máximo de la columna order_dow es: 6\n"
     ]
    }
   ],
   "source": [
    "max_order_dow = df_orders[\"order_dow\"].max()\n",
    "min_order_dow = df_orders[\"order_dow\"].min()\n",
    "print(\"El valor mínimo de la columna order_dow es: \" + str(min_order_dow))\n",
    "print(\"El valor máximo de la columna order_dow es: \" + str(max_order_dow))"
   ]
  },
  {
   "cell_type": "markdown",
   "id": "hmR2GNQ6lCsX",
   "metadata": {
    "id": "hmR2GNQ6lCsX"
   },
   "source": [
    "Los valores de las columnas order_hour_of_day y order_dow oscilan entre 0 y 23, y 0 y 6, respectivamente."
   ]
  },
  {
   "cell_type": "markdown",
   "id": "a6743a70",
   "metadata": {
    "id": "a6743a70"
   },
   "source": [
    "### [A2] Para cada hora del día, ¿cuántas personas hacen órdenes?"
   ]
  },
  {
   "cell_type": "code",
   "execution_count": 37,
   "id": "a36cca27",
   "metadata": {
    "id": "a36cca27"
   },
   "outputs": [
    {
     "name": "stdout",
     "output_type": "stream",
     "text": [
      "    order_hour_of_day  user_id\n",
      "0                   0     3180\n",
      "1                   1     1763\n",
      "2                   2      989\n",
      "3                   3      770\n",
      "4                   4      765\n",
      "5                   5     1371\n",
      "6                   6     4215\n",
      "7                   7    13043\n",
      "8                   8    25024\n",
      "9                   9    35896\n",
      "10                 10    40578\n",
      "11                 11    40032\n",
      "12                 12    38034\n",
      "13                 13    39007\n",
      "14                 14    39631\n",
      "15                 15    39789\n",
      "16                 16    38112\n",
      "17                 17    31930\n",
      "18                 18    25510\n",
      "19                 19    19547\n",
      "20                 20    14624\n",
      "21                 21    11019\n",
      "22                 22     8512\n",
      "23                 23     5611\n",
      "\n"
     ]
    },
    {
     "data": {
      "image/png": "[encoded data removed]",
      "text/plain": [
       "<Figure size 1000x400 with 1 Axes>"
      ]
     },
     "metadata": {},
     "output_type": "display_data"
    }
   ],
   "source": [
    "#df_orders.plot(x = \"order_hour_of_day\", y = 'user_id', kind = \"bar\", title = \"Número de personas que hacen un pedido segun la hora del día\", xlabel = \"Hora del día\", ylabel = \"Nro. personas\")\n",
    "\n",
    "ordenes_por_dia = df_orders.groupby(\"order_hour_of_day\")[\"user_id\"].count().reset_index()\n",
    "print(ordenes_por_dia)\n",
    "print()\n",
    "ordenes_por_dia.plot(x = \"order_hour_of_day\",\n",
    "                    y = \"user_id\",\n",
    "                    kind = \"bar\",\n",
    "                    title = \"Número de órdenes realizadas segun el horario del día\",\n",
    "                    xlabel = \"Hora del día\",\n",
    "                    ylabel = \"Órdenes realizadas\",\n",
    "                    figsize = [10,4],\n",
    "                    legend = False)\n",
    "plt.show()"
   ]
  },
  {
   "cell_type": "markdown",
   "id": "11270eed",
   "metadata": {
    "id": "11270eed"
   },
   "source": [
    "Se puede observar que los horarios en los que se realizan más pedidos son entre las 9:00 y las 16:00, lo cual tiene sentido ya que son los horruos en los que la gente suele realizar sus actividades cotidianas. Los horarios en los que se realizan menos pedidos son entre las 0:00 y las 6:00, lo cual es lógico ya que a esas horas la gente suele estar durmiendo."
   ]
  },
  {
   "cell_type": "markdown",
   "id": "documented-command",
   "metadata": {
    "id": "documented-command"
   },
   "source": [
    "### [A3] ¿Qué día de la semana compran víveres las personas?"
   ]
  },
  {
   "cell_type": "code",
   "execution_count": 38,
   "id": "chief-digit",
   "metadata": {
    "id": "chief-digit"
   },
   "outputs": [
    {
     "name": "stdout",
     "output_type": "stream",
     "text": [
      "   order_dow  user_id\n",
      "0          0    84090\n",
      "1          1    82185\n",
      "2          2    65833\n",
      "3          3    60897\n",
      "4          4    59810\n",
      "5          5    63488\n",
      "6          6    62649\n"
     ]
    },
    {
     "data": {
      "image/png": "[encoded data removed]",
      "text/plain": [
       "<Figure size 1000x400 with 1 Axes>"
      ]
     },
     "metadata": {},
     "output_type": "display_data"
    }
   ],
   "source": [
    "#df_orders.plot(x = \"order_dow\", kind = \"bar\", title = \"Número de personas que hacen un pedido segun el día de la semana\", xlabel = \"Día de la semana\")\n",
    "\n",
    "ordenes_dias_de_la_semana = df_orders.groupby(\"order_dow\")[\"user_id\"].count().reset_index()\n",
    "print(ordenes_dias_de_la_semana)\n",
    "ordenes_dias_de_la_semana.plot(x = \"order_dow\",\n",
    "                              y = \"user_id\",\n",
    "                              kind = \"bar\",\n",
    "                              title = \"Pedidos realizados por día de la semana\",\n",
    "                              xlabel = \"Día de la semana\",\n",
    "                              ylabel = \"Pedidos realizados\",\n",
    "                              figsize = [10,4],\n",
    "                              legend = False)\n",
    "#plt.legend([\"Domingo\",\"Lunes\",\"Martes\",\"Miércoles\",\"Jueves\",\"Viernes\",\"Sábado\"])\n",
    "plt.show()"
   ]
  },
  {
   "cell_type": "markdown",
   "id": "dominant-lightning",
   "metadata": {
    "id": "dominant-lightning"
   },
   "source": [
    "Se observa que la distribución de los pedidos realizados según el día de la semana no varia demasiado segun el día realizado. Sin embargo, se nota que hay un ligero aumento en los pedidos realizados los días domingo y lunes."
   ]
  },
  {
   "cell_type": "markdown",
   "id": "cutting-concert",
   "metadata": {
    "id": "cutting-concert"
   },
   "source": [
    "### [A4] ¿Cuánto tiempo esperan las personas hasta hacer otro pedido? Comenta sobre los valores mínimos y máximos."
   ]
  },
  {
   "cell_type": "code",
   "execution_count": 39,
   "id": "c231f523",
   "metadata": {
    "id": "c231f523"
   },
   "outputs": [
    {
     "name": "stdout",
     "output_type": "stream",
     "text": [
      "    days_since_prior_order  user_id\n",
      "0                      0.0     9589\n",
      "1                      1.0    20179\n",
      "2                      2.0    27138\n",
      "3                      3.0    30224\n",
      "4                      4.0    31006\n",
      "5                      5.0    30096\n",
      "6                      6.0    33930\n",
      "7                      7.0    44577\n",
      "8                      8.0    25361\n",
      "9                      9.0    16753\n",
      "10                    10.0    13309\n",
      "11                    11.0    11467\n",
      "12                    12.0    10658\n",
      "13                    13.0    11737\n",
      "14                    14.0    13992\n",
      "15                    15.0     9416\n",
      "16                    16.0     6587\n",
      "17                    17.0     5498\n",
      "18                    18.0     4971\n",
      "19                    19.0     4939\n",
      "20                    20.0     5302\n",
      "21                    21.0     6448\n",
      "22                    22.0     4514\n",
      "23                    23.0     3337\n",
      "24                    24.0     3015\n",
      "25                    25.0     2711\n",
      "26                    26.0     2640\n",
      "27                    27.0     2986\n",
      "28                    28.0     3745\n",
      "29                    29.0     2673\n",
      "30                    30.0    51337\n"
     ]
    },
    {
     "data": {
      "image/png": "[encoded data removed]",
      "text/plain": [
       "<Figure size 1000x400 with 1 Axes>"
      ]
     },
     "metadata": {},
     "output_type": "display_data"
    }
   ],
   "source": [
    "#df_orders.plot(x = \"days_since_prior_order\", kind = \"bar\", title = \"Días de espera hasta el siguiente pedido realizado\", xlab = \"Dias\")\n",
    "\n",
    "tiempo_espera_pedidos = df_orders.groupby(\"days_since_prior_order\")[\"user_id\"].count().reset_index()\n",
    "print(tiempo_espera_pedidos)\n",
    "tiempo_espera_pedidos.plot(x = \"days_since_prior_order\",\n",
    "                          y = \"user_id\",\n",
    "                          kind = \"bar\",\n",
    "                          title = \"Tiempo de espera (en días) para realizar un nuevo pedido\",\n",
    "                          xlabel = \"Días\",\n",
    "                          ylabel = \"Pedidos\",\n",
    "                          figsize = [10,4],\n",
    "                          legend = False)\n",
    "plt.show()"
   ]
  },
  {
   "cell_type": "markdown",
   "id": "discrete-vertex",
   "metadata": {
    "id": "discrete-vertex"
   },
   "source": [
    "Se observa que las personas suelen realizar su siguiente pedido, ya sea entre dos y ocho días posterior a su última compra, o hasta 30 días despues de haber realizado el último pedido. "
   ]
  },
  {
   "cell_type": "markdown",
   "id": "tight-staff",
   "metadata": {
    "id": "tight-staff"
   },
   "source": [
    "# [B] Intermedio (deben completarse todos para aprobar)\n",
    "\n",
    "1. ¿Existe alguna diferencia entre las distribuciones `'order_hour_of_day'` de los miércoles y los sábados? Traza gráficos de barra de `'order_hour_of_day'` para ambos días en la misma figura y describe las diferencias que observes.\n",
    "2. Grafica la distribución para el número de órdenes que hacen los clientes (es decir, cuántos clientes hicieron solo 1 pedido, cuántos hicieron 2, cuántos 3, y así sucesivamente...).\n",
    "3. ¿Cuáles son los 20 principales productos que se piden con más frecuencia (muestra su identificación y nombre)?"
   ]
  },
  {
   "cell_type": "markdown",
   "id": "packed-classic",
   "metadata": {
    "id": "packed-classic"
   },
   "source": [
    "### [B1] Diferencia entre miércoles y sábados para  `'order_hour_of_day'`. Traza gráficos de barra para los dos días y describe las diferencias que veas."
   ]
  },
  {
   "cell_type": "code",
   "execution_count": 40,
   "id": "f3cad9c0",
   "metadata": {
    "id": "d89b8403"
   },
   "outputs": [
    {
     "data": {
      "text/plain": [
       "<AxesSubplot:title={'center':'Comparativa entre las órdenes realizadas el miércoles y el sábado'}, xlabel='Día', ylabel='Órdenes realizadas'>"
      ]
     },
     "execution_count": 40,
     "metadata": {},
     "output_type": "execute_result"
    },
    {
     "data": {
      "image/png": "[encoded data removed]",
      "text/plain": [
       "<Figure size 1000x400 with 1 Axes>"
      ]
     },
     "metadata": {},
     "output_type": "display_data"
    }
   ],
   "source": [
    "#ordenes_miercoles = df_orders[df_orders[\"order_dow\"]==3]\n",
    "ordenes_miercoles = ordenes_dias_de_la_semana[ordenes_dias_de_la_semana[\"order_dow\"]==3].reset_index()\n",
    "ordenes_miercoles\n",
    "ordenes_miercoles.plot(x = \"order_dow\",\n",
    "                      y = \"user_id\",\n",
    "                      kind = \"bar\",\n",
    "                      title = \"Comparativa entre las órdenes realizadas el miércoles y el sábado\",\n",
    "                      xlabel = \"Día\",\n",
    "                      ylabel = \"Órdenes realizadas\",\n",
    "                      figsize = [10,4],\n",
    "                      legend = False)"
   ]
  },
  {
   "cell_type": "code",
   "execution_count": 41,
   "id": "94e54e8a",
   "metadata": {
    "id": "94e54e8a"
   },
   "outputs": [
    {
     "data": {
      "text/plain": [
       "<AxesSubplot:title={'center':'Comparativa entre las órdenes realizadas el miércoles y el sábado'}, xlabel='Día', ylabel='Órdenes realizadas'>"
      ]
     },
     "execution_count": 41,
     "metadata": {},
     "output_type": "execute_result"
    },
    {
     "data": {
      "image/png": "[encoded data removed]",
      "text/plain": [
       "<Figure size 1000x400 with 1 Axes>"
      ]
     },
     "metadata": {},
     "output_type": "display_data"
    }
   ],
   "source": [
    "#ordenes_sabado = df_orders[df_orders[\"order_dow\"]==6]\n",
    "ordenes_sabado = ordenes_dias_de_la_semana[ordenes_dias_de_la_semana[\"order_dow\"]==6].reset_index()\n",
    "ordenes_sabado\n",
    "ordenes_dias_de_la_semana[ordenes_dias_de_la_semana[\"order_dow\"]==6].plot(x = \"order_dow\",\n",
    "                      y = \"user_id\",\n",
    "                      kind = \"bar\",\n",
    "                      title = \"Comparativa entre las órdenes realizadas el miércoles y el sábado\",\n",
    "                      xlabel = \"Día\",\n",
    "                      ylabel = \"Órdenes realizadas\",\n",
    "                      figsize = [10,4],\n",
    "                      legend = False)"
   ]
  },
  {
   "cell_type": "code",
   "execution_count": 42,
   "id": "797c90a8",
   "metadata": {
    "id": "797c90a8"
   },
   "outputs": [
    {
     "name": "stdout",
     "output_type": "stream",
     "text": [
      "order_dow             3     6\n",
      "order_hour_of_day            \n",
      "0                   373   464\n",
      "1                   215   254\n",
      "2                   106   177\n",
      "3                   101   125\n",
      "4                   108   118\n",
      "5                   170   161\n",
      "6                   643   451\n",
      "7                  1732  1619\n",
      "8                  3125  3246\n",
      "9                  4490  4311\n",
      "10                 5026  4919\n",
      "11                 5004  5116\n",
      "12                 4688  5132\n",
      "13                 4674  5323\n",
      "14                 4774  5375\n",
      "15                 5163  5188\n",
      "16                 4976  5029\n",
      "17                 4175  4295\n",
      "18                 3463  3338\n",
      "19                 2652  2610\n",
      "20                 1917  1847\n",
      "21                 1450  1473\n",
      "22                 1154  1185\n",
      "23                  718   893\n"
     ]
    },
    {
     "data": {
      "image/png": "[encoded data removed]",
      "text/plain": [
       "<Figure size 1000x400 with 1 Axes>"
      ]
     },
     "metadata": {},
     "output_type": "display_data"
    }
   ],
   "source": [
    "#ordenes_miercoles.plot(x = \"order_hour_of_day\", kind = \"bar\", title = \"Distribución de los pedidos del miércoles segun la hora del día\", xlab = \"Hora del día\")\n",
    "tabla_miercoles_y_sabado = df_orders[df_orders[\"order_dow\"].isin([3,6])][[\"order_dow\",\"order_hour_of_day\",\"user_id\"]]\n",
    "tabla_dinamica_miercoles_y_sabado = tabla_miercoles_y_sabado.pivot_table(index = \"order_hour_of_day\",\n",
    "                                     columns = \"order_dow\",\n",
    "                                     values = \"user_id\",\n",
    "                                     aggfunc = \"count\")\n",
    "print(tabla_dinamica_miercoles_y_sabado)\n",
    "tabla_dinamica_miercoles_y_sabado.plot(kind = \"bar\",\n",
    "                                           title = \"Diferencia entre miércoles y sábado\",\n",
    "                                           xlabel = \"Día de la semana\",\n",
    "                                           ylabel = \"Pedidos\",\n",
    "                                           figsize = [10,4])\n",
    "plt.legend([\"Miércoles\",\"Sábado\"])\n",
    "plt.show()"
   ]
  },
  {
   "cell_type": "code",
   "execution_count": 43,
   "id": "35bcea30",
   "metadata": {
    "id": "35bcea30"
   },
   "outputs": [],
   "source": [
    "#ordenes_sabado.plot(x = \"order_hour_of_day\", kind = \"bar\", title = \"Distribución de los pedidos del sábado segun la hora del día\", xlab = \"Hora del día\")\n",
    "#plt.show()"
   ]
  },
  {
   "cell_type": "markdown",
   "id": "charitable-congo",
   "metadata": {
    "id": "charitable-congo"
   },
   "source": [
    "Se observa que los pedidos de los días miercoles y sábado siguen una distribución similar, donde las horas con mayores pedidos son entre las 9:00 y las 17:00. Sin embargo, es importante resaltar que en los días miércoles los pedidos superan a los de los sábados en la mayoría de los horarios donde no se realizan tantos pedidos, mientras que en los días sábados los pedidos superan a los de los miércoles en la mayoría de los horarios donde se realizan mayor número de pedidos. "
   ]
  },
  {
   "cell_type": "markdown",
   "id": "e3891143",
   "metadata": {
    "id": "e3891143"
   },
   "source": [
    "### [B2] ¿Cuál es la distribución para el número de pedidos por cliente?"
   ]
  },
  {
   "cell_type": "code",
   "execution_count": 43,
   "id": "d8c26c23",
   "metadata": {
    "id": "d8c26c23"
   },
   "outputs": [
    {
     "data": {
      "text/plain": [
       "user_id\n",
       "2         2\n",
       "4         2\n",
       "5         1\n",
       "6         2\n",
       "7         2\n",
       "         ..\n",
       "206203    1\n",
       "206206    7\n",
       "206207    5\n",
       "206208    9\n",
       "206209    2\n",
       "Name: order_id, Length: 157437, dtype: int64"
      ]
     },
     "execution_count": 43,
     "metadata": {},
     "output_type": "execute_result"
    }
   ],
   "source": [
    "#ordenes_por_cliente = df_orders[\"order_number\"]\n",
    "#ordenes_por_cliente\n",
    "distribucion_numero_de_pedidos_por_cliente = df_orders.groupby(\"user_id\")[\"order_id\"].count()\n",
    "distribucion_numero_de_pedidos_por_cliente"
   ]
  },
  {
   "cell_type": "code",
   "execution_count": 44,
   "id": "00e69a66",
   "metadata": {
    "id": "00e69a66"
   },
   "outputs": [
    {
     "data": {
      "image/png": "[encoded data removed]",
      "text/plain": [
       "<Figure size 1000x400 with 1 Axes>"
      ]
     },
     "metadata": {},
     "output_type": "display_data"
    }
   ],
   "source": [
    "distribucion_numero_de_pedidos_por_cliente.plot(kind = \"hist\",\n",
    "                                               title = \"Distribución del número de pedidos por cliente\",\n",
    "                                               bins = 20,\n",
    "                                               figsize = [10,4])\n",
    "plt.show()"
   ]
  },
  {
   "cell_type": "markdown",
   "id": "d2eff7d5",
   "metadata": {
    "id": "d2eff7d5"
   },
   "source": [
    "Podemos observar que la mayoría de los clientes no realizan más de cinco pedidos. Hay una pequeña fracción de clientes que realizan entre seis y diez pedidos. "
   ]
  },
  {
   "cell_type": "markdown",
   "id": "54a0319c",
   "metadata": {
    "id": "54a0319c"
   },
   "source": [
    "### [B3] ¿Cuáles son los 20 productos más populares (muestra su ID y nombre)?"
   ]
  },
  {
   "cell_type": "code",
   "execution_count": 45,
   "id": "exterior-arizona",
   "metadata": {
    "id": "exterior-arizona",
    "scrolled": true
   },
   "outputs": [
    {
     "data": {
      "text/html": [
       "<div>\n",
       "<style scoped>\n",
       "    .dataframe tbody tr th:only-of-type {\n",
       "        vertical-align: middle;\n",
       "    }\n",
       "\n",
       "    .dataframe tbody tr th {\n",
       "        vertical-align: top;\n",
       "    }\n",
       "\n",
       "    .dataframe thead th {\n",
       "        text-align: right;\n",
       "    }\n",
       "</style>\n",
       "<table border=\"1\" class=\"dataframe\">\n",
       "  <thead>\n",
       "    <tr style=\"text-align: right;\">\n",
       "      <th></th>\n",
       "      <th>order_id</th>\n",
       "      <th>product_id</th>\n",
       "      <th>add_to_cart_order</th>\n",
       "      <th>reordered</th>\n",
       "      <th>product_name</th>\n",
       "      <th>aisle_id</th>\n",
       "      <th>department_id</th>\n",
       "    </tr>\n",
       "  </thead>\n",
       "  <tbody>\n",
       "    <tr>\n",
       "      <th>0</th>\n",
       "      <td>2141543</td>\n",
       "      <td>11440</td>\n",
       "      <td>17</td>\n",
       "      <td>0</td>\n",
       "      <td>CHICKEN BREAST TENDERS BREADED</td>\n",
       "      <td>129</td>\n",
       "      <td>1</td>\n",
       "    </tr>\n",
       "    <tr>\n",
       "      <th>1</th>\n",
       "      <td>147172</td>\n",
       "      <td>11440</td>\n",
       "      <td>7</td>\n",
       "      <td>1</td>\n",
       "      <td>CHICKEN BREAST TENDERS BREADED</td>\n",
       "      <td>129</td>\n",
       "      <td>1</td>\n",
       "    </tr>\n",
       "    <tr>\n",
       "      <th>2</th>\n",
       "      <td>3341719</td>\n",
       "      <td>11440</td>\n",
       "      <td>4</td>\n",
       "      <td>1</td>\n",
       "      <td>CHICKEN BREAST TENDERS BREADED</td>\n",
       "      <td>129</td>\n",
       "      <td>1</td>\n",
       "    </tr>\n",
       "    <tr>\n",
       "      <th>3</th>\n",
       "      <td>1938779</td>\n",
       "      <td>11440</td>\n",
       "      <td>8</td>\n",
       "      <td>1</td>\n",
       "      <td>CHICKEN BREAST TENDERS BREADED</td>\n",
       "      <td>129</td>\n",
       "      <td>1</td>\n",
       "    </tr>\n",
       "    <tr>\n",
       "      <th>4</th>\n",
       "      <td>1728338</td>\n",
       "      <td>11440</td>\n",
       "      <td>23</td>\n",
       "      <td>0</td>\n",
       "      <td>CHICKEN BREAST TENDERS BREADED</td>\n",
       "      <td>129</td>\n",
       "      <td>1</td>\n",
       "    </tr>\n",
       "    <tr>\n",
       "      <th>...</th>\n",
       "      <td>...</td>\n",
       "      <td>...</td>\n",
       "      <td>...</td>\n",
       "      <td>...</td>\n",
       "      <td>...</td>\n",
       "      <td>...</td>\n",
       "      <td>...</td>\n",
       "    </tr>\n",
       "    <tr>\n",
       "      <th>4545002</th>\n",
       "      <td>267402</td>\n",
       "      <td>45226</td>\n",
       "      <td>14</td>\n",
       "      <td>0</td>\n",
       "      <td>SWEET TERIYAKI CHICKEN OVEN SAUCE</td>\n",
       "      <td>5</td>\n",
       "      <td>13</td>\n",
       "    </tr>\n",
       "    <tr>\n",
       "      <th>4545003</th>\n",
       "      <td>2621676</td>\n",
       "      <td>25201</td>\n",
       "      <td>10</td>\n",
       "      <td>0</td>\n",
       "      <td>CRISP WATERS CANDLE SCENTS</td>\n",
       "      <td>101</td>\n",
       "      <td>17</td>\n",
       "    </tr>\n",
       "    <tr>\n",
       "      <th>4545004</th>\n",
       "      <td>937623</td>\n",
       "      <td>49153</td>\n",
       "      <td>2</td>\n",
       "      <td>0</td>\n",
       "      <td>SHINE COLLECTION BRILLANCE SHAMPOO</td>\n",
       "      <td>22</td>\n",
       "      <td>11</td>\n",
       "    </tr>\n",
       "    <tr>\n",
       "      <th>4545005</th>\n",
       "      <td>532895</td>\n",
       "      <td>8182</td>\n",
       "      <td>1</td>\n",
       "      <td>0</td>\n",
       "      <td>TOTAL MINT STRIPE GEL TOOTHPASTE</td>\n",
       "      <td>20</td>\n",
       "      <td>11</td>\n",
       "    </tr>\n",
       "    <tr>\n",
       "      <th>4545006</th>\n",
       "      <td>3132243</td>\n",
       "      <td>40024</td>\n",
       "      <td>1</td>\n",
       "      <td>0</td>\n",
       "      <td>EGG REPLACER POWDER</td>\n",
       "      <td>17</td>\n",
       "      <td>13</td>\n",
       "    </tr>\n",
       "  </tbody>\n",
       "</table>\n",
       "<p>4545007 rows × 7 columns</p>\n",
       "</div>"
      ],
      "text/plain": [
       "         order_id  product_id  add_to_cart_order  reordered  \\\n",
       "0         2141543       11440                 17          0   \n",
       "1          147172       11440                  7          1   \n",
       "2         3341719       11440                  4          1   \n",
       "3         1938779       11440                  8          1   \n",
       "4         1728338       11440                 23          0   \n",
       "...           ...         ...                ...        ...   \n",
       "4545002    267402       45226                 14          0   \n",
       "4545003   2621676       25201                 10          0   \n",
       "4545004    937623       49153                  2          0   \n",
       "4545005    532895        8182                  1          0   \n",
       "4545006   3132243       40024                  1          0   \n",
       "\n",
       "                               product_name  aisle_id  department_id  \n",
       "0            CHICKEN BREAST TENDERS BREADED       129              1  \n",
       "1            CHICKEN BREAST TENDERS BREADED       129              1  \n",
       "2            CHICKEN BREAST TENDERS BREADED       129              1  \n",
       "3            CHICKEN BREAST TENDERS BREADED       129              1  \n",
       "4            CHICKEN BREAST TENDERS BREADED       129              1  \n",
       "...                                     ...       ...            ...  \n",
       "4545002   SWEET TERIYAKI CHICKEN OVEN SAUCE         5             13  \n",
       "4545003          CRISP WATERS CANDLE SCENTS       101             17  \n",
       "4545004  SHINE COLLECTION BRILLANCE SHAMPOO        22             11  \n",
       "4545005    TOTAL MINT STRIPE GEL TOOTHPASTE        20             11  \n",
       "4545006                 EGG REPLACER POWDER        17             13  \n",
       "\n",
       "[4545007 rows x 7 columns]"
      ]
     },
     "execution_count": 45,
     "metadata": {},
     "output_type": "execute_result"
    }
   ],
   "source": [
    "productos_populares = df_order_products.merge(df_products, on = \"product_id\", how = \"inner\")\n",
    "productos_populares"
   ]
  },
  {
   "cell_type": "code",
   "execution_count": 46,
   "id": "universal-facial",
   "metadata": {
    "id": "universal-facial"
   },
   "outputs": [
    {
     "data": {
      "text/plain": [
       "product_id  product_name            \n",
       "24852       BANANA                      66050\n",
       "13176       BAG OF ORGANIC BANANAS      53297\n",
       "21137       ORGANIC STRAWBERRIES        37039\n",
       "21903       ORGANIC BABY SPINACH        33971\n",
       "47209       ORGANIC HASS AVOCADO        29773\n",
       "47766       ORGANIC AVOCADO             24689\n",
       "47626       LARGE LEMON                 21495\n",
       "16797       STRAWBERRIES                20018\n",
       "26209       LIMES                       19690\n",
       "27845       ORGANIC WHOLE MILK          19600\n",
       "27966       ORGANIC RASPBERRIES         19197\n",
       "22935       ORGANIC YELLOW ONION        15898\n",
       "24964       ORGANIC GARLIC              15292\n",
       "45007       ORGANIC ZUCCHINI            14584\n",
       "39275       ORGANIC BLUEBERRIES         13879\n",
       "49683       CUCUMBER KIRBY              13675\n",
       "28204       ORGANIC FUJI APPLE          12544\n",
       "5876        ORGANIC LEMON               12232\n",
       "8277        APPLE HONEYCRISP ORGANIC    11993\n",
       "40706       ORGANIC GRAPE TOMATOES      11781\n",
       "Name: order_id, dtype: int64"
      ]
     },
     "execution_count": 46,
     "metadata": {},
     "output_type": "execute_result"
    }
   ],
   "source": [
    "mejores_productos = productos_populares.groupby([\"product_id\",\"product_name\"])[\"order_id\"].count().sort_values(ascending=False)\n",
    "mejores_20_productos = mejores_productos.head(20)\n",
    "mejores_20_productos"
   ]
  },
  {
   "cell_type": "code",
   "execution_count": 47,
   "id": "bbcdd20b",
   "metadata": {
    "id": "bbcdd20b"
   },
   "outputs": [
    {
     "data": {
      "image/png": "[encoded data removed]",
      "text/plain": [
       "<Figure size 640x480 with 1 Axes>"
      ]
     },
     "metadata": {},
     "output_type": "display_data"
    }
   ],
   "source": [
    "mejores_20_productos.plot(kind=\"bar\",title=\"Los 20 productos mas vendidos\",xlabel=\"Producto\")\n",
    "plt.show()"
   ]
  },
  {
   "cell_type": "markdown",
   "id": "7df00f47",
   "metadata": {
    "id": "7df00f47"
   },
   "source": [
    "Los veinte prodictos más comprdos por los clientes son prácticamente todos frutas y verduras. Esto es muy lógico ya que son productos que se utilizan en todo momento del día, ya sea como un snack o desayuno, como para elaborar platillos más complejos."
   ]
  },
  {
   "cell_type": "markdown",
   "id": "gross-theme",
   "metadata": {
    "id": "gross-theme"
   },
   "source": [
    "# [C] Difícil (deben completarse todos para aprobar)\n",
    "\n",
    "1. ¿Cuántos artículos suelen comprar las personas en un pedido? ¿Cómo es la distribución?\n",
    "2. ¿Cuáles son los 20 principales artículos que vuelven a pedirse con mayor frecuencia (muestra sus nombres e IDs de los productos)?\n",
    "3. Para cada producto, ¿cuál es la tasa de repetición del pedido (número de repeticiones de pedido/total de pedidos?\n",
    "4. Para cada cliente, ¿qué proporción de los productos que pidió ya los había pedido? Calcula la tasa de repetición de pedido para cada usuario en lugar de para cada producto.\n",
    "5. ¿Cuáles son los 20 principales artículos que la gente pone primero en sus carritos (muestra las IDs de los productos, sus nombres, y el número de veces en que fueron el primer artículo en añadirse al carrito)?"
   ]
  },
  {
   "cell_type": "markdown",
   "id": "romantic-deposit",
   "metadata": {
    "id": "romantic-deposit"
   },
   "source": [
    "### [C1] ¿Cuántos artículos compran normalmente las personas en un pedido? ¿Cómo es la distribución?"
   ]
  },
  {
   "cell_type": "code",
   "execution_count": 48,
   "id": "virtual-punch",
   "metadata": {
    "id": "virtual-punch"
   },
   "outputs": [
    {
     "data": {
      "text/html": [
       "<div>\n",
       "<style scoped>\n",
       "    .dataframe tbody tr th:only-of-type {\n",
       "        vertical-align: middle;\n",
       "    }\n",
       "\n",
       "    .dataframe tbody tr th {\n",
       "        vertical-align: top;\n",
       "    }\n",
       "\n",
       "    .dataframe thead th {\n",
       "        text-align: right;\n",
       "    }\n",
       "</style>\n",
       "<table border=\"1\" class=\"dataframe\">\n",
       "  <thead>\n",
       "    <tr style=\"text-align: right;\">\n",
       "      <th></th>\n",
       "      <th>order_id</th>\n",
       "      <th>user_id</th>\n",
       "      <th>order_number</th>\n",
       "      <th>order_dow</th>\n",
       "      <th>order_hour_of_day</th>\n",
       "      <th>days_since_prior_order</th>\n",
       "      <th>product_id</th>\n",
       "      <th>add_to_cart_order</th>\n",
       "      <th>reordered</th>\n",
       "    </tr>\n",
       "  </thead>\n",
       "  <tbody>\n",
       "    <tr>\n",
       "      <th>0</th>\n",
       "      <td>1515936</td>\n",
       "      <td>183418</td>\n",
       "      <td>11</td>\n",
       "      <td>6</td>\n",
       "      <td>13</td>\n",
       "      <td>30.0</td>\n",
       "      <td>19048.0</td>\n",
       "      <td>1.0</td>\n",
       "      <td>1.0</td>\n",
       "    </tr>\n",
       "    <tr>\n",
       "      <th>1</th>\n",
       "      <td>1515936</td>\n",
       "      <td>183418</td>\n",
       "      <td>11</td>\n",
       "      <td>6</td>\n",
       "      <td>13</td>\n",
       "      <td>30.0</td>\n",
       "      <td>47766.0</td>\n",
       "      <td>3.0</td>\n",
       "      <td>1.0</td>\n",
       "    </tr>\n",
       "    <tr>\n",
       "      <th>2</th>\n",
       "      <td>1515936</td>\n",
       "      <td>183418</td>\n",
       "      <td>11</td>\n",
       "      <td>6</td>\n",
       "      <td>13</td>\n",
       "      <td>30.0</td>\n",
       "      <td>45066.0</td>\n",
       "      <td>9.0</td>\n",
       "      <td>0.0</td>\n",
       "    </tr>\n",
       "    <tr>\n",
       "      <th>3</th>\n",
       "      <td>1515936</td>\n",
       "      <td>183418</td>\n",
       "      <td>11</td>\n",
       "      <td>6</td>\n",
       "      <td>13</td>\n",
       "      <td>30.0</td>\n",
       "      <td>24082.0</td>\n",
       "      <td>11.0</td>\n",
       "      <td>0.0</td>\n",
       "    </tr>\n",
       "    <tr>\n",
       "      <th>4</th>\n",
       "      <td>1515936</td>\n",
       "      <td>183418</td>\n",
       "      <td>11</td>\n",
       "      <td>6</td>\n",
       "      <td>13</td>\n",
       "      <td>30.0</td>\n",
       "      <td>24363.0</td>\n",
       "      <td>4.0</td>\n",
       "      <td>0.0</td>\n",
       "    </tr>\n",
       "    <tr>\n",
       "      <th>...</th>\n",
       "      <td>...</td>\n",
       "      <td>...</td>\n",
       "      <td>...</td>\n",
       "      <td>...</td>\n",
       "      <td>...</td>\n",
       "      <td>...</td>\n",
       "      <td>...</td>\n",
       "      <td>...</td>\n",
       "      <td>...</td>\n",
       "    </tr>\n",
       "    <tr>\n",
       "      <th>4573908</th>\n",
       "      <td>2071924</td>\n",
       "      <td>1730</td>\n",
       "      <td>18</td>\n",
       "      <td>1</td>\n",
       "      <td>14</td>\n",
       "      <td>15.0</td>\n",
       "      <td>1503.0</td>\n",
       "      <td>17.0</td>\n",
       "      <td>0.0</td>\n",
       "    </tr>\n",
       "    <tr>\n",
       "      <th>4573909</th>\n",
       "      <td>2071924</td>\n",
       "      <td>1730</td>\n",
       "      <td>18</td>\n",
       "      <td>1</td>\n",
       "      <td>14</td>\n",
       "      <td>15.0</td>\n",
       "      <td>4778.0</td>\n",
       "      <td>12.0</td>\n",
       "      <td>1.0</td>\n",
       "    </tr>\n",
       "    <tr>\n",
       "      <th>4573910</th>\n",
       "      <td>2071924</td>\n",
       "      <td>1730</td>\n",
       "      <td>18</td>\n",
       "      <td>1</td>\n",
       "      <td>14</td>\n",
       "      <td>15.0</td>\n",
       "      <td>11512.0</td>\n",
       "      <td>1.0</td>\n",
       "      <td>1.0</td>\n",
       "    </tr>\n",
       "    <tr>\n",
       "      <th>4573911</th>\n",
       "      <td>2071924</td>\n",
       "      <td>1730</td>\n",
       "      <td>18</td>\n",
       "      <td>1</td>\n",
       "      <td>14</td>\n",
       "      <td>15.0</td>\n",
       "      <td>4920.0</td>\n",
       "      <td>6.0</td>\n",
       "      <td>1.0</td>\n",
       "    </tr>\n",
       "    <tr>\n",
       "      <th>4573912</th>\n",
       "      <td>2071924</td>\n",
       "      <td>1730</td>\n",
       "      <td>18</td>\n",
       "      <td>1</td>\n",
       "      <td>14</td>\n",
       "      <td>15.0</td>\n",
       "      <td>17678.0</td>\n",
       "      <td>4.0</td>\n",
       "      <td>1.0</td>\n",
       "    </tr>\n",
       "  </tbody>\n",
       "</table>\n",
       "<p>4573913 rows × 9 columns</p>\n",
       "</div>"
      ],
      "text/plain": [
       "         order_id  user_id  order_number  order_dow  order_hour_of_day  \\\n",
       "0         1515936   183418            11          6                 13   \n",
       "1         1515936   183418            11          6                 13   \n",
       "2         1515936   183418            11          6                 13   \n",
       "3         1515936   183418            11          6                 13   \n",
       "4         1515936   183418            11          6                 13   \n",
       "...           ...      ...           ...        ...                ...   \n",
       "4573908   2071924     1730            18          1                 14   \n",
       "4573909   2071924     1730            18          1                 14   \n",
       "4573910   2071924     1730            18          1                 14   \n",
       "4573911   2071924     1730            18          1                 14   \n",
       "4573912   2071924     1730            18          1                 14   \n",
       "\n",
       "         days_since_prior_order  product_id  add_to_cart_order  reordered  \n",
       "0                          30.0     19048.0                1.0        1.0  \n",
       "1                          30.0     47766.0                3.0        1.0  \n",
       "2                          30.0     45066.0                9.0        0.0  \n",
       "3                          30.0     24082.0               11.0        0.0  \n",
       "4                          30.0     24363.0                4.0        0.0  \n",
       "...                         ...         ...                ...        ...  \n",
       "4573908                    15.0      1503.0               17.0        0.0  \n",
       "4573909                    15.0      4778.0               12.0        1.0  \n",
       "4573910                    15.0     11512.0                1.0        1.0  \n",
       "4573911                    15.0      4920.0                6.0        1.0  \n",
       "4573912                    15.0     17678.0                4.0        1.0  \n",
       "\n",
       "[4573913 rows x 9 columns]"
      ]
     },
     "execution_count": 48,
     "metadata": {},
     "output_type": "execute_result"
    }
   ],
   "source": [
    "articulos_y_pedidos = df_orders.merge(df_order_products, on = \"order_id\", how = \"outer\")\n",
    "articulos_y_pedidos"
   ]
  },
  {
   "cell_type": "code",
   "execution_count": 49,
   "id": "sensitive-breathing",
   "metadata": {
    "id": "sensitive-breathing"
   },
   "outputs": [
    {
     "data": {
      "text/plain": [
       "order_id\n",
       "4          13\n",
       "9          15\n",
       "11          5\n",
       "19          3\n",
       "20          8\n",
       "           ..\n",
       "3421053     9\n",
       "3421058     0\n",
       "3421071     5\n",
       "3421077     4\n",
       "3421079     1\n",
       "Name: product_id, Length: 478952, dtype: int64"
      ]
     },
     "execution_count": 49,
     "metadata": {},
     "output_type": "execute_result"
    }
   ],
   "source": [
    "#articulos_adquiridos_por_pedido = articulos_y_pedidos.groupby(\"user_id\")[\"add_to_cart_order\"].max().sort_values(ascending=False)\n",
    "#articulos_adquiridos_por_pedido\n",
    "articulos_adquiridos_por_pedido = articulos_y_pedidos.groupby(\"order_id\")[\"product_id\"].count()\n",
    "articulos_adquiridos_por_pedido"
   ]
  },
  {
   "cell_type": "code",
   "execution_count": 50,
   "id": "completed-frank",
   "metadata": {
    "id": "completed-frank"
   },
   "outputs": [
    {
     "data": {
      "image/png": "[encoded data removed]",
      "text/plain": [
       "<Figure size 1000x400 with 1 Axes>"
      ]
     },
     "metadata": {},
     "output_type": "display_data"
    }
   ],
   "source": [
    "#articulos_adquiridos_por_pedido.plot(kind=\"bar\",title=\"Número de artículos adquiridos por pedido\",xlab=\"Número de artículos\")\n",
    "\n",
    "articulos_adquiridos_por_pedido.plot(kind = \"hist\",\n",
    "                                    title = \"Articulos comprados en un pedido\",\n",
    "                                    figsize = [10,4],\n",
    "                                    bins = 120)\n",
    "plt.show()"
   ]
  },
  {
   "cell_type": "markdown",
   "id": "designed-mortality",
   "metadata": {
    "id": "designed-mortality"
   },
   "source": [
    "Podemos observar que los pedidos realizados oscilan entre uno y cuarenta y cuatro artículos. Por lo general, las personas ordenan de uno a diez artículos por pedido. A medida que aumentan los artículos por pedido, disminuye la cantidad de ordenes con dichos artículos comprados. Cabe resaltar que hay un aumento en los pedidos de 18 artículos en comparación con los valores cercanos."
   ]
  },
  {
   "cell_type": "markdown",
   "id": "5e6b5537",
   "metadata": {
    "id": "5e6b5537"
   },
   "source": [
    "### [C2] ¿Cuáles son los 20 principales artículos que vuelven a pedirse con mayor frecuencia (muestra sus nombres e IDs de los productos)?"
   ]
  },
  {
   "cell_type": "code",
   "execution_count": 51,
   "id": "9374e55a",
   "metadata": {
    "id": "9374e55a"
   },
   "outputs": [
    {
     "data": {
      "text/plain": [
       "product_id  product_name                                 \n",
       "24852       BANANA                                           55763\n",
       "13176       BAG OF ORGANIC BANANAS                           44450\n",
       "21137       ORGANIC STRAWBERRIES                             28639\n",
       "21903       ORGANIC BABY SPINACH                             26233\n",
       "47209       ORGANIC HASS AVOCADO                             23629\n",
       "                                                             ...  \n",
       "7092        MELATONIN NUTRASPRAY SUBLINGUAL ORANGE FLAVOR        1\n",
       "21003       WHITE CHOCOLATE MACADAMIA COFFEE CREAMER             1\n",
       "32856       CRAB RANGOON                                         1\n",
       "42727       CHOCOLATE LOVERS CHIPS DELUXE COOKIES                1\n",
       "24091       GARLIC MILL SPICES                                   1\n",
       "Name: order_id, Length: 36228, dtype: int64"
      ]
     },
     "execution_count": 51,
     "metadata": {},
     "output_type": "execute_result"
    }
   ],
   "source": [
    "productos_reordenados_populares = productos_populares[productos_populares[\"reordered\"]==1].groupby([\"product_id\",\"product_name\"])[\"order_id\"].count().sort_values(ascending = False)\n",
    "productos_reordenados_populares"
   ]
  },
  {
   "cell_type": "code",
   "execution_count": 52,
   "id": "possible-change",
   "metadata": {
    "id": "possible-change",
    "scrolled": true
   },
   "outputs": [
    {
     "data": {
      "text/plain": [
       "product_id  product_name            \n",
       "24852       BANANA                      55763\n",
       "13176       BAG OF ORGANIC BANANAS      44450\n",
       "21137       ORGANIC STRAWBERRIES        28639\n",
       "21903       ORGANIC BABY SPINACH        26233\n",
       "47209       ORGANIC HASS AVOCADO        23629\n",
       "47766       ORGANIC AVOCADO             18743\n",
       "27845       ORGANIC WHOLE MILK          16251\n",
       "47626       LARGE LEMON                 15044\n",
       "27966       ORGANIC RASPBERRIES         14748\n",
       "16797       STRAWBERRIES                13945\n",
       "26209       LIMES                       13327\n",
       "22935       ORGANIC YELLOW ONION        11145\n",
       "24964       ORGANIC GARLIC              10411\n",
       "45007       ORGANIC ZUCCHINI            10076\n",
       "49683       CUCUMBER KIRBY               9538\n",
       "28204       ORGANIC FUJI APPLE           8989\n",
       "8277        APPLE HONEYCRISP ORGANIC     8836\n",
       "39275       ORGANIC BLUEBERRIES          8799\n",
       "5876        ORGANIC LEMON                8412\n",
       "49235       ORGANIC HALF & HALF          8389\n",
       "Name: order_id, dtype: int64"
      ]
     },
     "execution_count": 52,
     "metadata": {},
     "output_type": "execute_result"
    }
   ],
   "source": [
    "productos_reordenados_populares_20 = productos_reordenados_populares.head(20)\n",
    "productos_reordenados_populares_20"
   ]
  },
  {
   "cell_type": "code",
   "execution_count": 53,
   "id": "professional-surfing",
   "metadata": {
    "id": "professional-surfing",
    "scrolled": true
   },
   "outputs": [
    {
     "data": {
      "image/png": "[encoded data removed]",
      "text/plain": [
       "<Figure size 1000x400 with 1 Axes>"
      ]
     },
     "metadata": {},
     "output_type": "display_data"
    }
   ],
   "source": [
    "#productos_reordenados_populares_20.plot(kind=\"bar\",title=\"Los 20 productos más reordenados\",xlab=\"Producto\")\n",
    "productos_reordenados_populares_20.plot(x = \"product_name\",\n",
    "                                       kind = \"bar\",\n",
    "                                       title = \"Los 20 productos más reordenados\",\n",
    "                                       xlabel = \"Producto\",\n",
    "                                        ylabel = \"Frecuencia\",\n",
    "                                       figsize = [10,4])\n",
    "plt.show()"
   ]
  },
  {
   "cell_type": "code",
   "execution_count": 54,
   "id": "780d1777",
   "metadata": {},
   "outputs": [],
   "source": [
    "#(products_reordered.sort_values(ascending = False).head(20)).plot(kind = 'bar',\n",
    "#                                                        title = '20 Productos que vuelven a pedirse con mayor frecuencia',\n",
    " #                                                       xlabel = 'Productos',\n",
    "  #                                                      ylabel = 'Frecuencia',\n",
    "   #                                                    figsize = [10, 2],\n",
    "    #                                                    color = 'darkred')"
   ]
  },
  {
   "cell_type": "markdown",
   "id": "80e70c74",
   "metadata": {
    "id": "80e70c74"
   },
   "source": [
    "Se puede observar que los veinte productos que la gente suele comprar más de una vez son todos frutas y verduras, lo cual es lógico dado el poco tiempo de duración que tienen y la frecuencia con la que la gente los usa para cocinar. Además, se puede observar que los productos coinciden con los más comprados."
   ]
  },
  {
   "cell_type": "markdown",
   "id": "9d312b14",
   "metadata": {
    "id": "9d312b14"
   },
   "source": [
    "### [C3] Para cada producto, ¿cuál es la proporción de las veces que se pide y que se vuelve a pedir?"
   ]
  },
  {
   "cell_type": "code",
   "execution_count": 55,
   "id": "8ae9f4b1",
   "metadata": {
    "id": "8ae9f4b1"
   },
   "outputs": [
    {
     "data": {
      "text/plain": [
       "product_id  product_name                                                     \n",
       "1           CHOCOLATE SANDWICH COOKIES                                           0.564286\n",
       "2           ALL-SEASONS SALT                                                     0.000000\n",
       "3           ROBUST GOLDEN UNSWEETENED OOLONG TEA                                 0.738095\n",
       "4           SMART ONES CLASSIC FAVORITES MINI RIGATONI WITH VODKA CREAM SAUCE    0.510204\n",
       "7           PURE COCONUT WATER WITH ORANGE                                       0.500000\n",
       "                                                                                   ...   \n",
       "49690       HIGH PERFORMANCE ENERGY DRINK                                        0.800000\n",
       "49691       ORIGINAL PANCAKE & WAFFLE MIX                                        0.430556\n",
       "49692       ORGANIC INSTANT OATMEAL LIGHT MAPLE BROWN SUGAR                      0.416667\n",
       "49693       SPRING WATER BODY WASH                                               0.440000\n",
       "49694       BURRITO- STEAK & CHEESE                                              0.333333\n",
       "Name: reordered, Length: 45573, dtype: float64"
      ]
     },
     "execution_count": 55,
     "metadata": {},
     "output_type": "execute_result"
    }
   ],
   "source": [
    "proporcion_productos_populares = productos_populares.groupby([\"product_id\",\"product_name\"])[\"reordered\"].mean()\n",
    "proporcion_productos_populares"
   ]
  },
  {
   "cell_type": "code",
   "execution_count": 56,
   "id": "social-individual",
   "metadata": {
    "id": "social-individual"
   },
   "outputs": [
    {
     "data": {
      "image/png": "[encoded data removed]",
      "text/plain": [
       "<Figure size 1000x400 with 1 Axes>"
      ]
     },
     "metadata": {},
     "output_type": "display_data"
    }
   ],
   "source": [
    "proporcion_productos_populares.plot(kind = \"hist\",\n",
    "                                    figsize = [10,4], \n",
    "                                    title = \"Proporción de veces que se vuelve a ordenar un producto\",\n",
    "                                    bins = 20)\n",
    "plt.show()"
   ]
  },
  {
   "cell_type": "markdown",
   "id": "I10dEIAyldcO",
   "metadata": {
    "id": "I10dEIAyldcO"
   },
   "source": [
    "La mayoria de los productos tienen una proporcion de reordenamiento de menos del 5%. Cabe resaltar que si hay un alto porcentaje de productos reordenados, aunque estos se distribuyen en un rango entre el 25% y el 75%."
   ]
  },
  {
   "cell_type": "markdown",
   "id": "subject-boxing",
   "metadata": {
    "id": "subject-boxing"
   },
   "source": [
    "### [C4] Para cada cliente, ¿qué proporción de sus productos ya los había pedido?"
   ]
  },
  {
   "cell_type": "code",
   "execution_count": 57,
   "id": "medical-couple",
   "metadata": {
    "id": "medical-couple",
    "scrolled": true
   },
   "outputs": [
    {
     "data": {
      "text/html": [
       "<div>\n",
       "<style scoped>\n",
       "    .dataframe tbody tr th:only-of-type {\n",
       "        vertical-align: middle;\n",
       "    }\n",
       "\n",
       "    .dataframe tbody tr th {\n",
       "        vertical-align: top;\n",
       "    }\n",
       "\n",
       "    .dataframe thead th {\n",
       "        text-align: right;\n",
       "    }\n",
       "</style>\n",
       "<table border=\"1\" class=\"dataframe\">\n",
       "  <thead>\n",
       "    <tr style=\"text-align: right;\">\n",
       "      <th></th>\n",
       "      <th>order_id</th>\n",
       "      <th>product_id</th>\n",
       "      <th>add_to_cart_order</th>\n",
       "      <th>reordered</th>\n",
       "      <th>product_name</th>\n",
       "      <th>aisle_id</th>\n",
       "      <th>department_id</th>\n",
       "      <th>user_id</th>\n",
       "      <th>order_number</th>\n",
       "      <th>order_dow</th>\n",
       "      <th>order_hour_of_day</th>\n",
       "      <th>days_since_prior_order</th>\n",
       "    </tr>\n",
       "  </thead>\n",
       "  <tbody>\n",
       "    <tr>\n",
       "      <th>0</th>\n",
       "      <td>2141543</td>\n",
       "      <td>11440.0</td>\n",
       "      <td>17.0</td>\n",
       "      <td>0.0</td>\n",
       "      <td>CHICKEN BREAST TENDERS BREADED</td>\n",
       "      <td>129.0</td>\n",
       "      <td>1.0</td>\n",
       "      <td>58454</td>\n",
       "      <td>25</td>\n",
       "      <td>0</td>\n",
       "      <td>15</td>\n",
       "      <td>8.0</td>\n",
       "    </tr>\n",
       "    <tr>\n",
       "      <th>1</th>\n",
       "      <td>2141543</td>\n",
       "      <td>24561.0</td>\n",
       "      <td>13.0</td>\n",
       "      <td>1.0</td>\n",
       "      <td>ORGANIC CHEESE FROZEN PIZZA</td>\n",
       "      <td>79.0</td>\n",
       "      <td>1.0</td>\n",
       "      <td>58454</td>\n",
       "      <td>25</td>\n",
       "      <td>0</td>\n",
       "      <td>15</td>\n",
       "      <td>8.0</td>\n",
       "    </tr>\n",
       "    <tr>\n",
       "      <th>2</th>\n",
       "      <td>2141543</td>\n",
       "      <td>13176.0</td>\n",
       "      <td>2.0</td>\n",
       "      <td>1.0</td>\n",
       "      <td>BAG OF ORGANIC BANANAS</td>\n",
       "      <td>24.0</td>\n",
       "      <td>4.0</td>\n",
       "      <td>58454</td>\n",
       "      <td>25</td>\n",
       "      <td>0</td>\n",
       "      <td>15</td>\n",
       "      <td>8.0</td>\n",
       "    </tr>\n",
       "    <tr>\n",
       "      <th>3</th>\n",
       "      <td>2141543</td>\n",
       "      <td>31869.0</td>\n",
       "      <td>15.0</td>\n",
       "      <td>1.0</td>\n",
       "      <td>ORGANIC EDAMAME</td>\n",
       "      <td>116.0</td>\n",
       "      <td>1.0</td>\n",
       "      <td>58454</td>\n",
       "      <td>25</td>\n",
       "      <td>0</td>\n",
       "      <td>15</td>\n",
       "      <td>8.0</td>\n",
       "    </tr>\n",
       "    <tr>\n",
       "      <th>4</th>\n",
       "      <td>2141543</td>\n",
       "      <td>16759.0</td>\n",
       "      <td>5.0</td>\n",
       "      <td>1.0</td>\n",
       "      <td>ORGANIC CARROT BUNCH</td>\n",
       "      <td>83.0</td>\n",
       "      <td>4.0</td>\n",
       "      <td>58454</td>\n",
       "      <td>25</td>\n",
       "      <td>0</td>\n",
       "      <td>15</td>\n",
       "      <td>8.0</td>\n",
       "    </tr>\n",
       "    <tr>\n",
       "      <th>...</th>\n",
       "      <td>...</td>\n",
       "      <td>...</td>\n",
       "      <td>...</td>\n",
       "      <td>...</td>\n",
       "      <td>...</td>\n",
       "      <td>...</td>\n",
       "      <td>...</td>\n",
       "      <td>...</td>\n",
       "      <td>...</td>\n",
       "      <td>...</td>\n",
       "      <td>...</td>\n",
       "      <td>...</td>\n",
       "    </tr>\n",
       "    <tr>\n",
       "      <th>4573908</th>\n",
       "      <td>3129486</td>\n",
       "      <td>NaN</td>\n",
       "      <td>NaN</td>\n",
       "      <td>NaN</td>\n",
       "      <td>NaN</td>\n",
       "      <td>NaN</td>\n",
       "      <td>NaN</td>\n",
       "      <td>189202</td>\n",
       "      <td>24</td>\n",
       "      <td>0</td>\n",
       "      <td>9</td>\n",
       "      <td>7.0</td>\n",
       "    </tr>\n",
       "    <tr>\n",
       "      <th>4573909</th>\n",
       "      <td>2563672</td>\n",
       "      <td>NaN</td>\n",
       "      <td>NaN</td>\n",
       "      <td>NaN</td>\n",
       "      <td>NaN</td>\n",
       "      <td>NaN</td>\n",
       "      <td>NaN</td>\n",
       "      <td>112284</td>\n",
       "      <td>5</td>\n",
       "      <td>2</td>\n",
       "      <td>18</td>\n",
       "      <td>30.0</td>\n",
       "    </tr>\n",
       "    <tr>\n",
       "      <th>4573910</th>\n",
       "      <td>1631361</td>\n",
       "      <td>NaN</td>\n",
       "      <td>NaN</td>\n",
       "      <td>NaN</td>\n",
       "      <td>NaN</td>\n",
       "      <td>NaN</td>\n",
       "      <td>NaN</td>\n",
       "      <td>164034</td>\n",
       "      <td>35</td>\n",
       "      <td>5</td>\n",
       "      <td>17</td>\n",
       "      <td>13.0</td>\n",
       "    </tr>\n",
       "    <tr>\n",
       "      <th>4573911</th>\n",
       "      <td>2607577</td>\n",
       "      <td>NaN</td>\n",
       "      <td>NaN</td>\n",
       "      <td>NaN</td>\n",
       "      <td>NaN</td>\n",
       "      <td>NaN</td>\n",
       "      <td>NaN</td>\n",
       "      <td>167381</td>\n",
       "      <td>24</td>\n",
       "      <td>0</td>\n",
       "      <td>18</td>\n",
       "      <td>7.0</td>\n",
       "    </tr>\n",
       "    <tr>\n",
       "      <th>4573912</th>\n",
       "      <td>3006133</td>\n",
       "      <td>NaN</td>\n",
       "      <td>NaN</td>\n",
       "      <td>NaN</td>\n",
       "      <td>NaN</td>\n",
       "      <td>NaN</td>\n",
       "      <td>NaN</td>\n",
       "      <td>34561</td>\n",
       "      <td>7</td>\n",
       "      <td>6</td>\n",
       "      <td>10</td>\n",
       "      <td>30.0</td>\n",
       "    </tr>\n",
       "  </tbody>\n",
       "</table>\n",
       "<p>4573913 rows × 12 columns</p>\n",
       "</div>"
      ],
      "text/plain": [
       "         order_id  product_id  add_to_cart_order  reordered  \\\n",
       "0         2141543     11440.0               17.0        0.0   \n",
       "1         2141543     24561.0               13.0        1.0   \n",
       "2         2141543     13176.0                2.0        1.0   \n",
       "3         2141543     31869.0               15.0        1.0   \n",
       "4         2141543     16759.0                5.0        1.0   \n",
       "...           ...         ...                ...        ...   \n",
       "4573908   3129486         NaN                NaN        NaN   \n",
       "4573909   2563672         NaN                NaN        NaN   \n",
       "4573910   1631361         NaN                NaN        NaN   \n",
       "4573911   2607577         NaN                NaN        NaN   \n",
       "4573912   3006133         NaN                NaN        NaN   \n",
       "\n",
       "                           product_name  aisle_id  department_id  user_id  \\\n",
       "0        CHICKEN BREAST TENDERS BREADED     129.0            1.0    58454   \n",
       "1           ORGANIC CHEESE FROZEN PIZZA      79.0            1.0    58454   \n",
       "2                BAG OF ORGANIC BANANAS      24.0            4.0    58454   \n",
       "3                       ORGANIC EDAMAME     116.0            1.0    58454   \n",
       "4                  ORGANIC CARROT BUNCH      83.0            4.0    58454   \n",
       "...                                 ...       ...            ...      ...   \n",
       "4573908                             NaN       NaN            NaN   189202   \n",
       "4573909                             NaN       NaN            NaN   112284   \n",
       "4573910                             NaN       NaN            NaN   164034   \n",
       "4573911                             NaN       NaN            NaN   167381   \n",
       "4573912                             NaN       NaN            NaN    34561   \n",
       "\n",
       "         order_number  order_dow  order_hour_of_day  days_since_prior_order  \n",
       "0                  25          0                 15                     8.0  \n",
       "1                  25          0                 15                     8.0  \n",
       "2                  25          0                 15                     8.0  \n",
       "3                  25          0                 15                     8.0  \n",
       "4                  25          0                 15                     8.0  \n",
       "...               ...        ...                ...                     ...  \n",
       "4573908            24          0                  9                     7.0  \n",
       "4573909             5          2                 18                    30.0  \n",
       "4573910            35          5                 17                    13.0  \n",
       "4573911            24          0                 18                     7.0  \n",
       "4573912             7          6                 10                    30.0  \n",
       "\n",
       "[4573913 rows x 12 columns]"
      ]
     },
     "execution_count": 57,
     "metadata": {},
     "output_type": "execute_result"
    }
   ],
   "source": [
    "clientes_y_productos_populares = productos_populares.merge(df_orders, on = \"order_id\", how=\"outer\")\n",
    "clientes_y_productos_populares"
   ]
  },
  {
   "cell_type": "code",
   "execution_count": 58,
   "id": "8892e4b4",
   "metadata": {
    "id": "8892e4b4"
   },
   "outputs": [
    {
     "data": {
      "image/png": "[encoded data removed]",
      "text/plain": [
       "<Figure size 1000x400 with 1 Axes>"
      ]
     },
     "metadata": {},
     "output_type": "display_data"
    }
   ],
   "source": [
    "proporcion_productos_reordenados_por_clientes = clientes_y_productos_populares.groupby([\"user_id\"])[\"reordered\"].mean()\n",
    "proporcion_productos_reordenados_por_clientes.plot(kind = \"hist\",\n",
    "                                                   bins = 20,\n",
    "                                                   title = \"Proporción de los productos que los clientes reordenan\",\n",
    "                                                   figsize = [10,4])\n",
    "plt.show()"
   ]
  },
  {
   "cell_type": "markdown",
   "id": "BgJSvXDsleXz",
   "metadata": {
    "id": "BgJSvXDsleXz"
   },
   "source": [
    "Se puede observar que la proporcion de productos reordenados por clos clientes varia mucho. Resalta que la mayoria de los clientes reordena los productos menos del 5% de las veces que realiza un nuevo pedido. Auque tambien cabe aclarar que muchos clientes reordenan entre el 50% y 75% de los productos en una nueva orden. "
   ]
  },
  {
   "cell_type": "markdown",
   "id": "92d35137",
   "metadata": {
    "id": "92d35137"
   },
   "source": [
    "### [C5] ¿Cuáles son los 20 principales artículos que las personas ponen primero en sus carritos?"
   ]
  },
  {
   "cell_type": "code",
   "execution_count": 59,
   "id": "0ae57274",
   "metadata": {
    "id": "0ae57274",
    "scrolled": true
   },
   "outputs": [
    {
     "data": {
      "text/plain": [
       "user_id  product_name                      \n",
       "139660   ORIGINAL PURE CREAMY ALMOND MILK      17.0\n",
       "39993    DRINKING WATER                        17.0\n",
       "84478    VODKA                                 14.0\n",
       "142977   WALNUT HALVES & PIECES                14.0\n",
       "100935   TOTAL 0% GREEK YOGURT                 14.0\n",
       "                                               ... \n",
       "72759    GRENACHE BLANC                         1.0\n",
       "         GLUTEN FREE MATZO-STYLE SQUARES        1.0\n",
       "         FRONTIER WHISKEY                       1.0\n",
       "         CURATE CHERRY LIME SPARKLING WATER     1.0\n",
       "206209   FRENCH LOAF                            1.0\n",
       "Name: add_to_cart_order, Length: 389636, dtype: float64"
      ]
     },
     "execution_count": 59,
     "metadata": {},
     "output_type": "execute_result"
    }
   ],
   "source": [
    "productos_primero_comprados = clientes_y_productos_populares[clientes_y_productos_populares[\"add_to_cart_order\"]==1].groupby([\"user_id\",\"product_name\"])[\"add_to_cart_order\"].sum().sort_values(ascending = False)\n",
    "productos_primero_comprados"
   ]
  },
  {
   "cell_type": "code",
   "execution_count": 60,
   "id": "forty-netherlands",
   "metadata": {
    "id": "forty-netherlands",
    "scrolled": true
   },
   "outputs": [
    {
     "data": {
      "text/plain": [
       "user_id  product_name                    \n",
       "139660   ORIGINAL PURE CREAMY ALMOND MILK    17.0\n",
       "39993    DRINKING WATER                      17.0\n",
       "84478    VODKA                               14.0\n",
       "142977   WALNUT HALVES & PIECES              14.0\n",
       "100935   TOTAL 0% GREEK YOGURT               14.0\n",
       "33799    ICE                                 14.0\n",
       "12486    SODA                                14.0\n",
       "195804   BANANA                              13.0\n",
       "126311   SPRING WATER                        13.0\n",
       "46328    REAL2 ALKALIZED WATER 500 ML        13.0\n",
       "84722    BAG OF ORGANIC BANANAS              12.0\n",
       "53684    ITALIAN SPARKLING MINERAL WATER     12.0\n",
       "69922    ICE BAG                             12.0\n",
       "189766   ICE                                 12.0\n",
       "79973    VODKA                               12.0\n",
       "72559    EXTRA FANCY UNSALTED MIXED NUTS     12.0\n",
       "137357   BANANA                              12.0\n",
       "194931   BANANA                              11.0\n",
       "127577   WATERMELON CHUNKS                   11.0\n",
       "120897   PINOT NOIR                          11.0\n",
       "Name: add_to_cart_order, dtype: float64"
      ]
     },
     "execution_count": 60,
     "metadata": {},
     "output_type": "execute_result"
    }
   ],
   "source": [
    "principales_20_primeros_productos_comprados = productos_primero_comprados.head(20)\n",
    "principales_20_primeros_productos_comprados"
   ]
  },
  {
   "cell_type": "code",
   "execution_count": 61,
   "id": "08e41ec2",
   "metadata": {
    "id": "08e41ec2"
   },
   "outputs": [
    {
     "data": {
      "image/png": "[encoded data removed]",
      "text/plain": [
       "<Figure size 1000x400 with 1 Axes>"
      ]
     },
     "metadata": {},
     "output_type": "display_data"
    }
   ],
   "source": [
    "#principales_20_primeros_productos_comprados.plot(kind=\"bar\",title=\"Primeros 20 productos que los usuarios agregan a su carrito de compra\", xlab=\"Producto\")\n",
    "principales_20_primeros_productos_comprados.plot(kind = \"bar\",\n",
    "                                                x = \"product_name\",\n",
    "                                                title = \"Principales 20 productos que la gente coloca primero en su carrito de compras\",\n",
    "                                                xlabel = \"Producto\",\n",
    "                                                ylabel = \"Frecuencia\",\n",
    "                                                figsize = [10,4])\n",
    "plt.show()"
   ]
  },
  {
   "cell_type": "markdown",
   "id": "28ce9872",
   "metadata": {
    "id": "28ce9872"
   },
   "source": [
    "Los primeros productos que la gente suele agregar a sus carritos de compra son muy variados. Además, no hay una gran difeencia entre el producto más agregado y los subsecuentes, por lo que es dificil deducir a que se deba el que un cliente escoja dichos productos primero. Por otro lado, podemos observar que hay productos que se repiten (se llaman igual pero poseen un número de identificación diferente), como las bananas, el hielo o el vodka."
   ]
  },
  {
   "cell_type": "markdown",
   "id": "uITbFCEoDosC",
   "metadata": {
    "id": "uITbFCEoDosC"
   },
   "source": [
    "### Conclusion general del proyecto:"
   ]
  },
  {
   "cell_type": "raw",
   "id": "0cb5c64d",
   "metadata": {
    "id": "Nk-4GS7mDwqY"
   },
   "source": [
    "Con el analisis realizado con las bases de datos de Instacart, la empresa podrá tomar decisiones que ayuden a aumentar las ventas y obtener nuevos clientes.  "
   ]
  }
 ],
 "metadata": {
  "ExecuteTimeLog": [
   {
    "duration": 2254,
    "start_time": "2024-10-15T19:20:22.799Z"
   },
   {
    "duration": 2559,
    "start_time": "2024-10-15T19:20:28.055Z"
   },
   {
    "duration": 22,
    "start_time": "2024-10-15T19:20:34.063Z"
   },
   {
    "duration": 11,
    "start_time": "2024-10-15T19:20:49.273Z"
   },
   {
    "duration": 8,
    "start_time": "2024-10-15T19:20:59.817Z"
   },
   {
    "duration": 12,
    "start_time": "2024-10-15T19:21:16.589Z"
   },
   {
    "duration": 7,
    "start_time": "2024-10-15T19:21:23.288Z"
   },
   {
    "duration": 941,
    "start_time": "2024-10-15T19:22:49.884Z"
   },
   {
    "duration": 11,
    "start_time": "2024-10-15T19:22:53.018Z"
   },
   {
    "duration": 11,
    "start_time": "2024-10-15T19:23:04.282Z"
   },
   {
    "duration": 10,
    "start_time": "2024-10-15T19:23:10.359Z"
   },
   {
    "duration": 8,
    "start_time": "2024-10-15T19:23:14.871Z"
   },
   {
    "duration": 8,
    "start_time": "2024-10-15T19:24:48.782Z"
   },
   {
    "duration": 7,
    "start_time": "2024-10-15T19:55:57.167Z"
   },
   {
    "duration": 104,
    "start_time": "2024-10-15T20:03:08.653Z"
   },
   {
    "duration": 92,
    "start_time": "2024-10-15T20:03:30.046Z"
   },
   {
    "duration": 14,
    "start_time": "2024-10-15T20:10:31.499Z"
   },
   {
    "duration": 13,
    "start_time": "2024-10-15T20:10:44.872Z"
   },
   {
    "duration": 12,
    "start_time": "2024-10-15T20:11:29.940Z"
   },
   {
    "duration": 9,
    "start_time": "2024-10-15T20:11:44.296Z"
   },
   {
    "duration": 10,
    "start_time": "2024-10-15T20:11:58.649Z"
   },
   {
    "duration": 10,
    "start_time": "2024-10-15T20:12:17.065Z"
   },
   {
    "duration": 215,
    "start_time": "2024-10-15T20:13:00.225Z"
   },
   {
    "duration": 15,
    "start_time": "2024-10-15T20:13:17.331Z"
   },
   {
    "duration": 14,
    "start_time": "2024-10-15T20:16:11.920Z"
   },
   {
    "duration": 101,
    "start_time": "2024-10-15T20:16:18.173Z"
   },
   {
    "duration": 99,
    "start_time": "2024-10-15T20:16:33.175Z"
   },
   {
    "duration": 37,
    "start_time": "2024-10-15T20:19:36.896Z"
   },
   {
    "duration": 95,
    "start_time": "2024-10-15T20:21:54.640Z"
   },
   {
    "duration": 2,
    "start_time": "2024-10-15T20:22:11.334Z"
   },
   {
    "duration": 894,
    "start_time": "2024-10-15T20:22:12.528Z"
   },
   {
    "duration": 12,
    "start_time": "2024-10-15T20:22:15.190Z"
   },
   {
    "duration": 11,
    "start_time": "2024-10-15T20:22:19.449Z"
   },
   {
    "duration": 9,
    "start_time": "2024-10-15T20:22:22.565Z"
   },
   {
    "duration": 9,
    "start_time": "2024-10-15T20:22:25.220Z"
   },
   {
    "duration": 9,
    "start_time": "2024-10-15T20:22:28.311Z"
   },
   {
    "duration": 150,
    "start_time": "2024-10-15T20:22:34.798Z"
   },
   {
    "duration": 152,
    "start_time": "2024-10-15T20:33:39.341Z"
   },
   {
    "duration": 156,
    "start_time": "2024-10-15T20:33:59.850Z"
   },
   {
    "duration": 77,
    "start_time": "2024-10-15T20:34:11.230Z"
   },
   {
    "duration": 88,
    "start_time": "2024-10-15T20:37:15.789Z"
   },
   {
    "duration": 74,
    "start_time": "2024-10-15T20:37:17.481Z"
   },
   {
    "duration": 38,
    "start_time": "2024-10-15T20:37:23.830Z"
   },
   {
    "duration": 3,
    "start_time": "2024-10-15T20:37:49.652Z"
   },
   {
    "duration": 824,
    "start_time": "2024-10-15T20:37:51.306Z"
   },
   {
    "duration": 12,
    "start_time": "2024-10-15T20:37:54.650Z"
   },
   {
    "duration": 12,
    "start_time": "2024-10-15T20:37:58.678Z"
   },
   {
    "duration": 10,
    "start_time": "2024-10-15T20:38:02.089Z"
   },
   {
    "duration": 12,
    "start_time": "2024-10-15T20:38:04.632Z"
   },
   {
    "duration": 10,
    "start_time": "2024-10-15T20:38:07.311Z"
   },
   {
    "duration": 158,
    "start_time": "2024-10-15T20:38:11.967Z"
   },
   {
    "duration": 8,
    "start_time": "2024-10-15T20:38:16.748Z"
   },
   {
    "duration": 96,
    "start_time": "2024-10-15T20:38:23.435Z"
   },
   {
    "duration": 82,
    "start_time": "2024-10-15T20:38:25.108Z"
   },
   {
    "duration": 38,
    "start_time": "2024-10-15T20:38:29.472Z"
   },
   {
    "duration": 14,
    "start_time": "2024-10-15T20:40:54.186Z"
   },
   {
    "duration": 11,
    "start_time": "2024-10-15T20:41:01.394Z"
   },
   {
    "duration": 4,
    "start_time": "2024-10-15T20:41:59.159Z"
   },
   {
    "duration": 4,
    "start_time": "2024-10-15T20:42:39.728Z"
   },
   {
    "duration": 42,
    "start_time": "2024-10-15T20:45:32.762Z"
   },
   {
    "duration": 76,
    "start_time": "2024-10-15T20:45:55.340Z"
   },
   {
    "duration": 64,
    "start_time": "2024-10-15T20:46:03.450Z"
   },
   {
    "duration": 6,
    "start_time": "2024-10-15T20:49:17.241Z"
   },
   {
    "duration": 7,
    "start_time": "2024-10-15T20:49:46.224Z"
   },
   {
    "duration": 4,
    "start_time": "2024-10-15T20:51:55.975Z"
   },
   {
    "duration": 16,
    "start_time": "2024-10-15T21:05:52.719Z"
   },
   {
    "duration": 14,
    "start_time": "2024-10-15T21:06:08.611Z"
   },
   {
    "duration": 13,
    "start_time": "2024-10-15T21:07:43.043Z"
   },
   {
    "duration": 10,
    "start_time": "2024-10-15T21:08:45.452Z"
   },
   {
    "duration": 4,
    "start_time": "2024-10-15T21:08:58.786Z"
   },
   {
    "duration": 13,
    "start_time": "2024-10-15T21:09:27.717Z"
   },
   {
    "duration": 2,
    "start_time": "2024-10-15T21:09:52.276Z"
   },
   {
    "duration": 14,
    "start_time": "2024-10-15T21:15:53.178Z"
   },
   {
    "duration": 13,
    "start_time": "2024-10-15T21:17:37.649Z"
   },
   {
    "duration": 14,
    "start_time": "2024-10-15T21:19:37.530Z"
   },
   {
    "duration": 5,
    "start_time": "2024-10-15T21:23:15.266Z"
   },
   {
    "duration": 4,
    "start_time": "2024-10-15T21:25:21.855Z"
   },
   {
    "duration": 4,
    "start_time": "2024-10-15T21:25:24.770Z"
   },
   {
    "duration": 4,
    "start_time": "2024-10-15T21:26:26.785Z"
   },
   {
    "duration": 390,
    "start_time": "2024-10-15T21:26:28.168Z"
   },
   {
    "duration": 5,
    "start_time": "2024-10-15T21:27:14.621Z"
   },
   {
    "duration": 6,
    "start_time": "2024-10-15T21:27:54.190Z"
   },
   {
    "duration": 745,
    "start_time": "2024-10-15T21:31:33.179Z"
   },
   {
    "duration": 450,
    "start_time": "2024-10-15T21:31:57.609Z"
   },
   {
    "duration": 2243,
    "start_time": "2024-10-17T04:16:06.373Z"
   },
   {
    "duration": 1067,
    "start_time": "2024-10-17T04:16:13.739Z"
   },
   {
    "duration": 15,
    "start_time": "2024-10-17T04:16:17.597Z"
   },
   {
    "duration": 12,
    "start_time": "2024-10-17T04:16:23.423Z"
   },
   {
    "duration": 10,
    "start_time": "2024-10-17T04:16:27.212Z"
   },
   {
    "duration": 9,
    "start_time": "2024-10-17T04:16:31.285Z"
   },
   {
    "duration": 10,
    "start_time": "2024-10-17T04:16:34.431Z"
   },
   {
    "duration": 95,
    "start_time": "2024-10-17T04:17:32.784Z"
   },
   {
    "duration": 15,
    "start_time": "2024-10-17T04:18:06.610Z"
   },
   {
    "duration": 115,
    "start_time": "2024-10-17T04:18:16.255Z"
   },
   {
    "duration": 95,
    "start_time": "2024-10-17T04:18:20.580Z"
   },
   {
    "duration": 91,
    "start_time": "2024-10-17T04:18:28.832Z"
   },
   {
    "duration": 19,
    "start_time": "2024-10-17T04:19:39.404Z"
   },
   {
    "duration": 8,
    "start_time": "2024-10-17T04:19:57.497Z"
   },
   {
    "duration": 203,
    "start_time": "2024-10-17T04:30:50.829Z"
   },
   {
    "duration": 61,
    "start_time": "2024-10-17T04:31:10.442Z"
   },
   {
    "duration": 353,
    "start_time": "2024-10-17T04:31:54.734Z"
   },
   {
    "duration": 14,
    "start_time": "2024-10-17T04:32:24.434Z"
   },
   {
    "duration": 3,
    "start_time": "2024-10-17T04:34:21.700Z"
   },
   {
    "duration": 862,
    "start_time": "2024-10-17T04:34:23.574Z"
   },
   {
    "duration": 16,
    "start_time": "2024-10-17T04:34:26.168Z"
   },
   {
    "duration": 15,
    "start_time": "2024-10-17T04:34:37.144Z"
   },
   {
    "duration": 13,
    "start_time": "2024-10-17T04:34:44.441Z"
   },
   {
    "duration": 12,
    "start_time": "2024-10-17T04:34:48.275Z"
   },
   {
    "duration": 10,
    "start_time": "2024-10-17T04:34:52.185Z"
   },
   {
    "duration": 76,
    "start_time": "2024-10-17T04:34:57.436Z"
   },
   {
    "duration": 67,
    "start_time": "2024-10-17T04:35:00.340Z"
   },
   {
    "duration": 11,
    "start_time": "2024-10-17T04:35:09.594Z"
   },
   {
    "duration": 88,
    "start_time": "2024-10-17T04:35:24.366Z"
   },
   {
    "duration": 78,
    "start_time": "2024-10-17T04:35:26.034Z"
   },
   {
    "duration": 61,
    "start_time": "2024-10-17T04:35:33.482Z"
   },
   {
    "duration": 18,
    "start_time": "2024-10-17T04:35:40.602Z"
   },
   {
    "duration": 14,
    "start_time": "2024-10-17T04:36:48.085Z"
   },
   {
    "duration": 3,
    "start_time": "2024-10-17T04:36:51.648Z"
   },
   {
    "duration": 17,
    "start_time": "2024-10-17T04:39:29.804Z"
   },
   {
    "duration": 17,
    "start_time": "2024-10-17T04:41:06.028Z"
   },
   {
    "duration": 20,
    "start_time": "2024-10-17T04:42:51.952Z"
   },
   {
    "duration": 2210,
    "start_time": "2024-10-17T19:13:59.910Z"
   },
   {
    "duration": 1011,
    "start_time": "2024-10-17T19:14:05.691Z"
   },
   {
    "duration": 18,
    "start_time": "2024-10-17T19:14:08.821Z"
   },
   {
    "duration": 16,
    "start_time": "2024-10-17T19:14:14.539Z"
   },
   {
    "duration": 12,
    "start_time": "2024-10-17T19:14:19.427Z"
   },
   {
    "duration": 13,
    "start_time": "2024-10-17T19:14:24.212Z"
   },
   {
    "duration": 12,
    "start_time": "2024-10-17T19:14:27.701Z"
   },
   {
    "duration": 94,
    "start_time": "2024-10-17T19:14:42.618Z"
   },
   {
    "duration": 12,
    "start_time": "2024-10-17T19:14:47.873Z"
   },
   {
    "duration": 110,
    "start_time": "2024-10-17T19:14:54.083Z"
   },
   {
    "duration": 93,
    "start_time": "2024-10-17T19:14:57.363Z"
   },
   {
    "duration": 77,
    "start_time": "2024-10-17T19:14:59.769Z"
   },
   {
    "duration": 12,
    "start_time": "2024-10-17T19:15:05.498Z"
   },
   {
    "duration": 8,
    "start_time": "2024-10-17T19:15:08.804Z"
   },
   {
    "duration": 21,
    "start_time": "2024-10-17T19:15:22.018Z"
   },
   {
    "duration": 4,
    "start_time": "2024-10-17T19:20:52.557Z"
   },
   {
    "duration": 5,
    "start_time": "2024-10-17T19:21:04.767Z"
   },
   {
    "duration": 3,
    "start_time": "2024-10-17T19:21:10.799Z"
   },
   {
    "duration": 6,
    "start_time": "2024-10-17T19:21:12.852Z"
   },
   {
    "duration": 802,
    "start_time": "2024-10-17T19:21:16.667Z"
   },
   {
    "duration": 384,
    "start_time": "2024-10-17T19:21:19.165Z"
   },
   {
    "duration": 804,
    "start_time": "2024-10-17T19:23:14.482Z"
   },
   {
    "duration": 351,
    "start_time": "2024-10-17T19:23:19.220Z"
   },
   {
    "duration": 5,
    "start_time": "2024-10-17T19:31:41.739Z"
   },
   {
    "duration": 6,
    "start_time": "2024-10-17T19:33:21.684Z"
   },
   {
    "duration": 8,
    "start_time": "2024-10-17T19:35:29.693Z"
   },
   {
    "duration": 187,
    "start_time": "2024-10-17T19:36:12.216Z"
   },
   {
    "duration": 7,
    "start_time": "2024-10-17T19:37:15.517Z"
   },
   {
    "duration": 7,
    "start_time": "2024-10-17T19:38:45.375Z"
   },
   {
    "duration": 58,
    "start_time": "2024-10-17T19:44:14.514Z"
   },
   {
    "duration": 14,
    "start_time": "2024-10-17T19:44:34.857Z"
   },
   {
    "duration": 15,
    "start_time": "2024-10-17T19:44:42.631Z"
   },
   {
    "duration": 227,
    "start_time": "2024-10-17T19:44:51.364Z"
   },
   {
    "duration": 37,
    "start_time": "2024-10-17T19:45:19.812Z"
   },
   {
    "duration": 37,
    "start_time": "2024-10-17T19:46:10.220Z"
   },
   {
    "duration": 39,
    "start_time": "2024-10-17T19:46:35.178Z"
   },
   {
    "duration": 3,
    "start_time": "2024-10-17T19:48:22.852Z"
   },
   {
    "duration": 266,
    "start_time": "2024-10-17T19:50:06.203Z"
   },
   {
    "duration": 7,
    "start_time": "2024-10-17T19:50:53.168Z"
   },
   {
    "duration": 9,
    "start_time": "2024-10-17T19:51:31.252Z"
   },
   {
    "duration": 13,
    "start_time": "2024-10-17T19:54:46.043Z"
   },
   {
    "duration": 2183,
    "start_time": "2024-10-17T20:55:39.432Z"
   },
   {
    "duration": 999,
    "start_time": "2024-10-17T20:55:42.938Z"
   },
   {
    "duration": 18,
    "start_time": "2024-10-17T20:55:45.766Z"
   },
   {
    "duration": 14,
    "start_time": "2024-10-17T20:55:49.602Z"
   },
   {
    "duration": 13,
    "start_time": "2024-10-17T20:55:52.763Z"
   },
   {
    "duration": 12,
    "start_time": "2024-10-17T20:55:56.056Z"
   },
   {
    "duration": 10,
    "start_time": "2024-10-17T20:55:58.982Z"
   },
   {
    "duration": 97,
    "start_time": "2024-10-17T21:02:21.792Z"
   },
   {
    "duration": 195,
    "start_time": "2024-10-17T21:04:01.976Z"
   },
   {
    "duration": 196,
    "start_time": "2024-10-17T21:05:14.403Z"
   },
   {
    "duration": 201,
    "start_time": "2024-10-17T21:05:47.033Z"
   },
   {
    "duration": 18,
    "start_time": "2024-10-17T21:07:34.425Z"
   },
   {
    "duration": 191,
    "start_time": "2024-10-17T21:07:50.754Z"
   },
   {
    "duration": 10,
    "start_time": "2024-10-17T21:08:05.685Z"
   },
   {
    "duration": 198,
    "start_time": "2024-10-17T21:09:04.116Z"
   },
   {
    "duration": 9,
    "start_time": "2024-10-17T21:10:58.151Z"
   },
   {
    "duration": 109,
    "start_time": "2024-10-17T21:11:00.970Z"
   },
   {
    "duration": 89,
    "start_time": "2024-10-17T21:11:02.459Z"
   },
   {
    "duration": 99,
    "start_time": "2024-10-17T21:11:14.406Z"
   },
   {
    "duration": 68,
    "start_time": "2024-10-17T21:11:32.893Z"
   },
   {
    "duration": 67,
    "start_time": "2024-10-17T21:11:51.639Z"
   },
   {
    "duration": 12,
    "start_time": "2024-10-17T21:11:59.199Z"
   },
   {
    "duration": 7,
    "start_time": "2024-10-17T21:12:01.197Z"
   },
   {
    "duration": 21,
    "start_time": "2024-10-17T21:12:05.392Z"
   },
   {
    "duration": 19,
    "start_time": "2024-10-17T21:13:26.987Z"
   },
   {
    "duration": 24,
    "start_time": "2024-10-17T21:14:01.334Z"
   },
   {
    "duration": 21,
    "start_time": "2024-10-17T21:14:17.445Z"
   },
   {
    "duration": 21,
    "start_time": "2024-10-17T21:14:49.764Z"
   },
   {
    "duration": 21,
    "start_time": "2024-10-17T21:15:01.716Z"
   },
   {
    "duration": 4,
    "start_time": "2024-10-17T21:15:48.647Z"
   },
   {
    "duration": 4,
    "start_time": "2024-10-17T21:15:58.415Z"
   },
   {
    "duration": 4,
    "start_time": "2024-10-17T21:16:04.350Z"
   },
   {
    "duration": 4,
    "start_time": "2024-10-17T21:16:06.948Z"
   },
   {
    "duration": 778,
    "start_time": "2024-10-17T21:16:11.012Z"
   },
   {
    "duration": 342,
    "start_time": "2024-10-17T21:16:14.712Z"
   },
   {
    "duration": 3,
    "start_time": "2024-10-17T21:19:05.921Z"
   },
   {
    "duration": 406,
    "start_time": "2024-10-17T21:19:15.112Z"
   },
   {
    "duration": 399,
    "start_time": "2024-10-17T21:19:29.789Z"
   },
   {
    "duration": 367,
    "start_time": "2024-10-17T21:19:38.705Z"
   },
   {
    "duration": 347,
    "start_time": "2024-10-17T21:20:01.767Z"
   },
   {
    "duration": 493,
    "start_time": "2024-10-17T21:21:06.457Z"
   },
   {
    "duration": 427,
    "start_time": "2024-10-17T21:21:47.730Z"
   },
   {
    "duration": 1245,
    "start_time": "2024-10-17T21:37:17.126Z"
   },
   {
    "duration": 5,
    "start_time": "2024-10-18T03:02:15.786Z"
   },
   {
    "duration": 7,
    "start_time": "2024-10-18T03:02:26.033Z"
   },
   {
    "duration": 6,
    "start_time": "2024-10-18T03:02:33.063Z"
   },
   {
    "duration": 8,
    "start_time": "2024-10-18T03:02:43.115Z"
   },
   {
    "duration": 12,
    "start_time": "2024-10-18T03:02:51.756Z"
   },
   {
    "duration": 394,
    "start_time": "2024-10-18T03:05:21.730Z"
   },
   {
    "duration": 4,
    "start_time": "2024-10-18T03:05:30.204Z"
   },
   {
    "duration": 5,
    "start_time": "2024-10-18T03:08:21.705Z"
   },
   {
    "duration": 7,
    "start_time": "2024-10-18T03:08:39.525Z"
   },
   {
    "duration": 12,
    "start_time": "2024-10-18T03:09:00.303Z"
   },
   {
    "duration": 15,
    "start_time": "2024-10-18T03:09:15.559Z"
   },
   {
    "duration": 14,
    "start_time": "2024-10-18T03:09:21.743Z"
   },
   {
    "duration": 45,
    "start_time": "2024-10-18T03:10:04.888Z"
   },
   {
    "duration": 17,
    "start_time": "2024-10-18T03:10:13.422Z"
   },
   {
    "duration": 12,
    "start_time": "2024-10-18T03:10:36.572Z"
   },
   {
    "duration": 13,
    "start_time": "2024-10-18T03:12:48.923Z"
   },
   {
    "duration": 7,
    "start_time": "2024-10-18T03:12:55.862Z"
   },
   {
    "duration": 27,
    "start_time": "2024-10-18T03:14:32.236Z"
   },
   {
    "duration": 31,
    "start_time": "2024-10-18T03:14:57.623Z"
   },
   {
    "duration": 6,
    "start_time": "2024-10-18T03:24:32.494Z"
   },
   {
    "duration": 8,
    "start_time": "2024-10-18T03:25:01.990Z"
   },
   {
    "duration": 12,
    "start_time": "2024-10-18T03:25:15.340Z"
   },
   {
    "duration": 19,
    "start_time": "2024-10-18T03:26:26.113Z"
   },
   {
    "duration": 12,
    "start_time": "2024-10-18T03:27:28.165Z"
   },
   {
    "duration": 6,
    "start_time": "2024-10-18T03:28:02.424Z"
   },
   {
    "duration": 41,
    "start_time": "2024-10-18T03:29:04.086Z"
   },
   {
    "duration": 6,
    "start_time": "2024-10-18T03:29:26.237Z"
   },
   {
    "duration": 20,
    "start_time": "2024-10-18T03:35:15.955Z"
   },
   {
    "duration": 19,
    "start_time": "2024-10-18T03:36:00.574Z"
   },
   {
    "duration": 21,
    "start_time": "2024-10-18T03:36:08.841Z"
   },
   {
    "duration": 20,
    "start_time": "2024-10-18T03:38:26.359Z"
   },
   {
    "duration": 21,
    "start_time": "2024-10-18T03:38:36.721Z"
   },
   {
    "duration": 19,
    "start_time": "2024-10-18T03:39:52.296Z"
   },
   {
    "duration": 21,
    "start_time": "2024-10-18T03:40:06.268Z"
   },
   {
    "duration": 22,
    "start_time": "2024-10-18T03:40:12.953Z"
   },
   {
    "duration": 21,
    "start_time": "2024-10-18T03:40:22.283Z"
   },
   {
    "duration": 6,
    "start_time": "2024-10-18T03:41:49.685Z"
   },
   {
    "duration": 4,
    "start_time": "2024-10-18T03:41:56.213Z"
   },
   {
    "duration": 24,
    "start_time": "2024-10-18T03:42:08.466Z"
   },
   {
    "duration": 4,
    "start_time": "2024-10-18T03:47:54.353Z"
   },
   {
    "duration": 21,
    "start_time": "2024-10-18T03:47:59.501Z"
   },
   {
    "duration": 22,
    "start_time": "2024-10-18T03:48:15.364Z"
   },
   {
    "duration": 36,
    "start_time": "2024-10-18T03:50:46.452Z"
   },
   {
    "duration": 38,
    "start_time": "2024-10-18T03:51:02.836Z"
   },
   {
    "duration": 14,
    "start_time": "2024-10-18T03:53:00.192Z"
   },
   {
    "duration": 21,
    "start_time": "2024-10-18T03:53:15.945Z"
   },
   {
    "duration": 36,
    "start_time": "2024-10-18T03:54:47.395Z"
   },
   {
    "duration": 31,
    "start_time": "2024-10-18T03:55:03.082Z"
   },
   {
    "duration": 34,
    "start_time": "2024-10-18T03:55:54.674Z"
   },
   {
    "duration": 4,
    "start_time": "2024-10-18T04:04:57.822Z"
   },
   {
    "duration": 5,
    "start_time": "2024-10-18T04:05:20.546Z"
   },
   {
    "duration": 15,
    "start_time": "2024-10-18T04:05:23.467Z"
   },
   {
    "duration": 5,
    "start_time": "2024-10-18T04:05:39.986Z"
   },
   {
    "duration": 158,
    "start_time": "2024-10-18T04:13:03.175Z"
   },
   {
    "duration": 479,
    "start_time": "2024-10-18T04:14:00.374Z"
   },
   {
    "duration": 1055,
    "start_time": "2024-10-18T04:14:02.630Z"
   },
   {
    "duration": 2,
    "start_time": "2024-10-18T04:14:23.015Z"
   },
   {
    "duration": 906,
    "start_time": "2024-10-18T04:14:27.895Z"
   },
   {
    "duration": 18,
    "start_time": "2024-10-18T04:15:37.997Z"
   },
   {
    "duration": 15,
    "start_time": "2024-10-18T04:15:42.860Z"
   },
   {
    "duration": 12,
    "start_time": "2024-10-18T04:15:45.895Z"
   },
   {
    "duration": 11,
    "start_time": "2024-10-18T04:15:48.799Z"
   },
   {
    "duration": 11,
    "start_time": "2024-10-18T04:15:51.769Z"
   },
   {
    "duration": 185,
    "start_time": "2024-10-18T04:15:56.395Z"
   },
   {
    "duration": 15,
    "start_time": "2024-10-18T04:16:00.384Z"
   },
   {
    "duration": 101,
    "start_time": "2024-10-18T04:16:03.593Z"
   },
   {
    "duration": 79,
    "start_time": "2024-10-18T04:16:04.947Z"
   },
   {
    "duration": 60,
    "start_time": "2024-10-18T04:16:06.206Z"
   },
   {
    "duration": 12,
    "start_time": "2024-10-18T04:16:08.702Z"
   },
   {
    "duration": 7,
    "start_time": "2024-10-18T04:16:10.057Z"
   },
   {
    "duration": 20,
    "start_time": "2024-10-18T04:16:12.998Z"
   },
   {
    "duration": 20,
    "start_time": "2024-10-18T04:16:14.229Z"
   },
   {
    "duration": 4,
    "start_time": "2024-10-18T04:16:17.451Z"
   },
   {
    "duration": 4,
    "start_time": "2024-10-18T04:16:19.624Z"
   },
   {
    "duration": 4,
    "start_time": "2024-10-18T04:16:22.512Z"
   },
   {
    "duration": 5,
    "start_time": "2024-10-18T04:16:24.496Z"
   },
   {
    "duration": 761,
    "start_time": "2024-10-18T04:16:26.898Z"
   },
   {
    "duration": 1177,
    "start_time": "2024-10-18T04:16:29.333Z"
   },
   {
    "duration": 5,
    "start_time": "2024-10-18T04:16:34.676Z"
   },
   {
    "duration": 6,
    "start_time": "2024-10-18T04:16:36.455Z"
   },
   {
    "duration": 8,
    "start_time": "2024-10-18T04:16:38.633Z"
   },
   {
    "duration": 7,
    "start_time": "2024-10-18T04:16:41.560Z"
   },
   {
    "duration": 11,
    "start_time": "2024-10-18T04:16:44.006Z"
   },
   {
    "duration": 4,
    "start_time": "2024-10-18T04:16:46.281Z"
   },
   {
    "duration": 13,
    "start_time": "2024-10-18T04:16:47.448Z"
   },
   {
    "duration": 6,
    "start_time": "2024-10-18T04:16:56.595Z"
   },
   {
    "duration": 31,
    "start_time": "2024-10-18T04:16:59.004Z"
   },
   {
    "duration": 7,
    "start_time": "2024-10-18T04:17:01.661Z"
   },
   {
    "duration": 38,
    "start_time": "2024-10-18T04:17:03.136Z"
   },
   {
    "duration": 42,
    "start_time": "2024-10-18T04:17:07.440Z"
   },
   {
    "duration": 5,
    "start_time": "2024-10-18T04:17:13.735Z"
   },
   {
    "duration": 5,
    "start_time": "2024-10-18T04:17:17.592Z"
   },
   {
    "duration": 162,
    "start_time": "2024-10-18T04:22:23.812Z"
   },
   {
    "duration": 13,
    "start_time": "2024-10-18T04:22:27.429Z"
   },
   {
    "duration": 477,
    "start_time": "2024-10-18T04:24:20.527Z"
   },
   {
    "duration": 1052,
    "start_time": "2024-10-18T04:24:22.073Z"
   },
   {
    "duration": 18,
    "start_time": "2024-10-18T04:24:24.444Z"
   },
   {
    "duration": 16,
    "start_time": "2024-10-18T04:24:30.408Z"
   },
   {
    "duration": 12,
    "start_time": "2024-10-18T04:24:33.191Z"
   },
   {
    "duration": 12,
    "start_time": "2024-10-18T04:24:35.935Z"
   },
   {
    "duration": 11,
    "start_time": "2024-10-18T04:24:38.807Z"
   },
   {
    "duration": 202,
    "start_time": "2024-10-18T04:24:44.182Z"
   },
   {
    "duration": 12,
    "start_time": "2024-10-18T04:24:46.809Z"
   },
   {
    "duration": 110,
    "start_time": "2024-10-18T04:24:49.748Z"
   },
   {
    "duration": 90,
    "start_time": "2024-10-18T04:24:50.815Z"
   },
   {
    "duration": 71,
    "start_time": "2024-10-18T04:24:52.680Z"
   },
   {
    "duration": 13,
    "start_time": "2024-10-18T04:24:55.100Z"
   },
   {
    "duration": 7,
    "start_time": "2024-10-18T04:24:56.178Z"
   },
   {
    "duration": 20,
    "start_time": "2024-10-18T04:24:58.038Z"
   },
   {
    "duration": 22,
    "start_time": "2024-10-18T04:25:00.177Z"
   },
   {
    "duration": 4,
    "start_time": "2024-10-18T04:25:02.390Z"
   },
   {
    "duration": 5,
    "start_time": "2024-10-18T04:25:03.336Z"
   },
   {
    "duration": 4,
    "start_time": "2024-10-18T04:25:06.030Z"
   },
   {
    "duration": 5,
    "start_time": "2024-10-18T04:25:08.307Z"
   },
   {
    "duration": 801,
    "start_time": "2024-10-18T04:25:10.322Z"
   },
   {
    "duration": 1220,
    "start_time": "2024-10-18T04:25:13.911Z"
   },
   {
    "duration": 5,
    "start_time": "2024-10-18T04:25:20.583Z"
   },
   {
    "duration": 6,
    "start_time": "2024-10-18T04:25:22.474Z"
   },
   {
    "duration": 6,
    "start_time": "2024-10-18T04:25:24.776Z"
   },
   {
    "duration": 8,
    "start_time": "2024-10-18T04:25:27.008Z"
   },
   {
    "duration": 11,
    "start_time": "2024-10-18T04:25:29.162Z"
   },
   {
    "duration": 4,
    "start_time": "2024-10-18T04:25:31.700Z"
   },
   {
    "duration": 13,
    "start_time": "2024-10-18T04:25:33.479Z"
   },
   {
    "duration": 8,
    "start_time": "2024-10-18T04:25:35.972Z"
   },
   {
    "duration": 35,
    "start_time": "2024-10-18T04:25:37.315Z"
   },
   {
    "duration": 6,
    "start_time": "2024-10-18T04:25:39.603Z"
   },
   {
    "duration": 38,
    "start_time": "2024-10-18T04:25:40.880Z"
   },
   {
    "duration": 40,
    "start_time": "2024-10-18T04:25:43.783Z"
   },
   {
    "duration": 4,
    "start_time": "2024-10-18T04:25:50.828Z"
   },
   {
    "duration": 4,
    "start_time": "2024-10-18T04:25:55.122Z"
   },
   {
    "duration": 56,
    "start_time": "2024-10-18T04:26:27.133Z"
   },
   {
    "duration": 159,
    "start_time": "2024-10-18T04:28:56.143Z"
   },
   {
    "duration": 514,
    "start_time": "2024-10-18T04:29:48.580Z"
   },
   {
    "duration": 1055,
    "start_time": "2024-10-18T04:29:53.081Z"
   },
   {
    "duration": 18,
    "start_time": "2024-10-18T04:29:55.644Z"
   },
   {
    "duration": 14,
    "start_time": "2024-10-18T04:29:59.805Z"
   },
   {
    "duration": 12,
    "start_time": "2024-10-18T04:30:02.581Z"
   },
   {
    "duration": 13,
    "start_time": "2024-10-18T04:30:05.649Z"
   },
   {
    "duration": 12,
    "start_time": "2024-10-18T04:30:09.212Z"
   },
   {
    "duration": 203,
    "start_time": "2024-10-18T04:30:18.641Z"
   },
   {
    "duration": 12,
    "start_time": "2024-10-18T04:30:22.063Z"
   },
   {
    "duration": 120,
    "start_time": "2024-10-18T04:30:24.654Z"
   },
   {
    "duration": 96,
    "start_time": "2024-10-18T04:30:25.774Z"
   },
   {
    "duration": 79,
    "start_time": "2024-10-18T04:30:27.017Z"
   },
   {
    "duration": 15,
    "start_time": "2024-10-18T04:30:29.894Z"
   },
   {
    "duration": 7,
    "start_time": "2024-10-18T04:30:30.911Z"
   },
   {
    "duration": 23,
    "start_time": "2024-10-18T04:30:35.268Z"
   },
   {
    "duration": 29,
    "start_time": "2024-10-18T04:30:36.337Z"
   },
   {
    "duration": 4,
    "start_time": "2024-10-18T04:30:38.423Z"
   },
   {
    "duration": 4,
    "start_time": "2024-10-18T04:30:40.202Z"
   },
   {
    "duration": 4,
    "start_time": "2024-10-18T04:30:42.994Z"
   },
   {
    "duration": 6,
    "start_time": "2024-10-18T04:30:44.127Z"
   },
   {
    "duration": 805,
    "start_time": "2024-10-18T04:30:47.229Z"
   },
   {
    "duration": 1261,
    "start_time": "2024-10-18T04:30:49.420Z"
   },
   {
    "duration": 5,
    "start_time": "2024-10-18T04:30:54.733Z"
   },
   {
    "duration": 6,
    "start_time": "2024-10-18T04:30:55.879Z"
   },
   {
    "duration": 6,
    "start_time": "2024-10-18T04:30:58.792Z"
   },
   {
    "duration": 7,
    "start_time": "2024-10-18T04:31:01.020Z"
   },
   {
    "duration": 11,
    "start_time": "2024-10-18T04:31:03.219Z"
   },
   {
    "duration": 4,
    "start_time": "2024-10-18T04:31:05.692Z"
   },
   {
    "duration": 12,
    "start_time": "2024-10-18T04:31:06.728Z"
   },
   {
    "duration": 7,
    "start_time": "2024-10-18T04:31:09.007Z"
   },
   {
    "duration": 34,
    "start_time": "2024-10-18T04:31:17.331Z"
   },
   {
    "duration": 7,
    "start_time": "2024-10-18T04:31:19.570Z"
   },
   {
    "duration": 39,
    "start_time": "2024-10-18T04:31:20.629Z"
   },
   {
    "duration": 41,
    "start_time": "2024-10-18T04:31:23.913Z"
   },
   {
    "duration": 4,
    "start_time": "2024-10-18T04:31:27.429Z"
   },
   {
    "duration": 5,
    "start_time": "2024-10-18T04:31:28.542Z"
   },
   {
    "duration": 404,
    "start_time": "2024-10-18T04:34:32.750Z"
   },
   {
    "duration": 1075,
    "start_time": "2024-10-18T04:34:34.296Z"
   },
   {
    "duration": 19,
    "start_time": "2024-10-18T04:34:36.497Z"
   },
   {
    "duration": 17,
    "start_time": "2024-10-18T04:34:39.852Z"
   },
   {
    "duration": 11,
    "start_time": "2024-10-18T04:34:43.252Z"
   },
   {
    "duration": 13,
    "start_time": "2024-10-18T04:34:45.337Z"
   },
   {
    "duration": 13,
    "start_time": "2024-10-18T04:34:48.141Z"
   },
   {
    "duration": 197,
    "start_time": "2024-10-18T04:34:54.138Z"
   },
   {
    "duration": 14,
    "start_time": "2024-10-18T04:34:56.964Z"
   },
   {
    "duration": 117,
    "start_time": "2024-10-18T04:34:59.514Z"
   },
   {
    "duration": 88,
    "start_time": "2024-10-18T04:35:00.573Z"
   },
   {
    "duration": 73,
    "start_time": "2024-10-18T04:35:01.970Z"
   },
   {
    "duration": 14,
    "start_time": "2024-10-18T04:35:04.876Z"
   },
   {
    "duration": 6,
    "start_time": "2024-10-18T04:35:06.435Z"
   },
   {
    "duration": 25,
    "start_time": "2024-10-18T04:35:09.067Z"
   },
   {
    "duration": 22,
    "start_time": "2024-10-18T04:35:10.197Z"
   },
   {
    "duration": 4,
    "start_time": "2024-10-18T04:35:12.853Z"
   },
   {
    "duration": 4,
    "start_time": "2024-10-18T04:35:13.882Z"
   },
   {
    "duration": 4,
    "start_time": "2024-10-18T04:35:16.463Z"
   },
   {
    "duration": 5,
    "start_time": "2024-10-18T04:35:17.368Z"
   },
   {
    "duration": 758,
    "start_time": "2024-10-18T04:35:31.826Z"
   },
   {
    "duration": 1205,
    "start_time": "2024-10-18T04:35:33.652Z"
   },
   {
    "duration": 5,
    "start_time": "2024-10-18T04:35:38.844Z"
   },
   {
    "duration": 6,
    "start_time": "2024-10-18T04:35:40.104Z"
   },
   {
    "duration": 7,
    "start_time": "2024-10-18T04:35:42.786Z"
   },
   {
    "duration": 8,
    "start_time": "2024-10-18T04:35:45.286Z"
   },
   {
    "duration": 11,
    "start_time": "2024-10-18T04:35:48.716Z"
   },
   {
    "duration": 5,
    "start_time": "2024-10-18T04:35:51.595Z"
   },
   {
    "duration": 12,
    "start_time": "2024-10-18T04:35:54.044Z"
   },
   {
    "duration": 7,
    "start_time": "2024-10-18T04:35:56.799Z"
   },
   {
    "duration": 31,
    "start_time": "2024-10-18T04:35:57.982Z"
   },
   {
    "duration": 7,
    "start_time": "2024-10-18T04:36:00.001Z"
   },
   {
    "duration": 37,
    "start_time": "2024-10-18T04:36:00.984Z"
   },
   {
    "duration": 40,
    "start_time": "2024-10-18T04:36:03.969Z"
   },
   {
    "duration": 4,
    "start_time": "2024-10-18T04:36:10.580Z"
   },
   {
    "duration": 4,
    "start_time": "2024-10-18T04:36:12.171Z"
   },
   {
    "duration": 3,
    "start_time": "2024-10-18T04:42:58.649Z"
   },
   {
    "duration": 3,
    "start_time": "2024-10-18T04:43:00.721Z"
   },
   {
    "duration": 5,
    "start_time": "2024-10-18T04:43:11.032Z"
   },
   {
    "duration": 4,
    "start_time": "2024-10-18T04:43:26.928Z"
   },
   {
    "duration": 10,
    "start_time": "2024-10-18T04:44:00.295Z"
   },
   {
    "duration": 12,
    "start_time": "2024-10-18T04:44:07.668Z"
   },
   {
    "duration": 12,
    "start_time": "2024-10-18T04:44:31.959Z"
   },
   {
    "duration": 6,
    "start_time": "2024-10-18T04:44:54.966Z"
   },
   {
    "duration": 6,
    "start_time": "2024-10-18T04:45:02.546Z"
   },
   {
    "duration": 526,
    "start_time": "2024-10-18T04:50:20.201Z"
   },
   {
    "duration": 2,
    "start_time": "2024-10-18T04:50:37.148Z"
   },
   {
    "duration": 5,
    "start_time": "2024-10-18T04:50:47.160Z"
   },
   {
    "duration": 8,
    "start_time": "2024-10-18T04:51:16.649Z"
   },
   {
    "duration": 5,
    "start_time": "2024-10-18T04:51:26.432Z"
   },
   {
    "duration": 4,
    "start_time": "2024-10-18T04:51:35.388Z"
   },
   {
    "duration": 4,
    "start_time": "2024-10-18T04:51:41.005Z"
   },
   {
    "duration": 4,
    "start_time": "2024-10-18T04:52:54.823Z"
   },
   {
    "duration": 639,
    "start_time": "2024-10-18T05:03:57.118Z"
   },
   {
    "duration": 645,
    "start_time": "2024-10-18T05:04:34.320Z"
   },
   {
    "duration": 13,
    "start_time": "2024-10-18T05:06:43.206Z"
   },
   {
    "duration": 7,
    "start_time": "2024-10-18T05:06:59.632Z"
   },
   {
    "duration": 23,
    "start_time": "2024-10-18T05:07:10.228Z"
   },
   {
    "duration": 256,
    "start_time": "2024-10-18T05:07:32.672Z"
   },
   {
    "duration": 118,
    "start_time": "2024-10-18T05:07:45.954Z"
   },
   {
    "duration": 2121,
    "start_time": "2024-10-18T06:07:19.930Z"
   },
   {
    "duration": 1031,
    "start_time": "2024-10-18T06:07:25.369Z"
   },
   {
    "duration": 18,
    "start_time": "2024-10-18T06:07:29.223Z"
   },
   {
    "duration": 14,
    "start_time": "2024-10-18T06:07:33.969Z"
   },
   {
    "duration": 11,
    "start_time": "2024-10-18T06:07:39.701Z"
   },
   {
    "duration": 11,
    "start_time": "2024-10-18T06:07:42.950Z"
   },
   {
    "duration": 11,
    "start_time": "2024-10-18T06:07:48.546Z"
   },
   {
    "duration": 187,
    "start_time": "2024-10-18T06:07:53.328Z"
   },
   {
    "duration": 12,
    "start_time": "2024-10-18T06:07:56.839Z"
   },
   {
    "duration": 119,
    "start_time": "2024-10-18T06:08:00.043Z"
   },
   {
    "duration": 95,
    "start_time": "2024-10-18T06:08:01.230Z"
   },
   {
    "duration": 74,
    "start_time": "2024-10-18T06:08:02.523Z"
   },
   {
    "duration": 13,
    "start_time": "2024-10-18T06:08:06.980Z"
   },
   {
    "duration": 6,
    "start_time": "2024-10-18T06:08:08.179Z"
   },
   {
    "duration": 20,
    "start_time": "2024-10-18T06:08:11.283Z"
   },
   {
    "duration": 20,
    "start_time": "2024-10-18T06:08:12.562Z"
   },
   {
    "duration": 3,
    "start_time": "2024-10-18T06:08:15.630Z"
   },
   {
    "duration": 3,
    "start_time": "2024-10-18T06:08:16.687Z"
   },
   {
    "duration": 4,
    "start_time": "2024-10-18T06:08:20.043Z"
   },
   {
    "duration": 4,
    "start_time": "2024-10-18T06:08:21.042Z"
   },
   {
    "duration": 798,
    "start_time": "2024-10-18T06:08:24.064Z"
   },
   {
    "duration": 1238,
    "start_time": "2024-10-18T06:08:26.231Z"
   },
   {
    "duration": 5,
    "start_time": "2024-10-18T06:08:32.579Z"
   },
   {
    "duration": 7,
    "start_time": "2024-10-18T06:08:34.449Z"
   },
   {
    "duration": 6,
    "start_time": "2024-10-18T06:08:36.847Z"
   },
   {
    "duration": 8,
    "start_time": "2024-10-18T06:08:39.204Z"
   },
   {
    "duration": 11,
    "start_time": "2024-10-18T06:08:41.690Z"
   },
   {
    "duration": 3,
    "start_time": "2024-10-18T06:08:45.118Z"
   },
   {
    "duration": 11,
    "start_time": "2024-10-18T06:08:47.613Z"
   },
   {
    "duration": 8,
    "start_time": "2024-10-18T06:08:49.510Z"
   },
   {
    "duration": 33,
    "start_time": "2024-10-18T06:08:51.183Z"
   },
   {
    "duration": 7,
    "start_time": "2024-10-18T06:08:53.577Z"
   },
   {
    "duration": 38,
    "start_time": "2024-10-18T06:08:55.607Z"
   },
   {
    "duration": 38,
    "start_time": "2024-10-18T06:08:58.739Z"
   },
   {
    "duration": 4,
    "start_time": "2024-10-18T06:09:04.313Z"
   },
   {
    "duration": 4,
    "start_time": "2024-10-18T06:09:06.464Z"
   },
   {
    "duration": 466,
    "start_time": "2024-10-18T06:13:27.550Z"
   },
   {
    "duration": 1035,
    "start_time": "2024-10-18T06:13:28.952Z"
   },
   {
    "duration": 18,
    "start_time": "2024-10-18T06:13:30.199Z"
   },
   {
    "duration": 15,
    "start_time": "2024-10-18T06:13:31.464Z"
   },
   {
    "duration": 12,
    "start_time": "2024-10-18T06:13:32.623Z"
   },
   {
    "duration": 12,
    "start_time": "2024-10-18T06:13:33.609Z"
   },
   {
    "duration": 11,
    "start_time": "2024-10-18T06:13:34.468Z"
   },
   {
    "duration": 206,
    "start_time": "2024-10-18T06:13:39.725Z"
   },
   {
    "duration": 11,
    "start_time": "2024-10-18T06:13:42.213Z"
   },
   {
    "duration": 113,
    "start_time": "2024-10-18T06:13:44.018Z"
   },
   {
    "duration": 90,
    "start_time": "2024-10-18T06:13:44.928Z"
   },
   {
    "duration": 72,
    "start_time": "2024-10-18T06:13:45.845Z"
   },
   {
    "duration": 13,
    "start_time": "2024-10-18T06:13:48.895Z"
   },
   {
    "duration": 7,
    "start_time": "2024-10-18T06:13:49.804Z"
   },
   {
    "duration": 20,
    "start_time": "2024-10-18T06:13:50.664Z"
   },
   {
    "duration": 18,
    "start_time": "2024-10-18T06:13:51.676Z"
   },
   {
    "duration": 4,
    "start_time": "2024-10-18T06:13:54.178Z"
   },
   {
    "duration": 4,
    "start_time": "2024-10-18T06:13:54.882Z"
   },
   {
    "duration": 4,
    "start_time": "2024-10-18T06:13:56.988Z"
   },
   {
    "duration": 5,
    "start_time": "2024-10-18T06:13:57.625Z"
   },
   {
    "duration": 766,
    "start_time": "2024-10-18T06:13:59.678Z"
   },
   {
    "duration": 1195,
    "start_time": "2024-10-18T06:14:00.447Z"
   },
   {
    "duration": 5,
    "start_time": "2024-10-18T06:14:03.445Z"
   },
   {
    "duration": 6,
    "start_time": "2024-10-18T06:14:04.978Z"
   },
   {
    "duration": 6,
    "start_time": "2024-10-18T06:14:06.406Z"
   },
   {
    "duration": 9,
    "start_time": "2024-10-18T06:14:07.915Z"
   },
   {
    "duration": 11,
    "start_time": "2024-10-18T06:14:09.446Z"
   },
   {
    "duration": 3,
    "start_time": "2024-10-18T06:14:11.499Z"
   },
   {
    "duration": 12,
    "start_time": "2024-10-18T06:14:12.169Z"
   },
   {
    "duration": 7,
    "start_time": "2024-10-18T06:14:14.059Z"
   },
   {
    "duration": 31,
    "start_time": "2024-10-18T06:14:14.754Z"
   },
   {
    "duration": 6,
    "start_time": "2024-10-18T06:14:16.480Z"
   },
   {
    "duration": 39,
    "start_time": "2024-10-18T06:14:17.558Z"
   },
   {
    "duration": 40,
    "start_time": "2024-10-18T06:14:18.971Z"
   },
   {
    "duration": 3,
    "start_time": "2024-10-18T06:14:22.972Z"
   },
   {
    "duration": 4,
    "start_time": "2024-10-18T06:14:23.785Z"
   },
   {
    "duration": 452,
    "start_time": "2024-10-18T06:21:44.644Z"
   },
   {
    "duration": 1015,
    "start_time": "2024-10-18T06:21:52.051Z"
   },
   {
    "duration": 18,
    "start_time": "2024-10-18T06:21:53.911Z"
   },
   {
    "duration": 14,
    "start_time": "2024-10-18T06:21:58.052Z"
   },
   {
    "duration": 11,
    "start_time": "2024-10-18T06:22:01.883Z"
   },
   {
    "duration": 11,
    "start_time": "2024-10-18T06:22:04.472Z"
   },
   {
    "duration": 12,
    "start_time": "2024-10-18T06:22:06.999Z"
   },
   {
    "duration": 202,
    "start_time": "2024-10-18T06:22:11.774Z"
   },
   {
    "duration": 11,
    "start_time": "2024-10-18T06:22:14.876Z"
   },
   {
    "duration": 110,
    "start_time": "2024-10-18T06:22:18.135Z"
   },
   {
    "duration": 89,
    "start_time": "2024-10-18T06:22:19.396Z"
   },
   {
    "duration": 73,
    "start_time": "2024-10-18T06:22:20.519Z"
   },
   {
    "duration": 11,
    "start_time": "2024-10-18T06:22:23.206Z"
   },
   {
    "duration": 7,
    "start_time": "2024-10-18T06:22:24.142Z"
   },
   {
    "duration": 21,
    "start_time": "2024-10-18T06:22:26.129Z"
   },
   {
    "duration": 19,
    "start_time": "2024-10-18T06:22:27.204Z"
   },
   {
    "duration": 4,
    "start_time": "2024-10-18T06:22:29.924Z"
   },
   {
    "duration": 4,
    "start_time": "2024-10-18T06:22:30.889Z"
   },
   {
    "duration": 4,
    "start_time": "2024-10-18T06:22:33.184Z"
   },
   {
    "duration": 5,
    "start_time": "2024-10-18T06:22:34.142Z"
   },
   {
    "duration": 760,
    "start_time": "2024-10-18T06:22:36.649Z"
   },
   {
    "duration": 1177,
    "start_time": "2024-10-18T06:22:38.544Z"
   },
   {
    "duration": 6,
    "start_time": "2024-10-18T06:22:43.684Z"
   },
   {
    "duration": 7,
    "start_time": "2024-10-18T06:22:45.348Z"
   },
   {
    "duration": 6,
    "start_time": "2024-10-18T06:22:47.542Z"
   },
   {
    "duration": 7,
    "start_time": "2024-10-18T06:22:50.129Z"
   },
   {
    "duration": 11,
    "start_time": "2024-10-18T06:22:52.690Z"
   },
   {
    "duration": 3,
    "start_time": "2024-10-18T06:22:55.037Z"
   },
   {
    "duration": 12,
    "start_time": "2024-10-18T06:22:56.757Z"
   },
   {
    "duration": 7,
    "start_time": "2024-10-18T06:23:00.509Z"
   },
   {
    "duration": 32,
    "start_time": "2024-10-18T06:23:01.726Z"
   },
   {
    "duration": 5,
    "start_time": "2024-10-18T06:23:05.822Z"
   },
   {
    "duration": 48,
    "start_time": "2024-10-18T06:23:07.934Z"
   },
   {
    "duration": 41,
    "start_time": "2024-10-18T06:23:11.660Z"
   },
   {
    "duration": 4,
    "start_time": "2024-10-18T06:23:16.894Z"
   },
   {
    "duration": 4,
    "start_time": "2024-10-18T06:23:19.073Z"
   },
   {
    "duration": 6,
    "start_time": "2024-10-18T06:23:29.398Z"
   },
   {
    "duration": 5,
    "start_time": "2024-10-18T06:23:32.506Z"
   },
   {
    "duration": 6,
    "start_time": "2024-10-18T06:23:37.929Z"
   },
   {
    "duration": 642,
    "start_time": "2024-10-18T06:23:46.576Z"
   },
   {
    "duration": 906,
    "start_time": "2024-10-18T06:25:41.784Z"
   },
   {
    "duration": 323,
    "start_time": "2024-10-18T06:27:07.523Z"
   },
   {
    "duration": 177,
    "start_time": "2024-10-18T06:28:04.272Z"
   },
   {
    "duration": 101,
    "start_time": "2024-10-18T06:28:22.568Z"
   },
   {
    "duration": 656,
    "start_time": "2024-10-18T06:30:30.521Z"
   },
   {
    "duration": 512,
    "start_time": "2024-10-18T06:30:52.582Z"
   },
   {
    "duration": 626,
    "start_time": "2024-10-18T06:31:06.336Z"
   },
   {
    "duration": 612,
    "start_time": "2024-10-18T06:31:23.510Z"
   },
   {
    "duration": 645,
    "start_time": "2024-10-18T06:31:37.276Z"
   },
   {
    "duration": 621,
    "start_time": "2024-10-18T06:31:54.642Z"
   },
   {
    "duration": 430,
    "start_time": "2024-10-18T06:32:29.871Z"
   },
   {
    "duration": 1039,
    "start_time": "2024-10-18T06:32:30.442Z"
   },
   {
    "duration": 18,
    "start_time": "2024-10-18T06:32:31.483Z"
   },
   {
    "duration": 14,
    "start_time": "2024-10-18T06:32:31.703Z"
   },
   {
    "duration": 12,
    "start_time": "2024-10-18T06:32:32.584Z"
   },
   {
    "duration": 12,
    "start_time": "2024-10-18T06:32:33.272Z"
   },
   {
    "duration": 11,
    "start_time": "2024-10-18T06:32:33.935Z"
   },
   {
    "duration": 190,
    "start_time": "2024-10-18T06:32:38.179Z"
   },
   {
    "duration": 12,
    "start_time": "2024-10-18T06:32:40.990Z"
   },
   {
    "duration": 107,
    "start_time": "2024-10-18T06:32:42.544Z"
   },
   {
    "duration": 88,
    "start_time": "2024-10-18T06:32:43.477Z"
   },
   {
    "duration": 75,
    "start_time": "2024-10-18T06:32:44.299Z"
   },
   {
    "duration": 12,
    "start_time": "2024-10-18T06:32:46.710Z"
   },
   {
    "duration": 7,
    "start_time": "2024-10-18T06:32:47.509Z"
   },
   {
    "duration": 21,
    "start_time": "2024-10-18T06:32:48.452Z"
   },
   {
    "duration": 19,
    "start_time": "2024-10-18T06:32:49.291Z"
   },
   {
    "duration": 4,
    "start_time": "2024-10-18T06:32:51.663Z"
   },
   {
    "duration": 4,
    "start_time": "2024-10-18T06:32:52.413Z"
   },
   {
    "duration": 4,
    "start_time": "2024-10-18T06:32:54.554Z"
   },
   {
    "duration": 5,
    "start_time": "2024-10-18T06:32:55.349Z"
   },
   {
    "duration": 765,
    "start_time": "2024-10-18T06:32:57.437Z"
   },
   {
    "duration": 1182,
    "start_time": "2024-10-18T06:32:58.203Z"
   },
   {
    "duration": 5,
    "start_time": "2024-10-18T06:33:00.112Z"
   },
   {
    "duration": 6,
    "start_time": "2024-10-18T06:33:01.349Z"
   },
   {
    "duration": 6,
    "start_time": "2024-10-18T06:33:02.696Z"
   },
   {
    "duration": 7,
    "start_time": "2024-10-18T06:33:04.220Z"
   },
   {
    "duration": 12,
    "start_time": "2024-10-18T06:33:05.617Z"
   },
   {
    "duration": 3,
    "start_time": "2024-10-18T06:33:07.607Z"
   },
   {
    "duration": 12,
    "start_time": "2024-10-18T06:33:08.179Z"
   },
   {
    "duration": 7,
    "start_time": "2024-10-18T06:33:10.102Z"
   },
   {
    "duration": 35,
    "start_time": "2024-10-18T06:33:10.704Z"
   },
   {
    "duration": 7,
    "start_time": "2024-10-18T06:33:11.966Z"
   },
   {
    "duration": 38,
    "start_time": "2024-10-18T06:33:12.988Z"
   },
   {
    "duration": 39,
    "start_time": "2024-10-18T06:33:14.602Z"
   },
   {
    "duration": 4,
    "start_time": "2024-10-18T06:33:21.026Z"
   },
   {
    "duration": 4,
    "start_time": "2024-10-18T06:33:21.925Z"
   },
   {
    "duration": 6,
    "start_time": "2024-10-18T06:33:31.082Z"
   },
   {
    "duration": 6,
    "start_time": "2024-10-18T06:33:32.423Z"
   },
   {
    "duration": 5,
    "start_time": "2024-10-18T06:33:37.738Z"
   },
   {
    "duration": 185,
    "start_time": "2024-10-18T06:37:21.305Z"
   },
   {
    "duration": 623,
    "start_time": "2024-10-18T06:37:39.397Z"
   },
   {
    "duration": 14,
    "start_time": "2024-10-18T06:37:45.965Z"
   },
   {
    "duration": 255,
    "start_time": "2024-10-18T06:37:56.960Z"
   },
   {
    "duration": 264,
    "start_time": "2024-10-18T06:38:58.051Z"
   },
   {
    "duration": 254,
    "start_time": "2024-10-18T06:39:12.767Z"
   },
   {
    "duration": 7,
    "start_time": "2024-10-18T06:40:11.602Z"
   },
   {
    "duration": 541,
    "start_time": "2024-10-18T06:40:51.115Z"
   },
   {
    "duration": 5,
    "start_time": "2024-10-18T06:41:24.495Z"
   },
   {
    "duration": 274,
    "start_time": "2024-10-18T06:41:39.413Z"
   },
   {
    "duration": 79,
    "start_time": "2024-10-18T06:41:59.363Z"
   },
   {
    "duration": 77,
    "start_time": "2024-10-18T06:42:16.717Z"
   },
   {
    "duration": 75,
    "start_time": "2024-10-18T06:42:29.416Z"
   },
   {
    "duration": 285,
    "start_time": "2024-10-18T06:42:35.754Z"
   },
   {
    "duration": 257,
    "start_time": "2024-10-18T06:43:02.545Z"
   },
   {
    "duration": 246,
    "start_time": "2024-10-18T06:43:20.419Z"
   },
   {
    "duration": 662,
    "start_time": "2024-10-18T06:44:06.286Z"
   },
   {
    "duration": 698,
    "start_time": "2024-10-18T06:44:44.994Z"
   },
   {
    "duration": 51,
    "start_time": "2024-10-18T06:45:25.897Z"
   },
   {
    "duration": 273,
    "start_time": "2024-10-18T06:46:09.938Z"
   },
   {
    "duration": 274,
    "start_time": "2024-10-18T06:46:42.178Z"
   },
   {
    "duration": 270,
    "start_time": "2024-10-18T06:47:22.594Z"
   },
   {
    "duration": 256,
    "start_time": "2024-10-18T06:47:44.664Z"
   },
   {
    "duration": 476,
    "start_time": "2024-10-18T06:49:03.108Z"
   },
   {
    "duration": 304,
    "start_time": "2024-10-18T06:49:28.240Z"
   },
   {
    "duration": 304,
    "start_time": "2024-10-18T06:50:51.781Z"
   },
   {
    "duration": 302,
    "start_time": "2024-10-18T06:51:15.042Z"
   },
   {
    "duration": 39,
    "start_time": "2024-10-18T06:51:43.215Z"
   },
   {
    "duration": 293,
    "start_time": "2024-10-18T06:52:12.320Z"
   },
   {
    "duration": 2115,
    "start_time": "2024-10-18T18:31:51.763Z"
   },
   {
    "duration": 1055,
    "start_time": "2024-10-18T18:31:55.976Z"
   },
   {
    "duration": 19,
    "start_time": "2024-10-18T18:32:12.237Z"
   },
   {
    "duration": 13,
    "start_time": "2024-10-18T18:32:22.217Z"
   },
   {
    "duration": 12,
    "start_time": "2024-10-18T18:32:45.738Z"
   },
   {
    "duration": 11,
    "start_time": "2024-10-18T18:32:51.296Z"
   },
   {
    "duration": 10,
    "start_time": "2024-10-18T18:32:58.646Z"
   },
   {
    "duration": 181,
    "start_time": "2024-10-18T18:35:26.045Z"
   },
   {
    "duration": 15,
    "start_time": "2024-10-18T18:35:51.768Z"
   },
   {
    "duration": 8,
    "start_time": "2024-10-18T18:36:36.748Z"
   },
   {
    "duration": 12,
    "start_time": "2024-10-18T18:36:49.568Z"
   },
   {
    "duration": 9,
    "start_time": "2024-10-18T18:36:57.553Z"
   },
   {
    "duration": 6,
    "start_time": "2024-10-18T18:38:47.457Z"
   },
   {
    "duration": 9,
    "start_time": "2024-10-18T18:38:59.420Z"
   },
   {
    "duration": 106,
    "start_time": "2024-10-18T18:40:35.314Z"
   },
   {
    "duration": 84,
    "start_time": "2024-10-18T18:40:40.057Z"
   },
   {
    "duration": 73,
    "start_time": "2024-10-18T18:40:46.044Z"
   },
   {
    "duration": 156,
    "start_time": "2024-10-18T18:41:12.496Z"
   },
   {
    "duration": 77,
    "start_time": "2024-10-18T18:41:19.978Z"
   },
   {
    "duration": 78,
    "start_time": "2024-10-18T18:41:28.465Z"
   },
   {
    "duration": 74,
    "start_time": "2024-10-18T18:41:40.906Z"
   },
   {
    "duration": 17,
    "start_time": "2024-10-18T18:42:27.729Z"
   },
   {
    "duration": 7,
    "start_time": "2024-10-18T18:42:53.557Z"
   },
   {
    "duration": 20,
    "start_time": "2024-10-18T18:43:35.210Z"
   },
   {
    "duration": 21,
    "start_time": "2024-10-18T18:43:43.619Z"
   },
   {
    "duration": 3,
    "start_time": "2024-10-18T18:44:56.493Z"
   },
   {
    "duration": 4,
    "start_time": "2024-10-18T18:45:01.405Z"
   },
   {
    "duration": 3,
    "start_time": "2024-10-18T18:45:09.019Z"
   },
   {
    "duration": 5,
    "start_time": "2024-10-18T18:45:11.045Z"
   },
   {
    "duration": 4,
    "start_time": "2024-10-18T18:45:22.927Z"
   },
   {
    "duration": 777,
    "start_time": "2024-10-18T18:45:38.915Z"
   },
   {
    "duration": 1197,
    "start_time": "2024-10-18T18:45:48.999Z"
   },
   {
    "duration": 5,
    "start_time": "2024-10-18T18:46:45.199Z"
   },
   {
    "duration": 6,
    "start_time": "2024-10-18T18:46:53.935Z"
   },
   {
    "duration": 6,
    "start_time": "2024-10-18T18:47:15.181Z"
   },
   {
    "duration": 8,
    "start_time": "2024-10-18T18:47:23.419Z"
   },
   {
    "duration": 10,
    "start_time": "2024-10-18T18:47:33.170Z"
   },
   {
    "duration": 4,
    "start_time": "2024-10-18T18:47:42.509Z"
   },
   {
    "duration": 12,
    "start_time": "2024-10-18T18:47:46.402Z"
   },
   {
    "duration": 7,
    "start_time": "2024-10-18T18:48:07.505Z"
   },
   {
    "duration": 33,
    "start_time": "2024-10-18T18:48:10.292Z"
   },
   {
    "duration": 6,
    "start_time": "2024-10-18T18:48:14.887Z"
   },
   {
    "duration": 38,
    "start_time": "2024-10-18T18:48:38.295Z"
   },
   {
    "duration": 38,
    "start_time": "2024-10-18T18:49:49.552Z"
   },
   {
    "duration": 4,
    "start_time": "2024-10-18T18:50:08.149Z"
   },
   {
    "duration": 4,
    "start_time": "2024-10-18T18:50:12.834Z"
   },
   {
    "duration": 452,
    "start_time": "2024-10-18T19:20:29.265Z"
   },
   {
    "duration": 1030,
    "start_time": "2024-10-18T19:20:33.997Z"
   },
   {
    "duration": 18,
    "start_time": "2024-10-18T19:20:36.264Z"
   },
   {
    "duration": 13,
    "start_time": "2024-10-18T19:20:40.366Z"
   },
   {
    "duration": 11,
    "start_time": "2024-10-18T19:20:44.117Z"
   },
   {
    "duration": 11,
    "start_time": "2024-10-18T19:20:47.015Z"
   },
   {
    "duration": 11,
    "start_time": "2024-10-18T19:20:49.717Z"
   },
   {
    "duration": 192,
    "start_time": "2024-10-18T19:20:55.948Z"
   },
   {
    "duration": 14,
    "start_time": "2024-10-18T19:20:59.376Z"
   },
   {
    "duration": 105,
    "start_time": "2024-10-18T19:21:03.144Z"
   },
   {
    "duration": 90,
    "start_time": "2024-10-18T19:21:04.154Z"
   },
   {
    "duration": 81,
    "start_time": "2024-10-18T19:21:05.972Z"
   },
   {
    "duration": 12,
    "start_time": "2024-10-18T19:21:08.947Z"
   },
   {
    "duration": 7,
    "start_time": "2024-10-18T19:21:10.755Z"
   },
   {
    "duration": 20,
    "start_time": "2024-10-18T19:21:13.197Z"
   },
   {
    "duration": 18,
    "start_time": "2024-10-18T19:21:15.188Z"
   },
   {
    "duration": 3,
    "start_time": "2024-10-18T19:21:17.759Z"
   },
   {
    "duration": 4,
    "start_time": "2024-10-18T19:21:20.173Z"
   },
   {
    "duration": 4,
    "start_time": "2024-10-18T19:21:23.095Z"
   },
   {
    "duration": 6,
    "start_time": "2024-10-18T19:21:25.446Z"
   },
   {
    "duration": 830,
    "start_time": "2024-10-18T19:21:27.751Z"
   },
   {
    "duration": 1260,
    "start_time": "2024-10-18T19:21:29.934Z"
   },
   {
    "duration": 5,
    "start_time": "2024-10-18T19:21:35.027Z"
   },
   {
    "duration": 6,
    "start_time": "2024-10-18T19:21:36.987Z"
   },
   {
    "duration": 5,
    "start_time": "2024-10-18T19:21:39.459Z"
   },
   {
    "duration": 8,
    "start_time": "2024-10-18T19:21:42.018Z"
   },
   {
    "duration": 11,
    "start_time": "2024-10-18T19:21:44.533Z"
   },
   {
    "duration": 3,
    "start_time": "2024-10-18T19:21:47.323Z"
   },
   {
    "duration": 12,
    "start_time": "2024-10-18T19:21:49.439Z"
   },
   {
    "duration": 7,
    "start_time": "2024-10-18T19:21:51.922Z"
   },
   {
    "duration": 31,
    "start_time": "2024-10-18T19:21:54.575Z"
   },
   {
    "duration": 6,
    "start_time": "2024-10-18T19:21:58.307Z"
   },
   {
    "duration": 38,
    "start_time": "2024-10-18T19:22:00.045Z"
   },
   {
    "duration": 33,
    "start_time": "2024-10-18T19:22:04.891Z"
   },
   {
    "duration": 5,
    "start_time": "2024-10-18T19:22:10.371Z"
   },
   {
    "duration": 4,
    "start_time": "2024-10-18T19:22:12.486Z"
   },
   {
    "duration": 403,
    "start_time": "2024-10-18T19:51:09.056Z"
   },
   {
    "duration": 910,
    "start_time": "2024-10-18T19:51:09.461Z"
   },
   {
    "duration": 18,
    "start_time": "2024-10-18T19:51:10.373Z"
   },
   {
    "duration": 13,
    "start_time": "2024-10-18T19:51:10.395Z"
   },
   {
    "duration": 10,
    "start_time": "2024-10-18T19:51:10.410Z"
   },
   {
    "duration": 10,
    "start_time": "2024-10-18T19:51:10.423Z"
   },
   {
    "duration": 41,
    "start_time": "2024-10-18T19:51:10.435Z"
   },
   {
    "duration": 198,
    "start_time": "2024-10-18T19:51:10.477Z"
   },
   {
    "duration": 11,
    "start_time": "2024-10-18T19:51:10.677Z"
   },
   {
    "duration": 118,
    "start_time": "2024-10-18T19:51:10.691Z"
   },
   {
    "duration": 87,
    "start_time": "2024-10-18T19:51:10.811Z"
   },
   {
    "duration": 81,
    "start_time": "2024-10-18T19:51:10.900Z"
   },
   {
    "duration": 11,
    "start_time": "2024-10-18T19:51:10.983Z"
   },
   {
    "duration": 7,
    "start_time": "2024-10-18T19:51:10.996Z"
   },
   {
    "duration": 18,
    "start_time": "2024-10-18T19:51:11.005Z"
   },
   {
    "duration": 16,
    "start_time": "2024-10-18T19:51:11.025Z"
   },
   {
    "duration": 4,
    "start_time": "2024-10-18T19:51:11.070Z"
   },
   {
    "duration": 4,
    "start_time": "2024-10-18T19:51:11.075Z"
   },
   {
    "duration": 3,
    "start_time": "2024-10-18T19:51:11.081Z"
   },
   {
    "duration": 5,
    "start_time": "2024-10-18T19:51:11.086Z"
   },
   {
    "duration": 806,
    "start_time": "2024-10-18T19:51:11.092Z"
   },
   {
    "duration": 1195,
    "start_time": "2024-10-18T19:51:11.899Z"
   },
   {
    "duration": 5,
    "start_time": "2024-10-18T19:51:13.096Z"
   },
   {
    "duration": 5,
    "start_time": "2024-10-18T19:51:13.103Z"
   },
   {
    "duration": 5,
    "start_time": "2024-10-18T19:51:13.110Z"
   },
   {
    "duration": 6,
    "start_time": "2024-10-18T19:51:13.117Z"
   },
   {
    "duration": 9,
    "start_time": "2024-10-18T19:51:13.125Z"
   },
   {
    "duration": 3,
    "start_time": "2024-10-18T19:51:13.171Z"
   },
   {
    "duration": 11,
    "start_time": "2024-10-18T19:51:13.176Z"
   },
   {
    "duration": 6,
    "start_time": "2024-10-18T19:51:13.189Z"
   },
   {
    "duration": 32,
    "start_time": "2024-10-18T19:51:13.197Z"
   },
   {
    "duration": 5,
    "start_time": "2024-10-18T19:51:13.231Z"
   },
   {
    "duration": 40,
    "start_time": "2024-10-18T19:51:13.270Z"
   },
   {
    "duration": 33,
    "start_time": "2024-10-18T19:51:13.312Z"
   },
   {
    "duration": 23,
    "start_time": "2024-10-18T19:51:13.347Z"
   },
   {
    "duration": 4,
    "start_time": "2024-10-18T19:51:13.372Z"
   },
   {
    "duration": 444,
    "start_time": "2024-10-18T20:25:49.971Z"
   },
   {
    "duration": 1078,
    "start_time": "2024-10-18T20:25:51.245Z"
   },
   {
    "duration": 18,
    "start_time": "2024-10-18T20:25:53.506Z"
   },
   {
    "duration": 14,
    "start_time": "2024-10-18T20:25:56.557Z"
   },
   {
    "duration": 11,
    "start_time": "2024-10-18T20:25:58.914Z"
   },
   {
    "duration": 13,
    "start_time": "2024-10-18T20:26:02.044Z"
   },
   {
    "duration": 11,
    "start_time": "2024-10-18T20:26:03.937Z"
   },
   {
    "duration": 198,
    "start_time": "2024-10-18T20:26:09.986Z"
   },
   {
    "duration": 11,
    "start_time": "2024-10-18T20:26:12.660Z"
   },
   {
    "duration": 109,
    "start_time": "2024-10-18T20:26:15.723Z"
   },
   {
    "duration": 97,
    "start_time": "2024-10-18T20:26:16.823Z"
   },
   {
    "duration": 83,
    "start_time": "2024-10-18T20:26:18.215Z"
   },
   {
    "duration": 12,
    "start_time": "2024-10-18T20:26:20.733Z"
   },
   {
    "duration": 8,
    "start_time": "2024-10-18T20:26:21.677Z"
   },
   {
    "duration": 19,
    "start_time": "2024-10-18T20:26:24.751Z"
   },
   {
    "duration": 19,
    "start_time": "2024-10-18T20:26:25.821Z"
   },
   {
    "duration": 4,
    "start_time": "2024-10-18T20:26:27.862Z"
   },
   {
    "duration": 4,
    "start_time": "2024-10-18T20:26:28.808Z"
   },
   {
    "duration": 4,
    "start_time": "2024-10-18T20:26:31.810Z"
   },
   {
    "duration": 4,
    "start_time": "2024-10-18T20:26:32.950Z"
   },
   {
    "duration": 779,
    "start_time": "2024-10-18T20:26:35.679Z"
   },
   {
    "duration": 1227,
    "start_time": "2024-10-18T20:26:37.920Z"
   },
   {
    "duration": 5,
    "start_time": "2024-10-18T20:26:42.759Z"
   },
   {
    "duration": 6,
    "start_time": "2024-10-18T20:26:44.415Z"
   },
   {
    "duration": 6,
    "start_time": "2024-10-18T20:26:47.247Z"
   },
   {
    "duration": 7,
    "start_time": "2024-10-18T20:26:49.273Z"
   },
   {
    "duration": 15,
    "start_time": "2024-10-18T20:26:51.592Z"
   },
   {
    "duration": 3,
    "start_time": "2024-10-18T20:26:53.588Z"
   },
   {
    "duration": 12,
    "start_time": "2024-10-18T20:26:55.349Z"
   },
   {
    "duration": 7,
    "start_time": "2024-10-18T20:26:57.724Z"
   },
   {
    "duration": 33,
    "start_time": "2024-10-18T20:26:58.915Z"
   },
   {
    "duration": 6,
    "start_time": "2024-10-18T20:27:02.185Z"
   },
   {
    "duration": 38,
    "start_time": "2024-10-18T20:27:05.054Z"
   },
   {
    "duration": 39,
    "start_time": "2024-10-18T20:27:08.639Z"
   },
   {
    "duration": 5,
    "start_time": "2024-10-18T20:27:12.115Z"
   },
   {
    "duration": 5,
    "start_time": "2024-10-18T20:27:14.828Z"
   },
   {
    "duration": 6,
    "start_time": "2024-10-18T20:27:22.205Z"
   },
   {
    "duration": 6,
    "start_time": "2024-10-18T20:27:23.755Z"
   },
   {
    "duration": 4,
    "start_time": "2024-10-18T20:27:41.892Z"
   },
   {
    "duration": 672,
    "start_time": "2024-10-18T20:28:11.265Z"
   },
   {
    "duration": 302,
    "start_time": "2024-10-18T20:28:17.733Z"
   },
   {
    "duration": 556,
    "start_time": "2024-10-18T20:29:11.885Z"
   },
   {
    "duration": 112,
    "start_time": "2024-10-18T20:29:28.676Z"
   },
   {
    "duration": 122,
    "start_time": "2024-10-18T20:30:15.164Z"
   },
   {
    "duration": 131,
    "start_time": "2024-10-18T20:30:39.197Z"
   },
   {
    "duration": 55,
    "start_time": "2024-10-18T20:30:51.243Z"
   },
   {
    "duration": 304,
    "start_time": "2024-10-18T20:31:31.460Z"
   },
   {
    "duration": 294,
    "start_time": "2024-10-18T20:31:42.379Z"
   },
   {
    "duration": 14,
    "start_time": "2024-10-18T20:33:21.024Z"
   },
   {
    "duration": 12,
    "start_time": "2024-10-18T20:33:37.215Z"
   },
   {
    "duration": 4,
    "start_time": "2024-10-18T20:34:36.926Z"
   },
   {
    "duration": 11,
    "start_time": "2024-10-18T20:34:51.766Z"
   },
   {
    "duration": 15,
    "start_time": "2024-10-18T20:35:14.029Z"
   },
   {
    "duration": 11,
    "start_time": "2024-10-18T20:35:21.484Z"
   },
   {
    "duration": 5,
    "start_time": "2024-10-18T20:36:31.602Z"
   },
   {
    "duration": 11,
    "start_time": "2024-10-18T20:46:06.615Z"
   },
   {
    "duration": 442,
    "start_time": "2024-10-18T20:46:23.676Z"
   },
   {
    "duration": 441,
    "start_time": "2024-10-18T20:47:08.162Z"
   },
   {
    "duration": 450,
    "start_time": "2024-10-18T20:47:15.525Z"
   },
   {
    "duration": 448,
    "start_time": "2024-10-18T20:47:24.375Z"
   },
   {
    "duration": 465,
    "start_time": "2024-10-18T20:47:45.895Z"
   },
   {
    "duration": 442,
    "start_time": "2024-10-18T20:48:24.860Z"
   },
   {
    "duration": 5,
    "start_time": "2024-10-18T20:48:44.633Z"
   },
   {
    "duration": 6,
    "start_time": "2024-10-18T20:48:52.219Z"
   },
   {
    "duration": 450,
    "start_time": "2024-10-18T20:49:55.434Z"
   },
   {
    "duration": 3,
    "start_time": "2024-10-18T20:50:24.130Z"
   },
   {
    "duration": 504,
    "start_time": "2024-10-18T20:50:45.643Z"
   },
   {
    "duration": 132,
    "start_time": "2024-10-18T21:20:29.593Z"
   },
   {
    "duration": 105,
    "start_time": "2024-10-18T21:20:49.056Z"
   },
   {
    "duration": 96,
    "start_time": "2024-10-18T21:21:34.887Z"
   },
   {
    "duration": 118,
    "start_time": "2024-10-18T21:21:55.513Z"
   },
   {
    "duration": 122,
    "start_time": "2024-10-18T21:22:13.150Z"
   },
   {
    "duration": 13,
    "start_time": "2024-10-18T21:23:48.297Z"
   },
   {
    "duration": 20,
    "start_time": "2024-10-18T21:24:11.110Z"
   },
   {
    "duration": 207,
    "start_time": "2024-10-18T21:24:36.214Z"
   },
   {
    "duration": 191,
    "start_time": "2024-10-18T21:24:45.884Z"
   },
   {
    "duration": 114,
    "start_time": "2024-10-18T21:25:10.635Z"
   },
   {
    "duration": 97,
    "start_time": "2024-10-18T21:26:13.968Z"
   },
   {
    "duration": 228,
    "start_time": "2024-10-18T21:26:48.744Z"
   },
   {
    "duration": 379,
    "start_time": "2024-10-18T21:27:18.677Z"
   },
   {
    "duration": 392,
    "start_time": "2024-10-18T21:27:34.858Z"
   },
   {
    "duration": 390,
    "start_time": "2024-10-18T21:27:45.506Z"
   },
   {
    "duration": 371,
    "start_time": "2024-10-18T21:28:59.361Z"
   },
   {
    "duration": 2,
    "start_time": "2024-10-18T21:29:41.896Z"
   },
   {
    "duration": 5,
    "start_time": "2024-10-18T21:29:55.901Z"
   },
   {
    "duration": 153,
    "start_time": "2024-10-18T21:50:37.418Z"
   },
   {
    "duration": 457,
    "start_time": "2024-10-18T21:51:32.053Z"
   },
   {
    "duration": 13,
    "start_time": "2024-10-18T21:55:33.056Z"
   },
   {
    "duration": 41,
    "start_time": "2024-10-18T21:55:38.153Z"
   },
   {
    "duration": 41,
    "start_time": "2024-10-18T21:56:20.615Z"
   },
   {
    "duration": 4,
    "start_time": "2024-10-18T22:00:47.184Z"
   },
   {
    "duration": 1314,
    "start_time": "2024-10-18T22:01:00.181Z"
   },
   {
    "duration": 2030,
    "start_time": "2024-10-18T22:03:00.913Z"
   },
   {
    "duration": 13,
    "start_time": "2024-10-18T22:03:47.353Z"
   },
   {
    "duration": 1243,
    "start_time": "2024-10-18T22:04:10.659Z"
   },
   {
    "duration": 1233,
    "start_time": "2024-10-18T22:04:15.122Z"
   },
   {
    "duration": 1414,
    "start_time": "2024-10-18T22:04:27.562Z"
   },
   {
    "duration": 91,
    "start_time": "2024-10-18T22:05:03.644Z"
   },
   {
    "duration": 1307,
    "start_time": "2024-10-18T22:06:26.536Z"
   },
   {
    "duration": 1323,
    "start_time": "2024-10-18T22:06:42.653Z"
   },
   {
    "duration": 2096,
    "start_time": "2024-10-18T23:23:48.848Z"
   },
   {
    "duration": 1055,
    "start_time": "2024-10-18T23:23:52.596Z"
   },
   {
    "duration": 18,
    "start_time": "2024-10-18T23:23:54.943Z"
   },
   {
    "duration": 13,
    "start_time": "2024-10-18T23:23:58.036Z"
   },
   {
    "duration": 13,
    "start_time": "2024-10-18T23:24:00.917Z"
   },
   {
    "duration": 12,
    "start_time": "2024-10-18T23:24:03.475Z"
   },
   {
    "duration": 13,
    "start_time": "2024-10-18T23:24:07.019Z"
   },
   {
    "duration": 195,
    "start_time": "2024-10-18T23:24:17.813Z"
   },
   {
    "duration": 12,
    "start_time": "2024-10-18T23:24:24.195Z"
   },
   {
    "duration": 106,
    "start_time": "2024-10-18T23:24:27.662Z"
   },
   {
    "duration": 95,
    "start_time": "2024-10-18T23:24:28.974Z"
   },
   {
    "duration": 82,
    "start_time": "2024-10-18T23:24:30.332Z"
   },
   {
    "duration": 14,
    "start_time": "2024-10-18T23:24:48.605Z"
   },
   {
    "duration": 8,
    "start_time": "2024-10-18T23:24:50.557Z"
   },
   {
    "duration": 21,
    "start_time": "2024-10-18T23:24:53.100Z"
   },
   {
    "duration": 23,
    "start_time": "2024-10-18T23:24:54.129Z"
   },
   {
    "duration": 4,
    "start_time": "2024-10-18T23:24:57.297Z"
   },
   {
    "duration": 5,
    "start_time": "2024-10-18T23:24:58.456Z"
   },
   {
    "duration": 4,
    "start_time": "2024-10-18T23:25:01.893Z"
   },
   {
    "duration": 14,
    "start_time": "2024-10-18T23:25:03.122Z"
   },
   {
    "duration": 794,
    "start_time": "2024-10-18T23:25:06.206Z"
   },
   {
    "duration": 1211,
    "start_time": "2024-10-18T23:25:12.605Z"
   },
   {
    "duration": 5,
    "start_time": "2024-10-18T23:25:16.534Z"
   },
   {
    "duration": 7,
    "start_time": "2024-10-18T23:25:18.366Z"
   },
   {
    "duration": 7,
    "start_time": "2024-10-18T23:25:20.425Z"
   },
   {
    "duration": 8,
    "start_time": "2024-10-18T23:25:22.295Z"
   },
   {
    "duration": 11,
    "start_time": "2024-10-18T23:25:24.482Z"
   },
   {
    "duration": 4,
    "start_time": "2024-10-18T23:25:26.625Z"
   },
   {
    "duration": 12,
    "start_time": "2024-10-18T23:25:28.831Z"
   },
   {
    "duration": 8,
    "start_time": "2024-10-18T23:25:30.604Z"
   },
   {
    "duration": 29,
    "start_time": "2024-10-18T23:25:32.662Z"
   },
   {
    "duration": 240,
    "start_time": "2024-10-18T23:25:57.681Z"
   },
   {
    "duration": 7,
    "start_time": "2024-10-18T23:25:59.984Z"
   },
   {
    "duration": 38,
    "start_time": "2024-10-18T23:26:01.332Z"
   },
   {
    "duration": 38,
    "start_time": "2024-10-18T23:26:06.472Z"
   },
   {
    "duration": 6,
    "start_time": "2024-10-18T23:26:20.552Z"
   },
   {
    "duration": 5,
    "start_time": "2024-10-18T23:26:22.673Z"
   },
   {
    "duration": 6,
    "start_time": "2024-10-18T23:27:32.498Z"
   },
   {
    "duration": 6,
    "start_time": "2024-10-18T23:27:35.177Z"
   },
   {
    "duration": 5,
    "start_time": "2024-10-18T23:27:46.875Z"
   },
   {
    "duration": 618,
    "start_time": "2024-10-18T23:27:57.992Z"
   },
   {
    "duration": 460,
    "start_time": "2024-10-18T23:28:06.288Z"
   },
   {
    "duration": 627,
    "start_time": "2024-10-18T23:31:52.626Z"
   },
   {
    "duration": 406,
    "start_time": "2024-10-18T23:36:10.405Z"
   },
   {
    "duration": 936,
    "start_time": "2024-10-18T23:36:45.990Z"
   },
   {
    "duration": 99,
    "start_time": "2024-10-18T23:38:53.370Z"
   },
   {
    "duration": 101,
    "start_time": "2024-10-18T23:39:35.319Z"
   },
   {
    "duration": 112,
    "start_time": "2024-10-18T23:40:36.249Z"
   },
   {
    "duration": 110,
    "start_time": "2024-10-18T23:40:52.852Z"
   },
   {
    "duration": 119,
    "start_time": "2024-10-18T23:41:31.480Z"
   },
   {
    "duration": 108,
    "start_time": "2024-10-18T23:41:40.805Z"
   },
   {
    "duration": 115,
    "start_time": "2024-10-18T23:41:45.947Z"
   },
   {
    "duration": 452,
    "start_time": "2024-10-18T23:46:53.072Z"
   },
   {
    "duration": 5,
    "start_time": "2024-10-18T23:47:04.644Z"
   },
   {
    "duration": 471,
    "start_time": "2024-10-18T23:47:43.554Z"
   },
   {
    "duration": 1275,
    "start_time": "2024-10-18T23:50:38.707Z"
   },
   {
    "duration": 100,
    "start_time": "2024-10-18T23:51:12.483Z"
   },
   {
    "duration": 2895,
    "start_time": "2024-10-21T20:44:29.052Z"
   },
   {
    "duration": 1246,
    "start_time": "2024-10-21T20:44:33.301Z"
   },
   {
    "duration": 20,
    "start_time": "2024-10-21T20:44:35.655Z"
   },
   {
    "duration": 16,
    "start_time": "2024-10-21T20:44:39.061Z"
   },
   {
    "duration": 27,
    "start_time": "2024-10-21T20:44:41.408Z"
   },
   {
    "duration": 13,
    "start_time": "2024-10-21T20:44:43.880Z"
   },
   {
    "duration": 12,
    "start_time": "2024-10-21T20:44:46.282Z"
   },
   {
    "duration": 266,
    "start_time": "2024-10-21T20:44:52.293Z"
   },
   {
    "duration": 12,
    "start_time": "2024-10-21T20:45:09.765Z"
   },
   {
    "duration": 135,
    "start_time": "2024-10-21T20:45:14.296Z"
   },
   {
    "duration": 91,
    "start_time": "2024-10-21T20:45:16.448Z"
   },
   {
    "duration": 93,
    "start_time": "2024-10-21T20:45:18.255Z"
   },
   {
    "duration": 14,
    "start_time": "2024-10-21T20:45:20.632Z"
   },
   {
    "duration": 7,
    "start_time": "2024-10-21T20:45:22.272Z"
   },
   {
    "duration": 20,
    "start_time": "2024-10-21T20:45:24.555Z"
   },
   {
    "duration": 49,
    "start_time": "2024-10-21T20:45:25.997Z"
   },
   {
    "duration": 3,
    "start_time": "2024-10-21T20:45:29.075Z"
   },
   {
    "duration": 7,
    "start_time": "2024-10-21T20:45:30.088Z"
   },
   {
    "duration": 5,
    "start_time": "2024-10-21T20:45:33.370Z"
   },
   {
    "duration": 5,
    "start_time": "2024-10-21T20:45:34.538Z"
   },
   {
    "duration": 805,
    "start_time": "2024-10-21T20:45:37.039Z"
   },
   {
    "duration": 1365,
    "start_time": "2024-10-21T20:45:41.103Z"
   },
   {
    "duration": 12,
    "start_time": "2024-10-21T20:45:47.924Z"
   },
   {
    "duration": 6,
    "start_time": "2024-10-21T20:45:50.200Z"
   },
   {
    "duration": 7,
    "start_time": "2024-10-21T20:45:52.659Z"
   },
   {
    "duration": 7,
    "start_time": "2024-10-21T20:45:54.890Z"
   },
   {
    "duration": 11,
    "start_time": "2024-10-21T20:45:57.165Z"
   },
   {
    "duration": 4,
    "start_time": "2024-10-21T20:45:59.804Z"
   },
   {
    "duration": 12,
    "start_time": "2024-10-21T20:46:01.859Z"
   },
   {
    "duration": 7,
    "start_time": "2024-10-21T20:46:04.196Z"
   },
   {
    "duration": 44,
    "start_time": "2024-10-21T20:46:05.487Z"
   },
   {
    "duration": 6,
    "start_time": "2024-10-21T20:46:07.766Z"
   },
   {
    "duration": 41,
    "start_time": "2024-10-21T20:46:08.787Z"
   },
   {
    "duration": 43,
    "start_time": "2024-10-21T20:46:11.776Z"
   },
   {
    "duration": 4,
    "start_time": "2024-10-21T20:46:18.169Z"
   },
   {
    "duration": 4,
    "start_time": "2024-10-21T20:46:21.436Z"
   },
   {
    "duration": 6,
    "start_time": "2024-10-21T20:46:35.103Z"
   },
   {
    "duration": 11,
    "start_time": "2024-10-21T20:46:37.820Z"
   },
   {
    "duration": 12,
    "start_time": "2024-10-21T20:46:43.028Z"
   },
   {
    "duration": 666,
    "start_time": "2024-10-21T20:46:47.532Z"
   },
   {
    "duration": 523,
    "start_time": "2024-10-21T20:46:53.132Z"
   },
   {
    "duration": 639,
    "start_time": "2024-10-21T20:47:03.258Z"
   },
   {
    "duration": 128,
    "start_time": "2024-10-21T20:47:05.107Z"
   },
   {
    "duration": 449,
    "start_time": "2024-10-21T20:47:19.859Z"
   },
   {
    "duration": 7,
    "start_time": "2024-10-21T20:47:23.275Z"
   },
   {
    "duration": 491,
    "start_time": "2024-10-21T20:47:32.444Z"
   },
   {
    "duration": 1446,
    "start_time": "2024-10-21T20:47:40.298Z"
   },
   {
    "duration": 95,
    "start_time": "2024-10-21T20:47:48.398Z"
   },
   {
    "duration": 242,
    "start_time": "2024-10-21T21:01:50.255Z"
   },
   {
    "duration": 162,
    "start_time": "2024-10-21T21:01:59.806Z"
   },
   {
    "duration": 63,
    "start_time": "2024-10-21T21:02:17.776Z"
   },
   {
    "duration": 71,
    "start_time": "2024-10-21T21:02:25.164Z"
   },
   {
    "duration": 43,
    "start_time": "2024-10-21T21:02:39.316Z"
   },
   {
    "duration": 51,
    "start_time": "2024-10-21T21:03:12.081Z"
   },
   {
    "duration": 229,
    "start_time": "2024-10-21T21:03:28.659Z"
   },
   {
    "duration": 208,
    "start_time": "2024-10-21T21:04:00.371Z"
   },
   {
    "duration": 208,
    "start_time": "2024-10-21T21:04:25.633Z"
   },
   {
    "duration": 198,
    "start_time": "2024-10-21T21:05:13.397Z"
   },
   {
    "duration": 198,
    "start_time": "2024-10-21T21:05:23.592Z"
   },
   {
    "duration": 203,
    "start_time": "2024-10-21T21:05:49.732Z"
   },
   {
    "duration": 211,
    "start_time": "2024-10-21T21:36:54.882Z"
   },
   {
    "duration": 247,
    "start_time": "2024-10-21T21:38:59.132Z"
   },
   {
    "duration": 2,
    "start_time": "2024-10-21T21:39:04.985Z"
   },
   {
    "duration": 26,
    "start_time": "2024-10-21T21:39:28.409Z"
   },
   {
    "duration": 2180,
    "start_time": "2024-10-22T07:21:11.810Z"
   },
   {
    "duration": 1019,
    "start_time": "2024-10-22T07:21:13.992Z"
   },
   {
    "duration": 18,
    "start_time": "2024-10-22T07:21:15.013Z"
   },
   {
    "duration": 14,
    "start_time": "2024-10-22T07:21:15.034Z"
   },
   {
    "duration": 13,
    "start_time": "2024-10-22T07:21:15.050Z"
   },
   {
    "duration": 11,
    "start_time": "2024-10-22T07:21:15.289Z"
   },
   {
    "duration": 10,
    "start_time": "2024-10-22T07:21:15.504Z"
   },
   {
    "duration": 180,
    "start_time": "2024-10-22T07:21:36.062Z"
   },
   {
    "duration": 11,
    "start_time": "2024-10-22T07:21:39.472Z"
   },
   {
    "duration": 111,
    "start_time": "2024-10-22T07:21:42.380Z"
   },
   {
    "duration": 87,
    "start_time": "2024-10-22T07:21:42.636Z"
   },
   {
    "duration": 81,
    "start_time": "2024-10-22T07:21:42.818Z"
   },
   {
    "duration": 11,
    "start_time": "2024-10-22T07:21:53.795Z"
   },
   {
    "duration": 7,
    "start_time": "2024-10-22T07:21:54.499Z"
   },
   {
    "duration": 20,
    "start_time": "2024-10-22T07:21:55.215Z"
   },
   {
    "duration": 19,
    "start_time": "2024-10-22T07:21:56.917Z"
   },
   {
    "duration": 4,
    "start_time": "2024-10-22T07:22:18.519Z"
   },
   {
    "duration": 5,
    "start_time": "2024-10-22T07:22:20.067Z"
   },
   {
    "duration": 3,
    "start_time": "2024-10-22T07:22:20.887Z"
   },
   {
    "duration": 5,
    "start_time": "2024-10-22T07:22:21.026Z"
   },
   {
    "duration": 729,
    "start_time": "2024-10-22T07:22:21.706Z"
   },
   {
    "duration": 1154,
    "start_time": "2024-10-22T07:22:22.436Z"
   },
   {
    "duration": 5,
    "start_time": "2024-10-22T07:22:43.421Z"
   },
   {
    "duration": 6,
    "start_time": "2024-10-22T07:22:43.760Z"
   },
   {
    "duration": 6,
    "start_time": "2024-10-22T07:22:46.725Z"
   },
   {
    "duration": 9,
    "start_time": "2024-10-22T07:22:48.985Z"
   },
   {
    "duration": 11,
    "start_time": "2024-10-22T07:22:50.846Z"
   },
   {
    "duration": 4,
    "start_time": "2024-10-22T07:23:01.939Z"
   },
   {
    "duration": 12,
    "start_time": "2024-10-22T07:23:02.194Z"
   },
   {
    "duration": 7,
    "start_time": "2024-10-22T07:23:38.216Z"
   },
   {
    "duration": 30,
    "start_time": "2024-10-22T07:23:38.425Z"
   },
   {
    "duration": 6,
    "start_time": "2024-10-22T07:23:40.250Z"
   },
   {
    "duration": 38,
    "start_time": "2024-10-22T07:23:41.513Z"
   },
   {
    "duration": 22,
    "start_time": "2024-10-22T07:24:42.627Z"
   },
   {
    "duration": 36,
    "start_time": "2024-10-22T07:24:57.246Z"
   },
   {
    "duration": 4,
    "start_time": "2024-10-22T07:25:08.986Z"
   },
   {
    "duration": 3,
    "start_time": "2024-10-22T07:25:09.519Z"
   },
   {
    "duration": 451,
    "start_time": "2024-10-22T07:27:26.320Z"
   },
   {
    "duration": 1040,
    "start_time": "2024-10-22T07:27:26.773Z"
   },
   {
    "duration": 17,
    "start_time": "2024-10-22T07:27:27.815Z"
   },
   {
    "duration": 13,
    "start_time": "2024-10-22T07:27:27.834Z"
   },
   {
    "duration": 11,
    "start_time": "2024-10-22T07:27:27.848Z"
   },
   {
    "duration": 10,
    "start_time": "2024-10-22T07:27:27.861Z"
   },
   {
    "duration": 38,
    "start_time": "2024-10-22T07:27:27.873Z"
   },
   {
    "duration": 183,
    "start_time": "2024-10-22T07:27:30.999Z"
   },
   {
    "duration": 12,
    "start_time": "2024-10-22T07:27:31.262Z"
   },
   {
    "duration": 102,
    "start_time": "2024-10-22T07:27:31.581Z"
   },
   {
    "duration": 82,
    "start_time": "2024-10-22T07:27:31.721Z"
   },
   {
    "duration": 74,
    "start_time": "2024-10-22T07:27:31.894Z"
   },
   {
    "duration": 12,
    "start_time": "2024-10-22T07:27:32.754Z"
   },
   {
    "duration": 7,
    "start_time": "2024-10-22T07:27:32.934Z"
   },
   {
    "duration": 21,
    "start_time": "2024-10-22T07:27:33.113Z"
   },
   {
    "duration": 18,
    "start_time": "2024-10-22T07:27:33.271Z"
   },
   {
    "duration": 3,
    "start_time": "2024-10-22T07:27:34.022Z"
   },
   {
    "duration": 4,
    "start_time": "2024-10-22T07:27:34.239Z"
   },
   {
    "duration": 4,
    "start_time": "2024-10-22T07:27:35.206Z"
   },
   {
    "duration": 4,
    "start_time": "2024-10-22T07:27:35.436Z"
   },
   {
    "duration": 726,
    "start_time": "2024-10-22T07:27:36.797Z"
   },
   {
    "duration": 1146,
    "start_time": "2024-10-22T07:27:37.526Z"
   },
   {
    "duration": 5,
    "start_time": "2024-10-22T07:27:38.675Z"
   },
   {
    "duration": 6,
    "start_time": "2024-10-22T07:27:38.839Z"
   },
   {
    "duration": 7,
    "start_time": "2024-10-22T07:27:39.399Z"
   },
   {
    "duration": 8,
    "start_time": "2024-10-22T07:27:39.792Z"
   },
   {
    "duration": 10,
    "start_time": "2024-10-22T07:27:40.225Z"
   },
   {
    "duration": 3,
    "start_time": "2024-10-22T07:27:41.878Z"
   },
   {
    "duration": 11,
    "start_time": "2024-10-22T07:27:42.046Z"
   },
   {
    "duration": 7,
    "start_time": "2024-10-22T07:27:43.296Z"
   },
   {
    "duration": 37,
    "start_time": "2024-10-22T07:27:43.717Z"
   },
   {
    "duration": 6,
    "start_time": "2024-10-22T07:27:44.144Z"
   },
   {
    "duration": 37,
    "start_time": "2024-10-22T07:27:44.971Z"
   },
   {
    "duration": 37,
    "start_time": "2024-10-22T07:27:45.814Z"
   },
   {
    "duration": 4,
    "start_time": "2024-10-22T07:27:49.996Z"
   },
   {
    "duration": 4,
    "start_time": "2024-10-22T07:27:50.181Z"
   },
   {
    "duration": 6,
    "start_time": "2024-10-22T07:27:58.747Z"
   },
   {
    "duration": 5,
    "start_time": "2024-10-22T07:27:59.507Z"
   },
   {
    "duration": 832,
    "start_time": "2024-10-22T07:27:59.742Z"
   },
   {
    "duration": 224,
    "start_time": "2024-10-22T07:28:03.667Z"
   },
   {
    "duration": 5,
    "start_time": "2024-10-22T07:28:15.003Z"
   },
   {
    "duration": 710,
    "start_time": "2024-10-22T07:28:15.629Z"
   },
   {
    "duration": 677,
    "start_time": "2024-10-22T07:28:18.990Z"
   },
   {
    "duration": 451,
    "start_time": "2024-10-22T07:28:21.681Z"
   },
   {
    "duration": 218,
    "start_time": "2024-10-22T07:28:22.135Z"
   },
   {
    "duration": 596,
    "start_time": "2024-10-22T07:28:24.374Z"
   },
   {
    "duration": 105,
    "start_time": "2024-10-22T07:28:26.239Z"
   },
   {
    "duration": 448,
    "start_time": "2024-10-22T07:28:29.493Z"
   },
   {
    "duration": 429,
    "start_time": "2024-10-22T07:28:38.960Z"
   },
   {
    "duration": 5,
    "start_time": "2024-10-22T07:28:39.636Z"
   },
   {
    "duration": 153,
    "start_time": "2024-10-22T07:28:40.175Z"
   },
   {
    "duration": 458,
    "start_time": "2024-10-22T07:28:47.699Z"
   },
   {
    "duration": 1289,
    "start_time": "2024-10-22T07:28:53.335Z"
   },
   {
    "duration": 104,
    "start_time": "2024-10-22T07:28:54.627Z"
   },
   {
    "duration": 314,
    "start_time": "2024-10-22T07:28:54.928Z"
   },
   {
    "duration": 5,
    "start_time": "2024-10-22T07:28:55.244Z"
   },
   {
    "duration": 147,
    "start_time": "2024-10-22T07:28:58.572Z"
   },
   {
    "duration": 185,
    "start_time": "2024-10-22T07:31:48.963Z"
   },
   {
    "duration": 13048,
    "start_time": "2024-10-22T07:33:54.709Z"
   },
   {
    "duration": 122,
    "start_time": "2024-10-22T07:35:17.112Z"
   },
   {
    "duration": 218,
    "start_time": "2024-10-22T07:36:01.559Z"
   },
   {
    "duration": 215,
    "start_time": "2024-10-22T07:36:54.909Z"
   },
   {
    "duration": 149,
    "start_time": "2024-10-22T07:38:24.440Z"
   },
   {
    "duration": 342,
    "start_time": "2024-10-22T07:39:45.558Z"
   },
   {
    "duration": 2111,
    "start_time": "2024-10-26T17:54:17.770Z"
   },
   {
    "duration": 1013,
    "start_time": "2024-10-26T17:54:21.687Z"
   },
   {
    "duration": 18,
    "start_time": "2024-10-26T17:54:24.192Z"
   },
   {
    "duration": 13,
    "start_time": "2024-10-26T17:54:27.360Z"
   },
   {
    "duration": 12,
    "start_time": "2024-10-26T17:54:30.782Z"
   },
   {
    "duration": 11,
    "start_time": "2024-10-26T17:54:33.359Z"
   },
   {
    "duration": 12,
    "start_time": "2024-10-26T17:54:35.595Z"
   },
   {
    "duration": 187,
    "start_time": "2024-10-26T17:54:41.255Z"
   },
   {
    "duration": 12,
    "start_time": "2024-10-26T17:54:44.471Z"
   },
   {
    "duration": 106,
    "start_time": "2024-10-26T17:54:47.935Z"
   },
   {
    "duration": 86,
    "start_time": "2024-10-26T17:54:50.240Z"
   },
   {
    "duration": 89,
    "start_time": "2024-10-26T17:54:51.234Z"
   },
   {
    "duration": 13,
    "start_time": "2024-10-26T17:54:53.751Z"
   },
   {
    "duration": 8,
    "start_time": "2024-10-26T17:54:54.762Z"
   },
   {
    "duration": 20,
    "start_time": "2024-10-26T17:54:57.371Z"
   },
   {
    "duration": 21,
    "start_time": "2024-10-26T17:54:58.504Z"
   },
   {
    "duration": 4,
    "start_time": "2024-10-26T17:55:00.917Z"
   },
   {
    "duration": 4,
    "start_time": "2024-10-26T17:55:02.138Z"
   },
   {
    "duration": 6,
    "start_time": "2024-10-26T17:55:07.201Z"
   },
   {
    "duration": 782,
    "start_time": "2024-10-26T17:55:10.598Z"
   },
   {
    "duration": 1192,
    "start_time": "2024-10-26T17:55:12.627Z"
   },
   {
    "duration": 5,
    "start_time": "2024-10-26T17:55:20.169Z"
   },
   {
    "duration": 6,
    "start_time": "2024-10-26T17:55:22.147Z"
   },
   {
    "duration": 7,
    "start_time": "2024-10-26T17:55:26.307Z"
   },
   {
    "duration": 10,
    "start_time": "2024-10-26T17:55:29.876Z"
   },
   {
    "duration": 11,
    "start_time": "2024-10-26T17:55:33.497Z"
   },
   {
    "duration": 3,
    "start_time": "2024-10-26T17:55:38.550Z"
   },
   {
    "duration": 12,
    "start_time": "2024-10-26T17:55:39.792Z"
   },
   {
    "duration": 8,
    "start_time": "2024-10-26T17:55:43.642Z"
   },
   {
    "duration": 31,
    "start_time": "2024-10-26T17:55:47.308Z"
   },
   {
    "duration": 6,
    "start_time": "2024-10-26T17:55:51.389Z"
   },
   {
    "duration": 7,
    "start_time": "2024-10-26T17:55:56.133Z"
   },
   {
    "duration": 39,
    "start_time": "2024-10-26T17:57:03.274Z"
   },
   {
    "duration": 5,
    "start_time": "2024-10-26T17:58:04.636Z"
   },
   {
    "duration": 4,
    "start_time": "2024-10-26T17:58:14.937Z"
   },
   {
    "duration": 38,
    "start_time": "2024-10-26T17:59:32.906Z"
   },
   {
    "duration": 39,
    "start_time": "2024-10-26T17:59:45.886Z"
   },
   {
    "duration": 57,
    "start_time": "2024-10-26T17:59:56.980Z"
   },
   {
    "duration": 38,
    "start_time": "2024-10-26T18:00:23.007Z"
   },
   {
    "duration": 33,
    "start_time": "2024-10-26T18:00:38.839Z"
   },
   {
    "duration": 27,
    "start_time": "2024-10-26T18:01:17.579Z"
   },
   {
    "duration": 4,
    "start_time": "2024-10-26T18:01:30.856Z"
   },
   {
    "duration": 5,
    "start_time": "2024-10-26T18:01:33.171Z"
   },
   {
    "duration": 13,
    "start_time": "2024-10-26T18:07:14.685Z"
   },
   {
    "duration": 827,
    "start_time": "2024-10-26T18:10:00.316Z"
   },
   {
    "duration": 158,
    "start_time": "2024-10-26T18:11:25.292Z"
   },
   {
    "duration": 208,
    "start_time": "2024-10-26T18:13:35.498Z"
   },
   {
    "duration": 180,
    "start_time": "2024-10-26T18:13:59.054Z"
   },
   {
    "duration": 10,
    "start_time": "2024-10-26T18:18:39.502Z"
   },
   {
    "duration": 130,
    "start_time": "2024-10-26T18:20:59.083Z"
   },
   {
    "duration": 141,
    "start_time": "2024-10-26T18:21:16.693Z"
   },
   {
    "duration": 125,
    "start_time": "2024-10-26T18:21:47.830Z"
   },
   {
    "duration": 123,
    "start_time": "2024-10-26T18:22:24.939Z"
   },
   {
    "duration": 120,
    "start_time": "2024-10-26T18:22:53.385Z"
   },
   {
    "duration": 131,
    "start_time": "2024-10-26T18:23:00.086Z"
   },
   {
    "duration": 130,
    "start_time": "2024-10-26T18:23:12.844Z"
   },
   {
    "duration": 204,
    "start_time": "2024-10-26T18:25:40.554Z"
   },
   {
    "duration": 14,
    "start_time": "2024-10-26T18:42:03.307Z"
   },
   {
    "duration": 225,
    "start_time": "2024-10-26T18:44:06.961Z"
   },
   {
    "duration": 5,
    "start_time": "2024-10-26T18:48:52.777Z"
   },
   {
    "duration": 6,
    "start_time": "2024-10-26T18:48:56.539Z"
   },
   {
    "duration": 12,
    "start_time": "2024-10-26T18:52:54.058Z"
   },
   {
    "duration": 5,
    "start_time": "2024-10-26T18:53:08.323Z"
   },
   {
    "duration": 18,
    "start_time": "2024-10-26T18:54:31.170Z"
   },
   {
    "duration": 193,
    "start_time": "2024-10-26T18:55:04.464Z"
   },
   {
    "duration": 126,
    "start_time": "2024-10-26T18:55:18.261Z"
   },
   {
    "duration": 211,
    "start_time": "2024-10-26T18:55:34.013Z"
   },
   {
    "duration": 3,
    "start_time": "2024-10-26T18:55:47.686Z"
   },
   {
    "duration": 7,
    "start_time": "2024-10-26T18:55:57.730Z"
   },
   {
    "duration": 5,
    "start_time": "2024-10-26T18:56:21.728Z"
   },
   {
    "duration": 7,
    "start_time": "2024-10-26T18:56:38.231Z"
   },
   {
    "duration": 7,
    "start_time": "2024-10-26T18:56:46.807Z"
   },
   {
    "duration": 192,
    "start_time": "2024-10-26T19:00:27.336Z"
   },
   {
    "duration": 197,
    "start_time": "2024-10-26T19:01:27.203Z"
   },
   {
    "duration": 198,
    "start_time": "2024-10-26T19:06:18.507Z"
   },
   {
    "duration": 35,
    "start_time": "2024-10-26T19:11:58.402Z"
   },
   {
    "duration": 19,
    "start_time": "2024-10-26T19:12:44.141Z"
   },
   {
    "duration": 21,
    "start_time": "2024-10-26T19:13:10.339Z"
   },
   {
    "duration": 28,
    "start_time": "2024-10-26T19:27:27.629Z"
   },
   {
    "duration": 22,
    "start_time": "2024-10-26T19:27:43.586Z"
   },
   {
    "duration": 457,
    "start_time": "2024-10-26T19:27:52.226Z"
   },
   {
    "duration": 25,
    "start_time": "2024-10-26T19:28:17.851Z"
   },
   {
    "duration": 298,
    "start_time": "2024-10-26T19:31:43.498Z"
   },
   {
    "duration": 368,
    "start_time": "2024-10-26T19:36:56.514Z"
   },
   {
    "duration": 599,
    "start_time": "2024-10-26T19:38:18.936Z"
   },
   {
    "duration": 475,
    "start_time": "2024-10-26T19:40:25.844Z"
   },
   {
    "duration": 69,
    "start_time": "2024-10-26T19:41:14.847Z"
   },
   {
    "duration": 2489,
    "start_time": "2024-10-26T21:58:51.255Z"
   },
   {
    "duration": 1134,
    "start_time": "2024-10-26T21:58:53.746Z"
   },
   {
    "duration": 17,
    "start_time": "2024-10-26T21:58:54.882Z"
   },
   {
    "duration": 14,
    "start_time": "2024-10-26T21:58:58.337Z"
   },
   {
    "duration": 15,
    "start_time": "2024-10-26T21:59:07.360Z"
   },
   {
    "duration": 12,
    "start_time": "2024-10-26T21:59:10.956Z"
   },
   {
    "duration": 11,
    "start_time": "2024-10-26T21:59:13.038Z"
   },
   {
    "duration": 209,
    "start_time": "2024-10-26T21:59:19.529Z"
   },
   {
    "duration": 16,
    "start_time": "2024-10-26T21:59:22.221Z"
   },
   {
    "duration": 138,
    "start_time": "2024-10-26T21:59:25.003Z"
   },
   {
    "duration": 105,
    "start_time": "2024-10-26T21:59:26.137Z"
   },
   {
    "duration": 81,
    "start_time": "2024-10-26T21:59:28.325Z"
   },
   {
    "duration": 23,
    "start_time": "2024-10-26T21:59:30.721Z"
   },
   {
    "duration": 8,
    "start_time": "2024-10-26T21:59:31.798Z"
   },
   {
    "duration": 18,
    "start_time": "2024-10-26T21:59:34.283Z"
   },
   {
    "duration": 35,
    "start_time": "2024-10-26T21:59:35.317Z"
   },
   {
    "duration": 3,
    "start_time": "2024-10-26T21:59:38.152Z"
   },
   {
    "duration": 4,
    "start_time": "2024-10-26T21:59:39.232Z"
   },
   {
    "duration": 9,
    "start_time": "2024-10-26T21:59:42.425Z"
   },
   {
    "duration": 11,
    "start_time": "2024-10-26T21:59:47.201Z"
   },
   {
    "duration": 926,
    "start_time": "2024-10-26T21:59:50.860Z"
   },
   {
    "duration": 1375,
    "start_time": "2024-10-26T21:59:55.378Z"
   },
   {
    "duration": 3,
    "start_time": "2024-10-26T22:00:30.933Z"
   },
   {
    "duration": 2,
    "start_time": "2024-10-26T22:01:02.605Z"
   },
   {
    "duration": 907,
    "start_time": "2024-10-26T22:01:03.733Z"
   },
   {
    "duration": 14,
    "start_time": "2024-10-26T22:01:05.834Z"
   },
   {
    "duration": 14,
    "start_time": "2024-10-26T22:01:07.758Z"
   },
   {
    "duration": 11,
    "start_time": "2024-10-26T22:01:10.733Z"
   },
   {
    "duration": 12,
    "start_time": "2024-10-26T22:01:12.856Z"
   },
   {
    "duration": 11,
    "start_time": "2024-10-26T22:01:15.379Z"
   },
   {
    "duration": 179,
    "start_time": "2024-10-26T22:01:20.104Z"
   },
   {
    "duration": 10,
    "start_time": "2024-10-26T22:01:23.036Z"
   },
   {
    "duration": 103,
    "start_time": "2024-10-26T22:01:25.634Z"
   },
   {
    "duration": 90,
    "start_time": "2024-10-26T22:01:26.599Z"
   },
   {
    "duration": 89,
    "start_time": "2024-10-26T22:01:27.662Z"
   },
   {
    "duration": 15,
    "start_time": "2024-10-26T22:01:30.304Z"
   },
   {
    "duration": 8,
    "start_time": "2024-10-26T22:01:31.363Z"
   },
   {
    "duration": 23,
    "start_time": "2024-10-26T22:01:33.525Z"
   },
   {
    "duration": 22,
    "start_time": "2024-10-26T22:01:34.629Z"
   },
   {
    "duration": 3,
    "start_time": "2024-10-26T22:01:37.301Z"
   },
   {
    "duration": 4,
    "start_time": "2024-10-26T22:01:38.445Z"
   },
   {
    "duration": 4,
    "start_time": "2024-10-26T22:01:40.996Z"
   },
   {
    "duration": 15,
    "start_time": "2024-10-26T22:01:42.713Z"
   },
   {
    "duration": 813,
    "start_time": "2024-10-26T22:01:45.030Z"
   },
   {
    "duration": 1274,
    "start_time": "2024-10-26T22:01:47.324Z"
   },
   {
    "duration": 5,
    "start_time": "2024-10-26T22:02:37.887Z"
   },
   {
    "duration": 7,
    "start_time": "2024-10-26T22:02:39.718Z"
   },
   {
    "duration": 8,
    "start_time": "2024-10-26T22:02:42.569Z"
   },
   {
    "duration": 10,
    "start_time": "2024-10-26T22:02:44.866Z"
   },
   {
    "duration": 19,
    "start_time": "2024-10-26T22:02:47.249Z"
   },
   {
    "duration": 4,
    "start_time": "2024-10-26T22:02:50.069Z"
   },
   {
    "duration": 13,
    "start_time": "2024-10-26T22:02:51.902Z"
   },
   {
    "duration": 10,
    "start_time": "2024-10-26T22:02:54.202Z"
   },
   {
    "duration": 24,
    "start_time": "2024-10-26T22:02:55.826Z"
   },
   {
    "duration": 8,
    "start_time": "2024-10-26T22:02:58.735Z"
   },
   {
    "duration": 39,
    "start_time": "2024-10-26T22:02:59.928Z"
   },
   {
    "duration": 36,
    "start_time": "2024-10-26T22:03:05.353Z"
   },
   {
    "duration": 4,
    "start_time": "2024-10-26T22:05:10.839Z"
   },
   {
    "duration": 5,
    "start_time": "2024-10-26T22:05:12.736Z"
   },
   {
    "duration": 208,
    "start_time": "2024-10-26T22:05:14.901Z"
   },
   {
    "duration": 133,
    "start_time": "2024-10-26T22:05:25.013Z"
   },
   {
    "duration": 257,
    "start_time": "2024-10-26T22:05:58.278Z"
   },
   {
    "duration": 117,
    "start_time": "2024-10-26T22:06:13.223Z"
   },
   {
    "duration": 104,
    "start_time": "2024-10-26T22:06:29.529Z"
   },
   {
    "duration": 204,
    "start_time": "2024-10-26T22:06:33.445Z"
   },
   {
    "duration": 491,
    "start_time": "2024-10-26T22:07:11.094Z"
   },
   {
    "duration": 7,
    "start_time": "2024-10-26T22:07:39.072Z"
   },
   {
    "duration": 233,
    "start_time": "2024-10-26T22:07:49.112Z"
   },
   {
    "duration": 2,
    "start_time": "2024-10-26T22:20:55.428Z"
   },
   {
    "duration": 18,
    "start_time": "2024-10-26T22:31:16.705Z"
   },
   {
    "duration": 32,
    "start_time": "2024-10-26T22:31:22.576Z"
   },
   {
    "duration": 42,
    "start_time": "2024-10-26T22:31:43.525Z"
   },
   {
    "duration": 15,
    "start_time": "2024-10-26T22:34:51.989Z"
   },
   {
    "duration": 145,
    "start_time": "2024-10-26T22:35:01.702Z"
   },
   {
    "duration": 131,
    "start_time": "2024-10-26T22:35:09.191Z"
   },
   {
    "duration": 216,
    "start_time": "2024-10-26T22:35:16.758Z"
   },
   {
    "duration": 135,
    "start_time": "2024-10-26T22:35:25.755Z"
   },
   {
    "duration": 122,
    "start_time": "2024-10-26T22:35:35.398Z"
   },
   {
    "duration": 164,
    "start_time": "2024-10-26T22:35:54.375Z"
   },
   {
    "duration": 147,
    "start_time": "2024-10-26T22:36:59.194Z"
   },
   {
    "duration": 127,
    "start_time": "2024-10-26T22:37:14.089Z"
   },
   {
    "duration": 717,
    "start_time": "2024-10-26T22:39:08.336Z"
   },
   {
    "duration": 19,
    "start_time": "2024-10-26T22:39:17.496Z"
   },
   {
    "duration": 504,
    "start_time": "2024-10-26T22:39:32.729Z"
   },
   {
    "duration": 238,
    "start_time": "2024-10-26T22:39:36.639Z"
   },
   {
    "duration": 780,
    "start_time": "2024-10-26T22:42:40.522Z"
   },
   {
    "duration": 133,
    "start_time": "2024-10-26T22:42:48.750Z"
   },
   {
    "duration": 769,
    "start_time": "2024-10-26T22:43:01.042Z"
   },
   {
    "duration": 145,
    "start_time": "2024-10-26T22:43:24.903Z"
   },
   {
    "duration": 133,
    "start_time": "2024-10-26T22:45:15.272Z"
   },
   {
    "duration": 134,
    "start_time": "2024-10-26T22:46:03.331Z"
   },
   {
    "duration": 116,
    "start_time": "2024-10-26T22:46:11.930Z"
   },
   {
    "duration": 895,
    "start_time": "2024-10-26T22:46:39.524Z"
   },
   {
    "duration": 470,
    "start_time": "2024-10-26T22:49:34.040Z"
   },
   {
    "duration": 1102,
    "start_time": "2024-10-26T22:49:36.549Z"
   },
   {
    "duration": 17,
    "start_time": "2024-10-26T22:49:38.342Z"
   },
   {
    "duration": 14,
    "start_time": "2024-10-26T22:49:41.493Z"
   },
   {
    "duration": 12,
    "start_time": "2024-10-26T22:49:44.126Z"
   },
   {
    "duration": 12,
    "start_time": "2024-10-26T22:49:46.723Z"
   },
   {
    "duration": 11,
    "start_time": "2024-10-26T22:49:49.351Z"
   },
   {
    "duration": 209,
    "start_time": "2024-10-26T22:49:54.207Z"
   },
   {
    "duration": 11,
    "start_time": "2024-10-26T22:49:57.640Z"
   },
   {
    "duration": 107,
    "start_time": "2024-10-26T22:50:01.198Z"
   },
   {
    "duration": 88,
    "start_time": "2024-10-26T22:50:02.698Z"
   },
   {
    "duration": 91,
    "start_time": "2024-10-26T22:50:03.978Z"
   },
   {
    "duration": 14,
    "start_time": "2024-10-26T22:50:08.506Z"
   },
   {
    "duration": 14,
    "start_time": "2024-10-26T22:50:09.755Z"
   },
   {
    "duration": 19,
    "start_time": "2024-10-26T22:50:12.689Z"
   },
   {
    "duration": 22,
    "start_time": "2024-10-26T22:50:14.070Z"
   },
   {
    "duration": 3,
    "start_time": "2024-10-26T22:50:16.504Z"
   },
   {
    "duration": 5,
    "start_time": "2024-10-26T22:50:18.004Z"
   },
   {
    "duration": 4,
    "start_time": "2024-10-26T22:50:20.457Z"
   },
   {
    "duration": 5,
    "start_time": "2024-10-26T22:50:21.422Z"
   },
   {
    "duration": 801,
    "start_time": "2024-10-26T22:50:23.643Z"
   },
   {
    "duration": 1356,
    "start_time": "2024-10-26T22:50:25.661Z"
   },
   {
    "duration": 5,
    "start_time": "2024-10-26T22:50:34.978Z"
   },
   {
    "duration": 6,
    "start_time": "2024-10-26T22:50:36.067Z"
   },
   {
    "duration": 9,
    "start_time": "2024-10-26T22:50:38.122Z"
   },
   {
    "duration": 8,
    "start_time": "2024-10-26T22:50:40.018Z"
   },
   {
    "duration": 13,
    "start_time": "2024-10-26T22:50:42.103Z"
   },
   {
    "duration": 4,
    "start_time": "2024-10-26T22:50:44.496Z"
   },
   {
    "duration": 13,
    "start_time": "2024-10-26T22:50:45.578Z"
   },
   {
    "duration": 8,
    "start_time": "2024-10-26T22:50:49.068Z"
   },
   {
    "duration": 33,
    "start_time": "2024-10-26T22:50:50.007Z"
   },
   {
    "duration": 7,
    "start_time": "2024-10-26T22:50:52.000Z"
   },
   {
    "duration": 41,
    "start_time": "2024-10-26T22:50:52.948Z"
   },
   {
    "duration": 43,
    "start_time": "2024-10-26T22:50:55.972Z"
   },
   {
    "duration": 5,
    "start_time": "2024-10-26T22:50:59.289Z"
   },
   {
    "duration": 4,
    "start_time": "2024-10-26T22:51:02.158Z"
   },
   {
    "duration": 199,
    "start_time": "2024-10-26T22:51:04.228Z"
   },
   {
    "duration": 127,
    "start_time": "2024-10-26T22:51:09.938Z"
   },
   {
    "duration": 219,
    "start_time": "2024-10-26T22:51:14.053Z"
   },
   {
    "duration": 111,
    "start_time": "2024-10-26T22:51:19.807Z"
   },
   {
    "duration": 105,
    "start_time": "2024-10-26T22:51:29.194Z"
   },
   {
    "duration": 232,
    "start_time": "2024-10-26T22:51:32.913Z"
   },
   {
    "duration": 3,
    "start_time": "2024-10-26T22:51:38.959Z"
   },
   {
    "duration": 38,
    "start_time": "2024-10-26T22:51:42.803Z"
   },
   {
    "duration": 125,
    "start_time": "2024-10-26T22:51:45.599Z"
   },
   {
    "duration": 681,
    "start_time": "2024-10-26T22:51:52.056Z"
   },
   {
    "duration": 469,
    "start_time": "2024-10-26T22:51:57.580Z"
   },
   {
    "duration": 217,
    "start_time": "2024-10-26T22:52:01.529Z"
   },
   {
    "duration": 277,
    "start_time": "2024-10-26T22:55:01.994Z"
   },
   {
    "duration": 759,
    "start_time": "2024-10-26T22:55:25.998Z"
   },
   {
    "duration": 196,
    "start_time": "2024-10-26T22:55:29.974Z"
   },
   {
    "duration": 157,
    "start_time": "2024-10-26T22:56:40.629Z"
   },
   {
    "duration": 139,
    "start_time": "2024-10-26T22:56:53.813Z"
   },
   {
    "duration": 155,
    "start_time": "2024-10-26T22:57:03.975Z"
   },
   {
    "duration": 224,
    "start_time": "2024-10-26T22:57:11.932Z"
   },
   {
    "duration": 465,
    "start_time": "2024-10-26T23:04:44.402Z"
   },
   {
    "duration": 6,
    "start_time": "2024-10-26T23:04:54.227Z"
   },
   {
    "duration": 214,
    "start_time": "2024-10-26T23:07:17.570Z"
   },
   {
    "duration": 232,
    "start_time": "2024-10-26T23:08:29.740Z"
   },
   {
    "duration": 77,
    "start_time": "2024-10-26T23:08:51.208Z"
   },
   {
    "duration": 3,
    "start_time": "2024-10-26T23:08:58.562Z"
   },
   {
    "duration": 3,
    "start_time": "2024-10-26T23:09:40.203Z"
   },
   {
    "duration": 480,
    "start_time": "2024-10-26T23:09:54.180Z"
   },
   {
    "duration": 1390,
    "start_time": "2024-10-26T23:11:32.294Z"
   },
   {
    "duration": 1315,
    "start_time": "2024-10-26T23:15:40.943Z"
   },
   {
    "duration": 1300,
    "start_time": "2024-10-26T23:16:10.613Z"
   },
   {
    "duration": 433,
    "start_time": "2024-10-26T23:18:20.004Z"
   },
   {
    "duration": 1020,
    "start_time": "2024-10-26T23:18:21.114Z"
   },
   {
    "duration": 17,
    "start_time": "2024-10-26T23:18:22.386Z"
   },
   {
    "duration": 16,
    "start_time": "2024-10-26T23:18:25.800Z"
   },
   {
    "duration": 13,
    "start_time": "2024-10-26T23:18:28.472Z"
   },
   {
    "duration": 11,
    "start_time": "2024-10-26T23:18:31.585Z"
   },
   {
    "duration": 12,
    "start_time": "2024-10-26T23:18:33.706Z"
   },
   {
    "duration": 199,
    "start_time": "2024-10-26T23:18:39.210Z"
   },
   {
    "duration": 12,
    "start_time": "2024-10-26T23:18:42.081Z"
   },
   {
    "duration": 126,
    "start_time": "2024-10-26T23:18:45.669Z"
   },
   {
    "duration": 138,
    "start_time": "2024-10-26T23:18:47.165Z"
   },
   {
    "duration": 94,
    "start_time": "2024-10-26T23:18:48.564Z"
   },
   {
    "duration": 12,
    "start_time": "2024-10-26T23:19:05.573Z"
   },
   {
    "duration": 10,
    "start_time": "2024-10-26T23:19:07.200Z"
   },
   {
    "duration": 23,
    "start_time": "2024-10-26T23:19:10.353Z"
   },
   {
    "duration": 19,
    "start_time": "2024-10-26T23:19:12.841Z"
   },
   {
    "duration": 5,
    "start_time": "2024-10-26T23:19:17.178Z"
   },
   {
    "duration": 4,
    "start_time": "2024-10-26T23:19:18.284Z"
   },
   {
    "duration": 4,
    "start_time": "2024-10-26T23:19:21.582Z"
   },
   {
    "duration": 6,
    "start_time": "2024-10-26T23:19:29.407Z"
   },
   {
    "duration": 882,
    "start_time": "2024-10-26T23:19:32.414Z"
   },
   {
    "duration": 1518,
    "start_time": "2024-10-26T23:19:34.544Z"
   },
   {
    "duration": 5,
    "start_time": "2024-10-26T23:19:41.310Z"
   },
   {
    "duration": 7,
    "start_time": "2024-10-26T23:19:44.823Z"
   },
   {
    "duration": 7,
    "start_time": "2024-10-26T23:19:49.495Z"
   },
   {
    "duration": 9,
    "start_time": "2024-10-26T23:19:51.863Z"
   },
   {
    "duration": 12,
    "start_time": "2024-10-26T23:19:54.166Z"
   },
   {
    "duration": 4,
    "start_time": "2024-10-26T23:19:57.260Z"
   },
   {
    "duration": 13,
    "start_time": "2024-10-26T23:19:59.155Z"
   },
   {
    "duration": 8,
    "start_time": "2024-10-26T23:20:01.459Z"
   },
   {
    "duration": 34,
    "start_time": "2024-10-26T23:20:02.618Z"
   },
   {
    "duration": 6,
    "start_time": "2024-10-26T23:20:05.151Z"
   },
   {
    "duration": 39,
    "start_time": "2024-10-26T23:20:08.731Z"
   },
   {
    "duration": 38,
    "start_time": "2024-10-26T23:20:12.653Z"
   },
   {
    "duration": 5,
    "start_time": "2024-10-26T23:20:17.275Z"
   },
   {
    "duration": 4,
    "start_time": "2024-10-26T23:20:18.397Z"
   },
   {
    "duration": 209,
    "start_time": "2024-10-26T23:20:20.889Z"
   },
   {
    "duration": 134,
    "start_time": "2024-10-26T23:20:26.463Z"
   },
   {
    "duration": 210,
    "start_time": "2024-10-26T23:20:38.691Z"
   },
   {
    "duration": 97,
    "start_time": "2024-10-26T23:20:46.824Z"
   },
   {
    "duration": 99,
    "start_time": "2024-10-26T23:20:50.198Z"
   },
   {
    "duration": 231,
    "start_time": "2024-10-26T23:20:53.938Z"
   },
   {
    "duration": 249,
    "start_time": "2024-10-26T23:21:15.106Z"
   },
   {
    "duration": 3,
    "start_time": "2024-10-26T23:21:19.114Z"
   },
   {
    "duration": 39,
    "start_time": "2024-10-26T23:21:26.479Z"
   },
   {
    "duration": 180,
    "start_time": "2024-10-26T23:21:28.943Z"
   },
   {
    "duration": 708,
    "start_time": "2024-10-26T23:21:33.334Z"
   },
   {
    "duration": 473,
    "start_time": "2024-10-26T23:21:37.470Z"
   },
   {
    "duration": 237,
    "start_time": "2024-10-26T23:21:41.448Z"
   },
   {
    "duration": 753,
    "start_time": "2024-10-26T23:21:47.086Z"
   },
   {
    "duration": 193,
    "start_time": "2024-10-26T23:21:52.596Z"
   },
   {
    "duration": 233,
    "start_time": "2024-10-26T23:22:01.420Z"
   },
   {
    "duration": 448,
    "start_time": "2024-10-26T23:22:11.588Z"
   },
   {
    "duration": 5,
    "start_time": "2024-10-26T23:22:15.449Z"
   },
   {
    "duration": 237,
    "start_time": "2024-10-26T23:22:18.704Z"
   },
   {
    "duration": 486,
    "start_time": "2024-10-26T23:23:42.486Z"
   },
   {
    "duration": 471,
    "start_time": "2024-10-26T23:24:41.479Z"
   },
   {
    "duration": 6,
    "start_time": "2024-10-26T23:27:06.198Z"
   },
   {
    "duration": 5,
    "start_time": "2024-10-26T23:27:20.473Z"
   },
   {
    "duration": 735,
    "start_time": "2024-10-26T23:36:26.414Z"
   },
   {
    "duration": 126,
    "start_time": "2024-10-26T23:36:49.086Z"
   },
   {
    "duration": 118,
    "start_time": "2024-10-26T23:37:25.066Z"
   },
   {
    "duration": 1418,
    "start_time": "2024-10-26T23:49:46.094Z"
   },
   {
    "duration": 93,
    "start_time": "2024-10-26T23:51:51.091Z"
   },
   {
    "duration": 417,
    "start_time": "2024-10-26T23:54:17.190Z"
   },
   {
    "duration": 1044,
    "start_time": "2024-10-26T23:54:18.295Z"
   },
   {
    "duration": 18,
    "start_time": "2024-10-26T23:54:19.371Z"
   },
   {
    "duration": 15,
    "start_time": "2024-10-26T23:54:22.631Z"
   },
   {
    "duration": 12,
    "start_time": "2024-10-26T23:54:25.500Z"
   },
   {
    "duration": 12,
    "start_time": "2024-10-26T23:54:28.502Z"
   },
   {
    "duration": 12,
    "start_time": "2024-10-26T23:54:30.863Z"
   },
   {
    "duration": 212,
    "start_time": "2024-10-26T23:54:35.879Z"
   },
   {
    "duration": 12,
    "start_time": "2024-10-26T23:54:38.654Z"
   },
   {
    "duration": 121,
    "start_time": "2024-10-26T23:54:41.319Z"
   },
   {
    "duration": 99,
    "start_time": "2024-10-26T23:54:42.893Z"
   },
   {
    "duration": 93,
    "start_time": "2024-10-26T23:54:43.977Z"
   },
   {
    "duration": 14,
    "start_time": "2024-10-26T23:54:48.427Z"
   },
   {
    "duration": 8,
    "start_time": "2024-10-26T23:54:50.670Z"
   },
   {
    "duration": 20,
    "start_time": "2024-10-26T23:54:53.638Z"
   },
   {
    "duration": 22,
    "start_time": "2024-10-26T23:54:54.908Z"
   },
   {
    "duration": 4,
    "start_time": "2024-10-26T23:54:58.615Z"
   },
   {
    "duration": 4,
    "start_time": "2024-10-26T23:54:59.793Z"
   },
   {
    "duration": 4,
    "start_time": "2024-10-26T23:55:03.052Z"
   },
   {
    "duration": 5,
    "start_time": "2024-10-26T23:55:05.076Z"
   },
   {
    "duration": 864,
    "start_time": "2024-10-26T23:55:08.305Z"
   },
   {
    "duration": 1280,
    "start_time": "2024-10-26T23:55:12.250Z"
   },
   {
    "duration": 5,
    "start_time": "2024-10-26T23:55:16.981Z"
   },
   {
    "duration": 7,
    "start_time": "2024-10-26T23:55:18.024Z"
   },
   {
    "duration": 7,
    "start_time": "2024-10-26T23:55:20.822Z"
   },
   {
    "duration": 9,
    "start_time": "2024-10-26T23:55:24.986Z"
   },
   {
    "duration": 14,
    "start_time": "2024-10-26T23:55:27.416Z"
   },
   {
    "duration": 3,
    "start_time": "2024-10-26T23:55:29.675Z"
   },
   {
    "duration": 12,
    "start_time": "2024-10-26T23:55:31.936Z"
   },
   {
    "duration": 8,
    "start_time": "2024-10-26T23:55:34.016Z"
   },
   {
    "duration": 33,
    "start_time": "2024-10-26T23:55:35.102Z"
   },
   {
    "duration": 7,
    "start_time": "2024-10-26T23:55:37.207Z"
   },
   {
    "duration": 40,
    "start_time": "2024-10-26T23:55:38.305Z"
   },
   {
    "duration": 41,
    "start_time": "2024-10-26T23:55:42.618Z"
   },
   {
    "duration": 4,
    "start_time": "2024-10-26T23:55:49.738Z"
   },
   {
    "duration": 4,
    "start_time": "2024-10-26T23:55:51.406Z"
   },
   {
    "duration": 196,
    "start_time": "2024-10-26T23:55:53.548Z"
   },
   {
    "duration": 125,
    "start_time": "2024-10-26T23:55:59.158Z"
   },
   {
    "duration": 208,
    "start_time": "2024-10-26T23:56:08.894Z"
   },
   {
    "duration": 100,
    "start_time": "2024-10-26T23:56:18.300Z"
   },
   {
    "duration": 98,
    "start_time": "2024-10-26T23:56:22.138Z"
   },
   {
    "duration": 233,
    "start_time": "2024-10-26T23:56:30.401Z"
   },
   {
    "duration": 3,
    "start_time": "2024-10-26T23:56:36.801Z"
   },
   {
    "duration": 38,
    "start_time": "2024-10-26T23:56:40.860Z"
   },
   {
    "duration": 128,
    "start_time": "2024-10-26T23:56:43.301Z"
   },
   {
    "duration": 721,
    "start_time": "2024-10-26T23:56:46.973Z"
   },
   {
    "duration": 453,
    "start_time": "2024-10-26T23:56:52.154Z"
   },
   {
    "duration": 224,
    "start_time": "2024-10-26T23:56:56.285Z"
   },
   {
    "duration": 631,
    "start_time": "2024-10-26T23:57:01.338Z"
   },
   {
    "duration": 201,
    "start_time": "2024-10-26T23:57:04.524Z"
   },
   {
    "duration": 314,
    "start_time": "2024-10-26T23:57:07.522Z"
   },
   {
    "duration": 428,
    "start_time": "2024-10-26T23:57:12.492Z"
   },
   {
    "duration": 6,
    "start_time": "2024-10-26T23:58:27.459Z"
   },
   {
    "duration": 220,
    "start_time": "2024-10-26T23:58:30.167Z"
   },
   {
    "duration": 469,
    "start_time": "2024-10-26T23:58:35.951Z"
   },
   {
    "duration": 116,
    "start_time": "2024-10-26T23:58:39.919Z"
   },
   {
    "duration": 1402,
    "start_time": "2024-10-26T23:58:48.198Z"
   },
   {
    "duration": 101,
    "start_time": "2024-10-26T23:58:53.953Z"
   },
   {
    "duration": 3074,
    "start_time": "2024-10-27T00:00:37.973Z"
   },
   {
    "duration": 3165,
    "start_time": "2024-10-27T00:00:58.168Z"
   },
   {
    "duration": 337,
    "start_time": "2024-10-27T00:02:34.690Z"
   },
   {
    "duration": 356,
    "start_time": "2024-10-27T00:05:06.032Z"
   },
   {
    "duration": 6,
    "start_time": "2024-10-27T00:05:10.516Z"
   },
   {
    "duration": 8,
    "start_time": "2024-10-27T00:07:49.533Z"
   },
   {
    "duration": 239,
    "start_time": "2024-10-27T00:08:06.899Z"
   },
   {
    "duration": 5,
    "start_time": "2024-10-27T00:11:31.807Z"
   },
   {
    "duration": 472,
    "start_time": "2024-10-27T19:23:27.837Z"
   },
   {
    "duration": 937,
    "start_time": "2024-10-27T19:23:28.311Z"
   },
   {
    "duration": 18,
    "start_time": "2024-10-27T19:23:29.250Z"
   },
   {
    "duration": 12,
    "start_time": "2024-10-27T19:23:29.270Z"
   },
   {
    "duration": 31,
    "start_time": "2024-10-27T19:23:29.284Z"
   },
   {
    "duration": 11,
    "start_time": "2024-10-27T19:23:29.318Z"
   },
   {
    "duration": 10,
    "start_time": "2024-10-27T19:23:29.330Z"
   },
   {
    "duration": 194,
    "start_time": "2024-10-27T19:23:30.312Z"
   },
   {
    "duration": 11,
    "start_time": "2024-10-27T19:23:30.650Z"
   },
   {
    "duration": 121,
    "start_time": "2024-10-27T19:23:31.051Z"
   },
   {
    "duration": 96,
    "start_time": "2024-10-27T19:23:31.222Z"
   },
   {
    "duration": 96,
    "start_time": "2024-10-27T19:23:31.403Z"
   },
   {
    "duration": 15,
    "start_time": "2024-10-27T19:23:32.165Z"
   },
   {
    "duration": 8,
    "start_time": "2024-10-27T19:23:32.351Z"
   },
   {
    "duration": 21,
    "start_time": "2024-10-27T19:23:32.528Z"
   },
   {
    "duration": 18,
    "start_time": "2024-10-27T19:23:32.712Z"
   },
   {
    "duration": 4,
    "start_time": "2024-10-27T19:23:33.494Z"
   },
   {
    "duration": 4,
    "start_time": "2024-10-27T19:23:33.685Z"
   },
   {
    "duration": 4,
    "start_time": "2024-10-27T19:23:34.254Z"
   },
   {
    "duration": 5,
    "start_time": "2024-10-27T19:23:34.454Z"
   },
   {
    "duration": 887,
    "start_time": "2024-10-27T19:23:35.032Z"
   },
   {
    "duration": 1558,
    "start_time": "2024-10-27T19:23:35.921Z"
   },
   {
    "duration": 5,
    "start_time": "2024-10-27T19:23:37.482Z"
   },
   {
    "duration": 24,
    "start_time": "2024-10-27T19:23:37.489Z"
   },
   {
    "duration": 7,
    "start_time": "2024-10-27T19:23:37.516Z"
   },
   {
    "duration": 9,
    "start_time": "2024-10-27T19:23:37.525Z"
   },
   {
    "duration": 14,
    "start_time": "2024-10-27T19:23:37.716Z"
   },
   {
    "duration": 4,
    "start_time": "2024-10-27T19:23:38.500Z"
   },
   {
    "duration": 12,
    "start_time": "2024-10-27T19:23:38.710Z"
   },
   {
    "duration": 7,
    "start_time": "2024-10-27T19:23:39.487Z"
   },
   {
    "duration": 33,
    "start_time": "2024-10-27T19:23:39.678Z"
   },
   {
    "duration": 7,
    "start_time": "2024-10-27T19:23:40.058Z"
   },
   {
    "duration": 39,
    "start_time": "2024-10-27T19:23:40.258Z"
   },
   {
    "duration": 48,
    "start_time": "2024-10-27T19:23:41.332Z"
   },
   {
    "duration": 4,
    "start_time": "2024-10-27T19:23:43.258Z"
   },
   {
    "duration": 4,
    "start_time": "2024-10-27T19:23:43.656Z"
   },
   {
    "duration": 204,
    "start_time": "2024-10-27T19:23:44.594Z"
   },
   {
    "duration": 124,
    "start_time": "2024-10-27T19:24:14.852Z"
   },
   {
    "duration": 216,
    "start_time": "2024-10-27T19:24:19.730Z"
   },
   {
    "duration": 102,
    "start_time": "2024-10-27T19:24:26.602Z"
   },
   {
    "duration": 113,
    "start_time": "2024-10-27T19:24:30.219Z"
   },
   {
    "duration": 245,
    "start_time": "2024-10-27T19:24:38.712Z"
   },
   {
    "duration": 42,
    "start_time": "2024-10-27T19:24:48.098Z"
   },
   {
    "duration": 123,
    "start_time": "2024-10-27T19:24:50.030Z"
   },
   {
    "duration": 707,
    "start_time": "2024-10-27T19:24:53.778Z"
   },
   {
    "duration": 441,
    "start_time": "2024-10-27T19:24:54.836Z"
   },
   {
    "duration": 214,
    "start_time": "2024-10-27T19:24:56.792Z"
   },
   {
    "duration": 1100,
    "start_time": "2024-10-27T19:24:58.765Z"
   },
   {
    "duration": 202,
    "start_time": "2024-10-27T19:24:59.867Z"
   },
   {
    "duration": 277,
    "start_time": "2024-10-27T19:25:00.070Z"
   },
   {
    "duration": 435,
    "start_time": "2024-10-27T19:25:05.615Z"
   },
   {
    "duration": 5,
    "start_time": "2024-10-27T19:25:06.103Z"
   },
   {
    "duration": 209,
    "start_time": "2024-10-27T19:25:08.228Z"
   },
   {
    "duration": 2,
    "start_time": "2024-10-27T19:25:08.440Z"
   },
   {
    "duration": 460,
    "start_time": "2024-10-27T19:25:11.727Z"
   },
   {
    "duration": 114,
    "start_time": "2024-10-27T19:25:13.799Z"
   },
   {
    "duration": 1450,
    "start_time": "2024-10-27T19:25:15.994Z"
   },
   {
    "duration": 246,
    "start_time": "2024-10-27T19:25:17.447Z"
   },
   {
    "duration": 341,
    "start_time": "2024-10-27T19:25:37.451Z"
   },
   {
    "duration": 6,
    "start_time": "2024-10-27T19:25:38.214Z"
   },
   {
    "duration": 239,
    "start_time": "2024-10-27T19:25:40.885Z"
   }
  ],
  "colab": {
   "provenance": []
  },
  "kernelspec": {
   "display_name": "Python 3 (ipykernel)",
   "language": "python",
   "name": "python3"
  },
  "language_info": {
   "codemirror_mode": {
    "name": "ipython",
    "version": 3
   },
   "file_extension": ".py",
   "mimetype": "text/x-python",
   "name": "python",
   "nbconvert_exporter": "python",
   "pygments_lexer": "ipython3",
   "version": "3.9.19"
  },
  "toc": {
   "base_numbering": 1,
   "nav_menu": {},
   "number_sections": true,
   "sideBar": true,
   "skip_h1_title": true,
   "title_cell": "Table of Contents",
   "title_sidebar": "Contents",
   "toc_cell": false,
   "toc_position": {},
   "toc_section_display": true,
   "toc_window_display": false
  },
  "vscode": {
   "interpreter": {
    "hash": "01a7be9ec63e704a62cefc5fe7a4756944464ee731be31632bdf42a4cb4688cf"
   }
  }
 },
 "nbformat": 4,
 "nbformat_minor": 5
}
